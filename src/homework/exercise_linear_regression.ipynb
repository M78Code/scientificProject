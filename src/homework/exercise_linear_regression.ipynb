{
 "cells": [
  {
   "cell_type": "markdown",
   "id": "0672b281",
   "metadata": {},
   "source": [
    "## 线性回归作业\n",
    "### 气温会随着海拔高度的升高而降低，我们可以通过测量不同海拔高度的气温来预测海拔高度和气温的关系。\n",
    "### 假设海拔高度和气温的关系可以使用如下公式表达：y(气温) = w * x(海拔) + b\n",
    "### 理论上来讲，确定以上公式w和b的值只需在两个不同高度测试，就可以算出来w和b的值了。\n",
    "### 但是由于所有的设备都是有误差的，而使用更多的高度测试的值可以使得预测的值更加准确。\n",
    "### 下面提供了在9个不同高度测量的气温值，请根据（正规方程）方法预测w和b的值。根据这个公式，预测一下在8000m的海拔，气温会是多少？\n",
    "####    height       temperature\n",
    "####    0.0             12.834044\n",
    "####    500.0         10.190649\n",
    "####    1000.0       5.500229\n",
    "####    1500.0       2.854665\n",
    "####    2000.0       -0.706488\n",
    "####    2500.0       -4.065323\n",
    "####    3000.0       -7.127480\n",
    "####    3500.0       -10.058879\n",
    "####    4000.0       -13.206465"
   ]
  },
  {
   "cell_type": "code",
   "execution_count": 7,
   "id": "d198585e",
   "metadata": {
    "collapsed": true,
    "jupyter": {
     "outputs_hidden": true
    }
   },
   "outputs": [
    {
     "data": {
      "text/plain": [
       "{'height': 'temperature',\n",
       " '0.0   ': '12.834044',\n",
       " '500.0 ': '10.190649',\n",
       " '1000.0': '5.500229',\n",
       " '1500.0': '2.854665',\n",
       " '2000.0': '-0.706488',\n",
       " '2500.0': '-4.065323',\n",
       " '3000.0': '-7.127480',\n",
       " '3500.0': '-10.058879',\n",
       " '4000.0': '-13.206465'}"
      ]
     },
     "execution_count": 7,
     "metadata": {},
     "output_type": "execute_result"
    }
   ],
   "source": [
    "import numpy as np\n",
    "\n",
    "height_temperature_map = {\"height\": \"temperature\",\n",
    "                          \"0.0   \":  \"12.834044\",\n",
    "                          \"500.0 \": \"10.190649\",\n",
    "                          \"1000.0\":  \"5.500229\",\n",
    "                          \"1500.0\": \"2.854665\",\n",
    "                          \"2000.0\": \"-0.706488\",\n",
    "                          \"2500.0\": \"-4.065323\",\n",
    "                          \"3000.0\": \"-7.127480\",\n",
    "                          \"3500.0\": \"-10.058879\",\n",
    "                          \"4000.0\": \"-13.206465\",\n",
    "                         }\n",
    "height_temperature_map"
   ]
  },
  {
   "cell_type": "code",
   "execution_count": 40,
   "id": "c6a112b4",
   "metadata": {},
   "outputs": [
    {
     "data": {
      "text/plain": [
       "array([[   0,  500, 1000, 1500, 2000, 2500, 3000, 3500, 4000]])"
      ]
     },
     "execution_count": 40,
     "metadata": {},
     "output_type": "execute_result"
    }
   ],
   "source": [
    "X = np.array([[0, 500, 1000, 1500, 2000, 2500, 3000, 3500, 4000]])\n",
    "X"
   ]
  },
  {
   "cell_type": "code",
   "execution_count": 41,
   "id": "d7e01101",
   "metadata": {},
   "outputs": [
    {
     "data": {
      "text/plain": [
       "(1, 9)"
      ]
     },
     "execution_count": 41,
     "metadata": {},
     "output_type": "execute_result"
    }
   ],
   "source": [
    "X.shape"
   ]
  },
  {
   "cell_type": "code",
   "execution_count": 42,
   "id": "bf3598cc",
   "metadata": {},
   "outputs": [
    {
     "data": {
      "text/plain": [
       "array([[ 12.834044,  10.190649,   5.500229,   2.854665,  -0.706488,\n",
       "         -4.065323,  -7.12748 , -10.058879, -13.206465]])"
      ]
     },
     "execution_count": 42,
     "metadata": {},
     "output_type": "execute_result"
    }
   ],
   "source": [
    "y = np.array([[12.834044, 10.190649, 5.500229, 2.854665, -0.706488, -4.065323, -7.127480, -10.058879, -13.206465]])\n",
    "y"
   ]
  },
  {
   "cell_type": "code",
   "execution_count": 43,
   "id": "3aa63451",
   "metadata": {},
   "outputs": [
    {
     "data": {
      "text/plain": [
       "(1, 9)"
      ]
     },
     "execution_count": 43,
     "metadata": {},
     "output_type": "execute_result"
    }
   ],
   "source": [
    "y.shape"
   ]
  },
  {
   "cell_type": "markdown",
   "id": "56a54e1c",
   "metadata": {},
   "source": [
    "### 方法一，用正规方程解答"
   ]
  },
  {
   "cell_type": "code",
   "execution_count": 44,
   "id": "d6cfab53",
   "metadata": {},
   "outputs": [
    {
     "data": {
      "text/plain": [
       "array([[       0,        0,        0,        0,        0,        0,\n",
       "               0,        0,        0],\n",
       "       [       0,   250000,   500000,   750000,  1000000,  1250000,\n",
       "         1500000,  1750000,  2000000],\n",
       "       [       0,   500000,  1000000,  1500000,  2000000,  2500000,\n",
       "         3000000,  3500000,  4000000],\n",
       "       [       0,   750000,  1500000,  2250000,  3000000,  3750000,\n",
       "         4500000,  5250000,  6000000],\n",
       "       [       0,  1000000,  2000000,  3000000,  4000000,  5000000,\n",
       "         6000000,  7000000,  8000000],\n",
       "       [       0,  1250000,  2500000,  3750000,  5000000,  6250000,\n",
       "         7500000,  8750000, 10000000],\n",
       "       [       0,  1500000,  3000000,  4500000,  6000000,  7500000,\n",
       "         9000000, 10500000, 12000000],\n",
       "       [       0,  1750000,  3500000,  5250000,  7000000,  8750000,\n",
       "        10500000, 12250000, 14000000],\n",
       "       [       0,  2000000,  4000000,  6000000,  8000000, 10000000,\n",
       "        12000000, 14000000, 16000000]])"
      ]
     },
     "execution_count": 44,
     "metadata": {},
     "output_type": "execute_result"
    }
   ],
   "source": [
    "A = X.T.dot(X)\n",
    "A"
   ]
  },
  {
   "cell_type": "code",
   "execution_count": 45,
   "id": "46815043",
   "metadata": {},
   "outputs": [
    {
     "ename": "LinAlgError",
     "evalue": "Singular matrix",
     "output_type": "error",
     "traceback": [
      "\u001b[0;31m---------------------------------------------------------------------------\u001b[0m",
      "\u001b[0;31mLinAlgError\u001b[0m                               Traceback (most recent call last)",
      "Cell \u001b[0;32mIn[45], line 1\u001b[0m\n\u001b[0;32m----> 1\u001b[0m w \u001b[38;5;241m=\u001b[39m np\u001b[38;5;241m.\u001b[39mlinalg\u001b[38;5;241m.\u001b[39minv(X\u001b[38;5;241m.\u001b[39mT\u001b[38;5;241m.\u001b[39mdot(X))\u001b[38;5;241m.\u001b[39mdot(X\u001b[38;5;241m.\u001b[39mT)\u001b[38;5;241m.\u001b[39mdot(y)\n\u001b[1;32m      2\u001b[0m w\n",
      "File \u001b[0;32m/opt/homebrew/anaconda3/lib/python3.11/site-packages/numpy/linalg/linalg.py:561\u001b[0m, in \u001b[0;36minv\u001b[0;34m(a)\u001b[0m\n\u001b[1;32m    559\u001b[0m signature \u001b[38;5;241m=\u001b[39m \u001b[38;5;124m'\u001b[39m\u001b[38;5;124mD->D\u001b[39m\u001b[38;5;124m'\u001b[39m \u001b[38;5;28;01mif\u001b[39;00m isComplexType(t) \u001b[38;5;28;01melse\u001b[39;00m \u001b[38;5;124m'\u001b[39m\u001b[38;5;124md->d\u001b[39m\u001b[38;5;124m'\u001b[39m\n\u001b[1;32m    560\u001b[0m extobj \u001b[38;5;241m=\u001b[39m get_linalg_error_extobj(_raise_linalgerror_singular)\n\u001b[0;32m--> 561\u001b[0m ainv \u001b[38;5;241m=\u001b[39m _umath_linalg\u001b[38;5;241m.\u001b[39minv(a, signature\u001b[38;5;241m=\u001b[39msignature, extobj\u001b[38;5;241m=\u001b[39mextobj)\n\u001b[1;32m    562\u001b[0m \u001b[38;5;28;01mreturn\u001b[39;00m wrap(ainv\u001b[38;5;241m.\u001b[39mastype(result_t, copy\u001b[38;5;241m=\u001b[39m\u001b[38;5;28;01mFalse\u001b[39;00m))\n",
      "File \u001b[0;32m/opt/homebrew/anaconda3/lib/python3.11/site-packages/numpy/linalg/linalg.py:112\u001b[0m, in \u001b[0;36m_raise_linalgerror_singular\u001b[0;34m(err, flag)\u001b[0m\n\u001b[1;32m    111\u001b[0m \u001b[38;5;28;01mdef\u001b[39;00m \u001b[38;5;21m_raise_linalgerror_singular\u001b[39m(err, flag):\n\u001b[0;32m--> 112\u001b[0m     \u001b[38;5;28;01mraise\u001b[39;00m LinAlgError(\u001b[38;5;124m\"\u001b[39m\u001b[38;5;124mSingular matrix\u001b[39m\u001b[38;5;124m\"\u001b[39m)\n",
      "\u001b[0;31mLinAlgError\u001b[0m: Singular matrix"
     ]
    }
   ],
   "source": [
    "w = np.linalg.inv(X.T.dot(X)).dot(X.T).dot(y)\n",
    "w"
   ]
  },
  {
   "cell_type": "code",
   "execution_count": null,
   "id": "bd39b8b3",
   "metadata": {},
   "outputs": [],
   "source": []
  }
 ],
 "metadata": {
  "kernelspec": {
   "display_name": "Python 3 (ipykernel)",
   "language": "python",
   "name": "python3"
  },
  "language_info": {
   "codemirror_mode": {
    "name": "ipython",
    "version": 3
   },
   "file_extension": ".py",
   "mimetype": "text/x-python",
   "name": "python",
   "nbconvert_exporter": "python",
   "pygments_lexer": "ipython3",
   "version": "3.8.19"
  }
 },
 "nbformat": 4,
 "nbformat_minor": 5
}
