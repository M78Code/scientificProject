{
 "cells": [
  {
   "cell_type": "code",
   "execution_count": 2,
   "id": "6f9104cc",
   "metadata": {},
   "outputs": [
    {
     "name": "stdout",
     "output_type": "stream",
     "text": [
      "1 2 3 4 "
     ]
    }
   ],
   "source": [
    "l = [1,2,3,4]\n",
    "for x in l:\n",
    "    print(x, end=\" \") # end 放在一行上输出"
   ]
  },
  {
   "cell_type": "code",
   "execution_count": 3,
   "id": "cf2ff28b",
   "metadata": {},
   "outputs": [],
   "source": [
    "# 另一种方式：遍历列表，输出\n",
    "l = [1,2,3,4]\n",
    "m = iter(l) # 迭代器对象"
   ]
  },
  {
   "cell_type": "code",
   "execution_count": 4,
   "id": "d2391d6e",
   "metadata": {},
   "outputs": [
    {
     "data": {
      "text/plain": [
       "1"
      ]
     },
     "execution_count": 4,
     "metadata": {},
     "output_type": "execute_result"
    }
   ],
   "source": [
    "m.__next__()"
   ]
  },
  {
   "cell_type": "code",
   "execution_count": 5,
   "id": "cf674bd8",
   "metadata": {},
   "outputs": [
    {
     "data": {
      "text/plain": [
       "2"
      ]
     },
     "execution_count": 5,
     "metadata": {},
     "output_type": "execute_result"
    }
   ],
   "source": [
    "m.__next__()"
   ]
  },
  {
   "cell_type": "code",
   "execution_count": 6,
   "id": "1adfc58c",
   "metadata": {},
   "outputs": [
    {
     "data": {
      "text/plain": [
       "3"
      ]
     },
     "execution_count": 6,
     "metadata": {},
     "output_type": "execute_result"
    }
   ],
   "source": [
    "m.__next__()"
   ]
  },
  {
   "cell_type": "code",
   "execution_count": 7,
   "id": "024dafc0",
   "metadata": {},
   "outputs": [
    {
     "data": {
      "text/plain": [
       "4"
      ]
     },
     "execution_count": 7,
     "metadata": {},
     "output_type": "execute_result"
    }
   ],
   "source": [
    "m.__next__()"
   ]
  },
  {
   "cell_type": "code",
   "execution_count": 8,
   "id": "54781758",
   "metadata": {},
   "outputs": [
    {
     "ename": "StopIteration",
     "evalue": "",
     "output_type": "error",
     "traceback": [
      "\u001b[0;31m---------------------------------------------------------------------------\u001b[0m",
      "\u001b[0;31mStopIteration\u001b[0m                             Traceback (most recent call last)",
      "Cell \u001b[0;32mIn[8], line 1\u001b[0m\n\u001b[0;32m----> 1\u001b[0m m\u001b[38;5;241m.\u001b[39m\u001b[38;5;21m__next__\u001b[39m()\n",
      "\u001b[0;31mStopIteration\u001b[0m: "
     ]
    }
   ],
   "source": [
    "m.__next__()"
   ]
  },
  {
   "cell_type": "markdown",
   "id": "1758736c",
   "metadata": {},
   "source": [
    "### 手动迭代"
   ]
  },
  {
   "cell_type": "code",
   "execution_count": 9,
   "id": "7d643bf3",
   "metadata": {},
   "outputs": [],
   "source": [
    "# 案例： 字典\n",
    "D = {\"a\":1,\"b\":2,\"c\":3,\"d\":4}"
   ]
  },
  {
   "cell_type": "code",
   "execution_count": 10,
   "id": "c02a2669",
   "metadata": {},
   "outputs": [
    {
     "name": "stdout",
     "output_type": "stream",
     "text": [
      "a  :  1\n",
      "b  :  2\n",
      "c  :  3\n",
      "d  :  4\n"
     ]
    }
   ],
   "source": [
    "# 方式一：\n",
    "for key in D:\n",
    "    print(key, \" : \",D[key])"
   ]
  },
  {
   "cell_type": "code",
   "execution_count": 11,
   "id": "b3762da2",
   "metadata": {},
   "outputs": [
    {
     "name": "stdout",
     "output_type": "stream",
     "text": [
      "a  :  1\n",
      "b  :  2\n",
      "c  :  3\n",
      "d  :  4\n"
     ]
    }
   ],
   "source": [
    "# 方式二\n",
    "for (k, v) in D.items():\n",
    "    print(k, \" : \", v)"
   ]
  },
  {
   "cell_type": "code",
   "execution_count": 12,
   "id": "1097168a",
   "metadata": {},
   "outputs": [],
   "source": [
    "# 方式三\n",
    "I = iter(D) # 将字典变成迭代器"
   ]
  },
  {
   "cell_type": "code",
   "execution_count": 13,
   "id": "7332263e",
   "metadata": {},
   "outputs": [
    {
     "data": {
      "text/plain": [
       "'a'"
      ]
     },
     "execution_count": 13,
     "metadata": {},
     "output_type": "execute_result"
    }
   ],
   "source": [
    "I.__next__() # 实现了迭代协议"
   ]
  },
  {
   "cell_type": "code",
   "execution_count": 14,
   "id": "77ed51dc",
   "metadata": {},
   "outputs": [
    {
     "data": {
      "text/plain": [
       "'b'"
      ]
     },
     "execution_count": 14,
     "metadata": {},
     "output_type": "execute_result"
    }
   ],
   "source": [
    "I.__next__()"
   ]
  },
  {
   "cell_type": "code",
   "execution_count": 15,
   "id": "054270e4",
   "metadata": {},
   "outputs": [
    {
     "data": {
      "text/plain": [
       "'c'"
      ]
     },
     "metadata": {},
     "output_type": "display_data"
    },
    {
     "data": {
      "text/plain": [
       "3"
      ]
     },
     "metadata": {},
     "output_type": "display_data"
    }
   ],
   "source": [
    "key = I.__next__()\n",
    "value = D[key]\n",
    "display(key, value)"
   ]
  },
  {
   "cell_type": "markdown",
   "id": "eb433c71",
   "metadata": {},
   "source": [
    "### range/zip/enumerate\n",
    "\n",
    "### 1. 内置函数：range, 返回一系列连续增加的整数，可作为for中的索引。\n",
    "### 2. 内置函数：zip，返回一系列并行元素的元组，可用于在for中内遍历多个序列\n",
    "### 3. 内置函数：enumerate，同时生成可迭代对象中元素的值和索引，不必手动计数"
   ]
  },
  {
   "cell_type": "markdown",
   "id": "b1e07aed",
   "metadata": {},
   "source": [
    "### 1 range"
   ]
  },
  {
   "cell_type": "code",
   "execution_count": 16,
   "id": "e2a4e770",
   "metadata": {},
   "outputs": [
    {
     "data": {
      "text/plain": [
       "[0, 1, 2, 3, 4]"
      ]
     },
     "execution_count": 16,
     "metadata": {},
     "output_type": "execute_result"
    }
   ],
   "source": [
    "# 1 range 计数器循环\n",
    "list(range(5))"
   ]
  },
  {
   "cell_type": "code",
   "execution_count": 17,
   "id": "ec42b112",
   "metadata": {},
   "outputs": [
    {
     "data": {
      "text/plain": [
       "[2, 3, 4]"
      ]
     },
     "execution_count": 17,
     "metadata": {},
     "output_type": "execute_result"
    }
   ],
   "source": [
    "list(range(2, 5))"
   ]
  },
  {
   "cell_type": "code",
   "execution_count": 18,
   "id": "4fb6b718",
   "metadata": {},
   "outputs": [
    {
     "data": {
      "text/plain": [
       "[0, 2, 4, 6, 8]"
      ]
     },
     "execution_count": 18,
     "metadata": {},
     "output_type": "execute_result"
    }
   ],
   "source": [
    "list(range(0,10,2))"
   ]
  },
  {
   "cell_type": "code",
   "execution_count": 19,
   "id": "668edeab",
   "metadata": {},
   "outputs": [
    {
     "data": {
      "text/plain": [
       "[-3, -2, -1, 0, 1, 2]"
      ]
     },
     "execution_count": 19,
     "metadata": {},
     "output_type": "execute_result"
    }
   ],
   "source": [
    "list(range(-3,3))"
   ]
  },
  {
   "cell_type": "code",
   "execution_count": 20,
   "id": "3d44708a",
   "metadata": {},
   "outputs": [
    {
     "data": {
      "text/plain": [
       "[3, 2, 1, 0, -1, -2]"
      ]
     },
     "execution_count": 20,
     "metadata": {},
     "output_type": "execute_result"
    }
   ],
   "source": [
    "list(range(3,-3,-1))"
   ]
  },
  {
   "cell_type": "code",
   "execution_count": 21,
   "id": "f32de66e",
   "metadata": {},
   "outputs": [
    {
     "data": {
      "text/plain": [
       "[]"
      ]
     },
     "execution_count": 21,
     "metadata": {},
     "output_type": "execute_result"
    }
   ],
   "source": [
    "list(range(3,-3,1))"
   ]
  },
  {
   "cell_type": "code",
   "execution_count": 22,
   "id": "46d6ca72",
   "metadata": {},
   "outputs": [
    {
     "data": {
      "text/plain": [
       "range(1, 5)"
      ]
     },
     "execution_count": 22,
     "metadata": {},
     "output_type": "execute_result"
    }
   ],
   "source": [
    "range(1,5)"
   ]
  },
  {
   "cell_type": "markdown",
   "id": "899e9b75",
   "metadata": {},
   "source": [
    "### 2 zip返回一系列并行元素的元组，可用于在for中内遍历多个序列"
   ]
  },
  {
   "cell_type": "code",
   "execution_count": 23,
   "id": "a8f5833c",
   "metadata": {},
   "outputs": [
    {
     "data": {
      "text/plain": [
       "[(1, 5), (2, 6), (3, 7), (4, 8)]"
      ]
     },
     "execution_count": 23,
     "metadata": {},
     "output_type": "execute_result"
    }
   ],
   "source": [
    "L1 = [1,2,3,4]\n",
    "L2 = [5,6,7,8]\n",
    "list(zip(L1,L2))"
   ]
  },
  {
   "cell_type": "code",
   "execution_count": 24,
   "id": "c40ca478",
   "metadata": {},
   "outputs": [
    {
     "name": "stdout",
     "output_type": "stream",
     "text": [
      "1 + 5  =  6\n",
      "2 + 6  =  8\n",
      "3 + 7  =  10\n",
      "4 + 8  =  12\n"
     ]
    }
   ],
   "source": [
    "for (x,y) in zip(L1,L2):\n",
    "    print(x, \"+\", y, \" = \", x+y)"
   ]
  },
  {
   "cell_type": "code",
   "execution_count": 25,
   "id": "697ecee5",
   "metadata": {},
   "outputs": [
    {
     "data": {
      "text/plain": [
       "[('1', 'x'), ('2', 'y'), ('3', 'z')]"
      ]
     },
     "execution_count": 25,
     "metadata": {},
     "output_type": "execute_result"
    }
   ],
   "source": [
    "# 案例2\n",
    "s1 = \"123\"\n",
    "s2 = \"xyzabc\"\n",
    "list(zip(s1, s2))"
   ]
  },
  {
   "cell_type": "code",
   "execution_count": 28,
   "id": "426e94dd",
   "metadata": {},
   "outputs": [
    {
     "data": {
      "text/plain": [
       "{'name': 'Tommy', 'age': 29, 'city': 'shenzhen'}"
      ]
     },
     "execution_count": 28,
     "metadata": {},
     "output_type": "execute_result"
    }
   ],
   "source": [
    "# 案例3\n",
    "D = {\"name\": \"Tommy\", \"age\":29, \"city\": \"shenzhen\"}\n",
    "D"
   ]
  },
  {
   "cell_type": "code",
   "execution_count": 29,
   "id": "73fee9f3",
   "metadata": {},
   "outputs": [
    {
     "data": {
      "text/plain": [
       "[('city', 'Tommy'), ('name', 29), ('age', 'shenzhen')]"
      ]
     },
     "execution_count": 29,
     "metadata": {},
     "output_type": "execute_result"
    }
   ],
   "source": [
    "# 方式二：构造字典\n",
    "keys = {\"name\",\"age\",\"city\"}\n",
    "values = [\"Tommy\",29,\"shenzhen\"]\n",
    "list(zip(keys, values))"
   ]
  },
  {
   "cell_type": "code",
   "execution_count": 31,
   "id": "5ca6059f",
   "metadata": {},
   "outputs": [
    {
     "data": {
      "text/plain": [
       "{'city': 'Tommy', 'name': 29, 'age': 'shenzhen'}"
      ]
     },
     "execution_count": 31,
     "metadata": {},
     "output_type": "execute_result"
    }
   ],
   "source": [
    "D2 = {}\n",
    "for (k,v) in zip(keys, values):\n",
    "    D2[k] = v\n",
    "D2"
   ]
  },
  {
   "cell_type": "code",
   "execution_count": 32,
   "id": "b475c0a6",
   "metadata": {},
   "outputs": [
    {
     "data": {
      "text/plain": [
       "{'name': 'Tommy', 'age': 29, 'city': 'shenzhen'}"
      ]
     },
     "execution_count": 32,
     "metadata": {},
     "output_type": "execute_result"
    }
   ],
   "source": [
    "# 方式三：构造字典\n",
    "keys = [\"name\",\"age\",\"city\"]\n",
    "values = [\"Tommy\",29,\"shenzhen\"]\n",
    "D3 = dict(zip(keys,values))\n",
    "D3"
   ]
  },
  {
   "cell_type": "markdown",
   "id": "86f2301e",
   "metadata": {},
   "source": [
    "## 3 enumerate"
   ]
  },
  {
   "cell_type": "code",
   "execution_count": 33,
   "id": "347872c9",
   "metadata": {},
   "outputs": [],
   "source": [
    "s1 = \"HelloWorld\""
   ]
  },
  {
   "cell_type": "code",
   "execution_count": 39,
   "id": "fa6636c2",
   "metadata": {},
   "outputs": [
    {
     "name": "stdout",
     "output_type": "stream",
     "text": [
      "0 ---> H\n",
      "1 ---> e\n",
      "2 ---> l\n",
      "3 ---> l\n",
      "4 ---> o\n",
      "5 ---> W\n",
      "6 ---> o\n",
      "7 ---> r\n",
      "8 ---> l\n",
      "9 ---> d\n"
     ]
    }
   ],
   "source": [
    "for (index, item) in enumerate(s1):\n",
    "    print(index,\"--->\",item)"
   ]
  },
  {
   "cell_type": "markdown",
   "id": "0f962a86",
   "metadata": {},
   "source": [
    "## 注意点\n",
    "### 1. zip可以接受任何类型的序列（本质上可以是所有的可迭代对象包括文件）\n",
    "### 2. 通用原则：尽可能使用for而不是while，并且不要在for循环中使用range调用"
   ]
  },
  {
   "cell_type": "markdown",
   "id": "16e96d08",
   "metadata": {},
   "source": [
    "# Python列表推导\n",
    "## 优点：\n",
    "### (1) 列表推导比手动for循环语句运行更快；\n",
    "### (2) 列表推导只需要更少的代码；\n",
    "### (3) 列表推导占用内存少，且大部分工作在解释器内部完成；"
   ]
  },
  {
   "cell_type": "code",
   "execution_count": 40,
   "id": "2f9df6ad",
   "metadata": {},
   "outputs": [
    {
     "data": {
      "text/plain": [
       "[2, 3, 4, 5]"
      ]
     },
     "execution_count": 40,
     "metadata": {},
     "output_type": "execute_result"
    }
   ],
   "source": [
    "l = [1,2,3,4]\n",
    "l = [x + 1 for x in l] # 列表推导速度比for更快\n",
    "l"
   ]
  },
  {
   "cell_type": "code",
   "execution_count": 41,
   "id": "3ce48c1c",
   "metadata": {},
   "outputs": [
    {
     "data": {
      "text/plain": [
       "[2, 3, 4, 5]"
      ]
     },
     "execution_count": 41,
     "metadata": {},
     "output_type": "execute_result"
    }
   ],
   "source": [
    "l = [1,2,3,4]\n",
    "for i in range(len(l)):\n",
    "    l[i] += 1\n",
    "l"
   ]
  },
  {
   "cell_type": "code",
   "execution_count": 42,
   "id": "6f9d02c0",
   "metadata": {},
   "outputs": [
    {
     "data": {
      "text/plain": [
       "['hello', 'world', 'welcome']"
      ]
     },
     "execution_count": 42,
     "metadata": {},
     "output_type": "execute_result"
    }
   ],
   "source": [
    "s = [' hello ', ' world ', ' welcome ']\n",
    "s = [item.strip() for item in s]\n",
    "s"
   ]
  },
  {
   "cell_type": "code",
   "execution_count": 44,
   "id": "67ad918a",
   "metadata": {},
   "outputs": [
    {
     "data": {
      "text/plain": [
       "[11, 20, 13, 23, 30]"
      ]
     },
     "execution_count": 44,
     "metadata": {},
     "output_type": "execute_result"
    }
   ],
   "source": [
    "s = [5,11,8,20,7,13,23,1,30]\n",
    "s = [e for e in s if e >10]\n",
    "s"
   ]
  },
  {
   "cell_type": "code",
   "execution_count": 45,
   "id": "dc4939f0",
   "metadata": {},
   "outputs": [
    {
     "data": {
      "text/plain": [
       "['1a', '1b', '1c', '2a', '2b', '2c', '3a', '3b', '3c']"
      ]
     },
     "execution_count": 45,
     "metadata": {},
     "output_type": "execute_result"
    }
   ],
   "source": [
    "a = [\"1\",'2','3']\n",
    "b = ['a','b','c']\n",
    "# 'a1','a2','a3','b1','b2','b3','c1','c2','c3'\n",
    "[i + j for i in a for j in b]"
   ]
  },
  {
   "cell_type": "code",
   "execution_count": null,
   "id": "e8123341",
   "metadata": {},
   "outputs": [],
   "source": []
  }
 ],
 "metadata": {
  "kernelspec": {
   "display_name": "Python 3 (ipykernel)",
   "language": "python",
   "name": "python3"
  },
  "language_info": {
   "codemirror_mode": {
    "name": "ipython",
    "version": 3
   },
   "file_extension": ".py",
   "mimetype": "text/x-python",
   "name": "python",
   "nbconvert_exporter": "python",
   "pygments_lexer": "ipython3",
   "version": "3.11.7"
  }
 },
 "nbformat": 4,
 "nbformat_minor": 5
}
