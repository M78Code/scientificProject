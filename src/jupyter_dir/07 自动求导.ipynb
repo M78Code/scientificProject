{
 "cells": [
  {
   "cell_type": "code",
   "execution_count": 1,
   "id": "7e7933f4",
   "metadata": {},
   "outputs": [],
   "source": [
    "import torch"
   ]
  },
  {
   "cell_type": "code",
   "execution_count": 2,
   "id": "90c69ca1",
   "metadata": {},
   "outputs": [
    {
     "data": {
      "text/plain": [
       "tensor([0., 1., 2., 3.])"
      ]
     },
     "execution_count": 2,
     "metadata": {},
     "output_type": "execute_result"
    }
   ],
   "source": [
    "x = torch.arange(4.0)\n",
    "x"
   ]
  },
  {
   "cell_type": "markdown",
   "id": "871ec528",
   "metadata": {},
   "source": [
    "# 在计算y关于X的梯度之前，需要一个地方来存储梯度"
   ]
  },
  {
   "cell_type": "code",
   "execution_count": 3,
   "id": "5db726fa",
   "metadata": {},
   "outputs": [],
   "source": [
    "x.requires_grad_(True) # 等价于x = torch.arange(4.0, requires_grad=True)\n",
    "x.grad # 默认值是None"
   ]
  },
  {
   "cell_type": "markdown",
   "id": "407a40d7",
   "metadata": {},
   "source": [
    "# 计算y"
   ]
  },
  {
   "cell_type": "code",
   "execution_count": 4,
   "id": "288c5eeb",
   "metadata": {},
   "outputs": [
    {
     "data": {
      "text/plain": [
       "tensor(28., grad_fn=<MulBackward0>)"
      ]
     },
     "execution_count": 4,
     "metadata": {},
     "output_type": "execute_result"
    }
   ],
   "source": [
    "y = 2 * torch.dot(x, x)\n",
    "y"
   ]
  },
  {
   "cell_type": "code",
   "execution_count": null,
   "id": "498e027c",
   "metadata": {},
   "outputs": [],
   "source": []
  }
 ],
 "metadata": {
  "kernelspec": {
   "display_name": "Python 3 (ipykernel)",
   "language": "python",
   "name": "python3"
  },
  "language_info": {
   "codemirror_mode": {
    "name": "ipython",
    "version": 3
   },
   "file_extension": ".py",
   "mimetype": "text/x-python",
   "name": "python",
   "nbconvert_exporter": "python",
   "pygments_lexer": "ipython3",
   "version": "3.11.7"
  }
 },
 "nbformat": 4,
 "nbformat_minor": 5
}
