{
 "cells": [
  {
   "cell_type": "code",
   "execution_count": 5,
   "id": "0337a7c5-df33-4305-aba3-74b43f8f95e6",
   "metadata": {
    "jp-MarkdownHeadingCollapsed": true
   },
   "outputs": [],
   "source": [
    "import numpy as np\n",
    "import sympy as sym\n",
    "import matplotlib.pyplot as plt\n",
    "\n",
    "plt.rcParams['font.sans-serif'] = ['SimHei']\n",
    "plt.rcParams['axes.unicode_minus'] = False\n",
    "\n",
    "\n",
    "PI = np.pi\n",
    "x = np.linspace(-PI, PI, 1000)\n",
    "\n",
    " \n",
    "#　原始関数 y = x^2\n",
    "x_original = pow(x, 2)\n",
    "\n",
    "# フーリエ級数の第ｎ項\n",
    "def f_(n):\n",
    "    return (-2*PI) * (pow(-1, n) / n) * np.cos(n*x)\n",
    "\n",
    "# フーリエ級数の値を計算する\n",
    "def fourier_series_approximation(t, N):\n",
    "    x_t = np.zeros_like(t)\n",
    "    for n in range(1, N + 1):\n",
    "        x_t += f_(n)\n",
    "    return x_t\n",
    "\n",
    "# 熱方程式関数\n",
    "# def u(x, n):\n",
    "#     return f_(n) * np.cos(n*x) * pow(sym.exp, -n)\n",
    " \n",
    "\n",
    " \n",
    "# 異なる値ｎの波形\n",
    "N_values = [1,3,5]\n",
    "x_approximations = [fourier_series_approximation(t, N) for N in N_values]\n",
    "\n",
    "\n",
    "u_approximations = [u(t, N) for N in N_values]\n",
    "\n",
    "# 波形の図を描く\n",
    "def draw_():\n",
    "    \n",
    "    plt.figure(figsize=(12, 8))\n",
    " \n",
    "    plt.subplot(2, 2, 1)\n",
    "    plt.plot(x, x_original)\n",
    "    plt.title('原始関数')\n",
    "    plt.xlabel('x')\n",
    "    plt.ylabel('f(x)')\n",
    " \n",
    "    for i, N in enumerate(N_values):\n",
    "        plt.subplot(2, 2, i + 2)\n",
    "        plt.plot(x, x_approximations[i], label=f'N = {N}')\n",
    "        plt.title(f'フーリエ級数近似（n = {N}）')\n",
    "        plt.xlabel('時間')\n",
    "        plt.ylabel('振幅')\n",
    " \n",
    "    plt.tight_layout()\n",
    "    plt.show()"
   ]
  },
  {
   "cell_type": "code",
   "execution_count": 1,
   "id": "a821d78b",
   "metadata": {},
   "outputs": [
    {
     "ename": "NameError",
     "evalue": "name 'draw_' is not defined",
     "output_type": "error",
     "traceback": [
      "\u001b[0;31m---------------------------------------------------------------------------\u001b[0m",
      "\u001b[0;31mNameError\u001b[0m                                 Traceback (most recent call last)",
      "Cell \u001b[0;32mIn[1], line 1\u001b[0m\n\u001b[0;32m----> 1\u001b[0m \u001b[43mdraw_\u001b[49m()\n",
      "\u001b[0;31mNameError\u001b[0m: name 'draw_' is not defined"
     ]
    }
   ],
   "source": [
    "draw_()"
   ]
  },
  {
   "cell_type": "code",
   "execution_count": null,
   "id": "b6409171",
   "metadata": {},
   "outputs": [],
   "source": []
  }
 ],
 "metadata": {
  "kernelspec": {
   "display_name": "Python 3 (ipykernel)",
   "language": "python",
   "name": "python3"
  },
  "language_info": {
   "codemirror_mode": {
    "name": "ipython",
    "version": 3
   },
   "file_extension": ".py",
   "mimetype": "text/x-python",
   "name": "python",
   "nbconvert_exporter": "python",
   "pygments_lexer": "ipython3",
   "version": "3.8.19"
  }
 },
 "nbformat": 4,
 "nbformat_minor": 5
}
