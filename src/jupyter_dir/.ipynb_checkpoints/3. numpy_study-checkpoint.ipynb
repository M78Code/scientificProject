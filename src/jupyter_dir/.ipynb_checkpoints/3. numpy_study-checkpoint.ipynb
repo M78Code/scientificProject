{
 "cells": [
  {
   "cell_type": "code",
   "execution_count": 52,
   "id": "c409dbc3",
   "metadata": {},
   "outputs": [],
   "source": [
    "import numpy as np\n",
    "import matplotlib.pyplot as plt"
   ]
  },
  {
   "cell_type": "code",
   "execution_count": 2,
   "id": "3b86d5b4",
   "metadata": {},
   "outputs": [],
   "source": [
    "# 1. 初始numpy\n",
    "score = np.array([[80, 89, 86, 67, 79],\n",
    "[78, 97, 89, 67, 81],\n",
    "[90, 94, 78, 67, 74],\n",
    "[91, 91, 90, 67, 69],\n",
    "[76, 87, 75, 67, 86],\n",
    "[70, 79, 84, 67, 84],\n",
    "[94, 92, 93, 67, 64],\n",
    "[86, 85, 83, 67, 80]])"
   ]
  },
  {
   "cell_type": "code",
   "execution_count": 3,
   "id": "21c0f14a",
   "metadata": {},
   "outputs": [
    {
     "data": {
      "text/plain": [
       "(8, 5)"
      ]
     },
     "execution_count": 3,
     "metadata": {},
     "output_type": "execute_result"
    }
   ],
   "source": [
    "score.shape"
   ]
  },
  {
   "cell_type": "code",
   "execution_count": 4,
   "id": "aedb33d9",
   "metadata": {},
   "outputs": [
    {
     "data": {
      "text/plain": [
       "2"
      ]
     },
     "execution_count": 4,
     "metadata": {},
     "output_type": "execute_result"
    }
   ],
   "source": [
    "score.ndim"
   ]
  },
  {
   "cell_type": "code",
   "execution_count": 5,
   "id": "07944610",
   "metadata": {},
   "outputs": [
    {
     "data": {
      "text/plain": [
       "8"
      ]
     },
     "execution_count": 5,
     "metadata": {},
     "output_type": "execute_result"
    }
   ],
   "source": [
    "score.itemsize"
   ]
  },
  {
   "cell_type": "code",
   "execution_count": 6,
   "id": "c21d26f9",
   "metadata": {},
   "outputs": [
    {
     "data": {
      "text/plain": [
       "40"
      ]
     },
     "execution_count": 6,
     "metadata": {},
     "output_type": "execute_result"
    }
   ],
   "source": [
    "score.size"
   ]
  },
  {
   "cell_type": "code",
   "execution_count": 7,
   "id": "2f9bd034",
   "metadata": {},
   "outputs": [
    {
     "data": {
      "text/plain": [
       "dtype('int64')"
      ]
     },
     "execution_count": 7,
     "metadata": {},
     "output_type": "execute_result"
    }
   ],
   "source": [
    "score.dtype"
   ]
  },
  {
   "cell_type": "markdown",
   "id": "399c524d",
   "metadata": {},
   "source": [
    "# 数组的形状"
   ]
  },
  {
   "cell_type": "code",
   "execution_count": 8,
   "id": "5d66dc00",
   "metadata": {},
   "outputs": [],
   "source": [
    "a = np.array([1,2,3])"
   ]
  },
  {
   "cell_type": "code",
   "execution_count": 9,
   "id": "21502218",
   "metadata": {},
   "outputs": [
    {
     "data": {
      "text/plain": [
       "array([1, 2, 3])"
      ]
     },
     "execution_count": 9,
     "metadata": {},
     "output_type": "execute_result"
    }
   ],
   "source": [
    "a"
   ]
  },
  {
   "cell_type": "code",
   "execution_count": 10,
   "id": "bac42b85",
   "metadata": {},
   "outputs": [
    {
     "data": {
      "text/plain": [
       "(3,)"
      ]
     },
     "execution_count": 10,
     "metadata": {},
     "output_type": "execute_result"
    }
   ],
   "source": [
    "a.shape"
   ]
  },
  {
   "cell_type": "code",
   "execution_count": 11,
   "id": "2866fabd",
   "metadata": {},
   "outputs": [
    {
     "data": {
      "text/plain": [
       "array([[1, 2, 3],\n",
       "       [4, 5, 6]])"
      ]
     },
     "execution_count": 11,
     "metadata": {},
     "output_type": "execute_result"
    }
   ],
   "source": [
    "b=np.array([[1,2,3],[4,5,6]])\n",
    "b"
   ]
  },
  {
   "cell_type": "code",
   "execution_count": 12,
   "id": "b9d89fbd",
   "metadata": {},
   "outputs": [
    {
     "data": {
      "text/plain": [
       "(2, 3)"
      ]
     },
     "execution_count": 12,
     "metadata": {},
     "output_type": "execute_result"
    }
   ],
   "source": [
    "b.shape"
   ]
  },
  {
   "cell_type": "code",
   "execution_count": 13,
   "id": "43d92710",
   "metadata": {},
   "outputs": [],
   "source": [
    "c=np.array([[[1, 2, 3], [4, 5, 6]], [[1, 2, 3], [4, 5, 6]]])"
   ]
  },
  {
   "cell_type": "code",
   "execution_count": 14,
   "id": "2deef53e",
   "metadata": {},
   "outputs": [
    {
     "data": {
      "text/plain": [
       "array([[[1, 2, 3],\n",
       "        [4, 5, 6]],\n",
       "\n",
       "       [[1, 2, 3],\n",
       "        [4, 5, 6]]])"
      ]
     },
     "execution_count": 14,
     "metadata": {},
     "output_type": "execute_result"
    }
   ],
   "source": [
    "c"
   ]
  },
  {
   "cell_type": "code",
   "execution_count": 15,
   "id": "8c6c2290",
   "metadata": {},
   "outputs": [
    {
     "data": {
      "text/plain": [
       "(2, 2, 3)"
      ]
     },
     "execution_count": 15,
     "metadata": {},
     "output_type": "execute_result"
    }
   ],
   "source": [
    "c.shape"
   ]
  },
  {
   "cell_type": "markdown",
   "id": "c8d9ae1b",
   "metadata": {},
   "source": [
    "# 数组的类型"
   ]
  },
  {
   "cell_type": "code",
   "execution_count": 16,
   "id": "c935e174",
   "metadata": {},
   "outputs": [
    {
     "data": {
      "text/plain": [
       "array([[1., 2., 3.],\n",
       "       [4., 5., 6.]], dtype=float32)"
      ]
     },
     "execution_count": 16,
     "metadata": {},
     "output_type": "execute_result"
    }
   ],
   "source": [
    "b = np.array([[1, 2, 3], [4, 5, 6]], dtype=np.float32)\n",
    "b"
   ]
  },
  {
   "cell_type": "code",
   "execution_count": 17,
   "id": "b0ad4162",
   "metadata": {},
   "outputs": [],
   "source": [
    "arr = np.array([\"pythonI\", \"hello\", \"I\"], dtype=np.string_)"
   ]
  },
  {
   "cell_type": "code",
   "execution_count": 18,
   "id": "1d98d262",
   "metadata": {},
   "outputs": [
    {
     "data": {
      "text/plain": [
       "array([b'pythonI', b'hello', b'I'], dtype='|S7')"
      ]
     },
     "execution_count": 18,
     "metadata": {},
     "output_type": "execute_result"
    }
   ],
   "source": [
    "arr"
   ]
  },
  {
   "cell_type": "markdown",
   "id": "0a594b55",
   "metadata": {},
   "source": [
    "# 生成数组的方法\n",
    "\n",
    "### 生成0,1数组"
   ]
  },
  {
   "cell_type": "code",
   "execution_count": 24,
   "id": "4d269fd6",
   "metadata": {},
   "outputs": [
    {
     "data": {
      "text/plain": [
       "array([[1., 1., 1., 1., 1., 1., 1., 1.],\n",
       "       [1., 1., 1., 1., 1., 1., 1., 1.],\n",
       "       [1., 1., 1., 1., 1., 1., 1., 1.],\n",
       "       [1., 1., 1., 1., 1., 1., 1., 1.]])"
      ]
     },
     "execution_count": 24,
     "metadata": {},
     "output_type": "execute_result"
    }
   ],
   "source": [
    "ones = np.ones([4,8])\n",
    "ones"
   ]
  },
  {
   "cell_type": "code",
   "execution_count": 25,
   "id": "b149cd86",
   "metadata": {},
   "outputs": [],
   "source": [
    "ones = np.zeros_like(ones)"
   ]
  },
  {
   "cell_type": "code",
   "execution_count": 26,
   "id": "ace7a7c0",
   "metadata": {},
   "outputs": [
    {
     "data": {
      "text/plain": [
       "array([[0., 0., 0., 0., 0., 0., 0., 0.],\n",
       "       [0., 0., 0., 0., 0., 0., 0., 0.],\n",
       "       [0., 0., 0., 0., 0., 0., 0., 0.],\n",
       "       [0., 0., 0., 0., 0., 0., 0., 0.]])"
      ]
     },
     "execution_count": 26,
     "metadata": {},
     "output_type": "execute_result"
    }
   ],
   "source": [
    "ones"
   ]
  },
  {
   "cell_type": "code",
   "execution_count": 27,
   "id": "56b65081",
   "metadata": {},
   "outputs": [
    {
     "data": {
      "text/plain": [
       "2"
      ]
     },
     "execution_count": 27,
     "metadata": {},
     "output_type": "execute_result"
    }
   ],
   "source": [
    "ones.ndim"
   ]
  },
  {
   "cell_type": "code",
   "execution_count": 32,
   "id": "f2b7afec",
   "metadata": {},
   "outputs": [
    {
     "data": {
      "text/plain": [
       "array([[0., 0., 0., 0., 0.],\n",
       "       [0., 0., 0., 0., 0.],\n",
       "       [0., 0., 0., 0., 0.],\n",
       "       [0., 0., 0., 0., 0.],\n",
       "       [0., 0., 0., 0., 0.]])"
      ]
     },
     "execution_count": 32,
     "metadata": {},
     "output_type": "execute_result"
    }
   ],
   "source": [
    "np.zeros(shape=[5,5])"
   ]
  },
  {
   "cell_type": "code",
   "execution_count": 36,
   "id": "df840639",
   "metadata": {},
   "outputs": [
    {
     "data": {
      "text/plain": [
       "array([[0., 0., 0.],\n",
       "       [0., 0., 0.],\n",
       "       [0., 0., 0.]])"
      ]
     },
     "execution_count": 36,
     "metadata": {},
     "output_type": "execute_result"
    }
   ],
   "source": [
    "np.zeros_like(ones,shape=[3,3])"
   ]
  },
  {
   "cell_type": "markdown",
   "id": "794c6c41",
   "metadata": {},
   "source": [
    "# 从现在数组中生成"
   ]
  },
  {
   "cell_type": "code",
   "execution_count": 37,
   "id": "9ab7023f",
   "metadata": {},
   "outputs": [
    {
     "data": {
      "text/plain": [
       "array([[1, 2, 3],\n",
       "       [4, 5, 6]])"
      ]
     },
     "execution_count": 37,
     "metadata": {},
     "output_type": "execute_result"
    }
   ],
   "source": [
    "a = np.array([[1,2,3],[4,5,6]])\n",
    "a"
   ]
  },
  {
   "cell_type": "code",
   "execution_count": 38,
   "id": "01cf2aec",
   "metadata": {},
   "outputs": [],
   "source": [
    "a1 = np.array(a) # 深拷贝(不会改变原数据)"
   ]
  },
  {
   "cell_type": "code",
   "execution_count": 39,
   "id": "080d1eae",
   "metadata": {},
   "outputs": [
    {
     "data": {
      "text/plain": [
       "array([[1, 2, 3],\n",
       "       [4, 5, 6]])"
      ]
     },
     "execution_count": 39,
     "metadata": {},
     "output_type": "execute_result"
    }
   ],
   "source": [
    "a1"
   ]
  },
  {
   "cell_type": "code",
   "execution_count": 40,
   "id": "3eedc067",
   "metadata": {},
   "outputs": [
    {
     "data": {
      "text/plain": [
       "array([[1, 2, 3],\n",
       "       [4, 5, 6]])"
      ]
     },
     "execution_count": 40,
     "metadata": {},
     "output_type": "execute_result"
    }
   ],
   "source": [
    "a2 = np.asarray(a) # 浅拷贝(改变了新生成的数据)\n",
    "a2"
   ]
  },
  {
   "cell_type": "code",
   "execution_count": 42,
   "id": "289abff8",
   "metadata": {},
   "outputs": [],
   "source": [
    "a[0,0] = 1000"
   ]
  },
  {
   "cell_type": "code",
   "execution_count": 43,
   "id": "dddbea01",
   "metadata": {},
   "outputs": [
    {
     "data": {
      "text/plain": [
       "array([[1, 2, 3],\n",
       "       [4, 5, 6]])"
      ]
     },
     "execution_count": 43,
     "metadata": {},
     "output_type": "execute_result"
    }
   ],
   "source": [
    "a1"
   ]
  },
  {
   "cell_type": "code",
   "execution_count": 44,
   "id": "7acec068",
   "metadata": {},
   "outputs": [
    {
     "data": {
      "text/plain": [
       "array([[1000,    2,    3],\n",
       "       [   4,    5,    6]])"
      ]
     },
     "execution_count": 44,
     "metadata": {},
     "output_type": "execute_result"
    }
   ],
   "source": [
    "a2"
   ]
  },
  {
   "cell_type": "markdown",
   "id": "8b442e8e",
   "metadata": {},
   "source": [
    "# 生成固定范围的数组"
   ]
  },
  {
   "cell_type": "code",
   "execution_count": 47,
   "id": "2b66c4a4",
   "metadata": {},
   "outputs": [
    {
     "data": {
      "text/plain": [
       "array([  0.        ,   9.18181818,  18.36363636,  27.54545455,\n",
       "        36.72727273,  45.90909091,  55.09090909,  64.27272727,\n",
       "        73.45454545,  82.63636364,  91.81818182, 101.        ])"
      ]
     },
     "execution_count": 47,
     "metadata": {},
     "output_type": "execute_result"
    }
   ],
   "source": [
    "np.linspace(0,101,12)"
   ]
  },
  {
   "cell_type": "code",
   "execution_count": 48,
   "id": "93420080",
   "metadata": {},
   "outputs": [
    {
     "data": {
      "text/plain": [
       "array([  1.,  10., 100.])"
      ]
     },
     "execution_count": 48,
     "metadata": {},
     "output_type": "execute_result"
    }
   ],
   "source": [
    "np.logspace(0,2,3)"
   ]
  },
  {
   "cell_type": "markdown",
   "id": "4a1ef1d9",
   "metadata": {},
   "source": [
    "# 生成随机数组\n",
    "\n",
    "### 正态分布"
   ]
  },
  {
   "cell_type": "code",
   "execution_count": 54,
   "id": "f24aaa45",
   "metadata": {},
   "outputs": [],
   "source": [
    "x1 = np.random.normal(1.75, 1, 100000000)"
   ]
  },
  {
   "cell_type": "code",
   "execution_count": 55,
   "id": "6b667474",
   "metadata": {},
   "outputs": [
    {
     "data": {
      "text/plain": [
       "array([1.54471447, 1.60042564, 4.4324756 , ..., 1.56247023, 2.59483385,\n",
       "       2.48504647])"
      ]
     },
     "execution_count": 55,
     "metadata": {},
     "output_type": "execute_result"
    }
   ],
   "source": [
    "x1"
   ]
  },
  {
   "cell_type": "code",
   "execution_count": 56,
   "id": "700b4e06",
   "metadata": {},
   "outputs": [
    {
     "data": {
      "image/png": "[encoded data removed]",
      "text/plain": [
       "<Figure size 2000x800 with 1 Axes>"
      ]
     },
     "metadata": {},
     "output_type": "display_data"
    }
   ],
   "source": [
    "plt.figure(figsize=(20,8),dpi=100)\n",
    "plt.hist(x1,1000)\n",
    "plt.show()"
   ]
  },
  {
   "cell_type": "markdown",
   "id": "3bbe79b1",
   "metadata": {},
   "source": [
    "# 均匀分布"
   ]
  },
  {
   "cell_type": "code",
   "execution_count": 57,
   "id": "d584d7e6",
   "metadata": {},
   "outputs": [],
   "source": [
    "x2 = np.random.uniform(-1,1,100000000)"
   ]
  },
  {
   "cell_type": "code",
   "execution_count": 58,
   "id": "dcc747f2",
   "metadata": {},
   "outputs": [
    {
     "data": {
      "text/plain": [
       "array([ 0.36376859, -0.06394317, -0.02868201, ..., -0.60252779,\n",
       "       -0.34767587, -0.90508984])"
      ]
     },
     "execution_count": 58,
     "metadata": {},
     "output_type": "execute_result"
    }
   ],
   "source": [
    "x2"
   ]
  },
  {
   "cell_type": "code",
   "execution_count": 59,
   "id": "e8b656b9",
   "metadata": {},
   "outputs": [
    {
     "data": {
      "image/png": "[encoded data removed]",
      "text/plain": [
       "<Figure size 2000x800 with 1 Axes>"
      ]
     },
     "metadata": {},
     "output_type": "display_data"
    }
   ],
   "source": [
    "plt.figure(figsize=(20,8),dpi=100)\n",
    "plt.hist(x2,1000)\n",
    "plt.show()"
   ]
  },
  {
   "cell_type": "markdown",
   "id": "2c6eb5f1",
   "metadata": {},
   "source": [
    "# 数组的索引，切片"
   ]
  },
  {
   "cell_type": "code",
   "execution_count": 60,
   "id": "2ace2d5a",
   "metadata": {},
   "outputs": [
    {
     "data": {
      "text/plain": [
       "array([[ 1.2403916 ,  0.26046116, -1.84151366, -0.00551939,  1.8668517 ],\n",
       "       [ 0.44950418, -1.52667771, -0.85256095,  0.81920081, -0.72947482],\n",
       "       [ 1.76014879, -1.52598967,  0.89228317,  0.2112895 ,  1.73404746],\n",
       "       [-0.18444133,  0.59101097,  0.03692683,  1.3818552 , -0.37225089]])"
      ]
     },
     "execution_count": 60,
     "metadata": {},
     "output_type": "execute_result"
    }
   ],
   "source": [
    "stock_change = np.random.normal(0,1,[4,5])\n",
    "stock_change"
   ]
  },
  {
   "cell_type": "code",
   "execution_count": 61,
   "id": "3bde78ba",
   "metadata": {},
   "outputs": [
    {
     "data": {
      "text/plain": [
       "array([ 1.2403916 ,  0.26046116, -1.84151366])"
      ]
     },
     "execution_count": 61,
     "metadata": {},
     "output_type": "execute_result"
    }
   ],
   "source": [
    "stock_change[0,0:3]# 表示从0行开始切片，0行数据，下标为0开始，到下标为3的数据，不包括下标为3的数据"
   ]
  },
  {
   "cell_type": "code",
   "execution_count": 62,
   "id": "25b04e2b",
   "metadata": {},
   "outputs": [
    {
     "data": {
      "text/plain": [
       "array([ 0.44950418, -1.52667771, -0.85256095])"
      ]
     },
     "execution_count": 62,
     "metadata": {},
     "output_type": "execute_result"
    }
   ],
   "source": [
    "stock_change[1,0:3]"
   ]
  },
  {
   "cell_type": "code",
   "execution_count": 65,
   "id": "df9f54b4",
   "metadata": {},
   "outputs": [
    {
     "data": {
      "text/plain": [
       "array([-1.52667771, -0.85256095,  0.81920081])"
      ]
     },
     "execution_count": 65,
     "metadata": {},
     "output_type": "execute_result"
    }
   ],
   "source": [
    "stock_change[1,1:4]"
   ]
  },
  {
   "cell_type": "code",
   "execution_count": 67,
   "id": "73923b3b",
   "metadata": {},
   "outputs": [
    {
     "data": {
      "text/plain": [
       "array([1.2403916])"
      ]
     },
     "execution_count": 67,
     "metadata": {},
     "output_type": "execute_result"
    }
   ],
   "source": [
    "stock_change[0,:1]"
   ]
  },
  {
   "cell_type": "code",
   "execution_count": 68,
   "id": "f5836cf9",
   "metadata": {},
   "outputs": [
    {
     "data": {
      "text/plain": [
       "array([0.26046116])"
      ]
     },
     "execution_count": 68,
     "metadata": {},
     "output_type": "execute_result"
    }
   ],
   "source": [
    "stock_change[0, 1:2]"
   ]
  },
  {
   "cell_type": "code",
   "execution_count": 70,
   "id": "cdc4bce5",
   "metadata": {},
   "outputs": [
    {
     "data": {
      "text/plain": [
       "array([[[ 1,  2,  3],\n",
       "        [ 4,  5,  6]],\n",
       "\n",
       "       [[12,  3, 34],\n",
       "        [ 5,  6,  7]]])"
      ]
     },
     "execution_count": 70,
     "metadata": {},
     "output_type": "execute_result"
    }
   ],
   "source": [
    "a1 = np.array([[[1,2,3],[4,5,6]], [[12,3,34],[5,6,7]]])\n",
    "a1"
   ]
  },
  {
   "cell_type": "code",
   "execution_count": 71,
   "id": "253c453c",
   "metadata": {},
   "outputs": [
    {
     "data": {
      "text/plain": [
       "(2, 2, 3)"
      ]
     },
     "execution_count": 71,
     "metadata": {},
     "output_type": "execute_result"
    }
   ],
   "source": [
    "a1.shape"
   ]
  },
  {
   "cell_type": "code",
   "execution_count": 72,
   "id": "bd3fa910",
   "metadata": {},
   "outputs": [
    {
     "data": {
      "text/plain": [
       "3"
      ]
     },
     "execution_count": 72,
     "metadata": {},
     "output_type": "execute_result"
    }
   ],
   "source": [
    "a1.ndim"
   ]
  },
  {
   "cell_type": "code",
   "execution_count": 73,
   "id": "b6e9df9d",
   "metadata": {},
   "outputs": [
    {
     "data": {
      "text/plain": [
       "12"
      ]
     },
     "execution_count": 73,
     "metadata": {},
     "output_type": "execute_result"
    }
   ],
   "source": [
    "a1[1,0,0]"
   ]
  },
  {
   "cell_type": "code",
   "execution_count": 74,
   "id": "58b2e346",
   "metadata": {},
   "outputs": [
    {
     "data": {
      "text/plain": [
       "array([[[ 1,  2,  3],\n",
       "        [ 4,  5,  6],\n",
       "        [ 7,  8,  9],\n",
       "        [10, 11, 12]]])"
      ]
     },
     "execution_count": 74,
     "metadata": {},
     "output_type": "execute_result"
    }
   ],
   "source": [
    "a2 = np.array([[[1,2,3],[4,5,6],[7,8,9],[10,11,12]]])\n",
    "a2"
   ]
  },
  {
   "cell_type": "code",
   "execution_count": 75,
   "id": "592201d4",
   "metadata": {},
   "outputs": [
    {
     "data": {
      "text/plain": [
       "(1, 4, 3)"
      ]
     },
     "execution_count": 75,
     "metadata": {},
     "output_type": "execute_result"
    }
   ],
   "source": [
    "a2.shape"
   ]
  },
  {
   "cell_type": "markdown",
   "id": "a2e982e4",
   "metadata": {},
   "source": [
    "# 形状修改"
   ]
  },
  {
   "cell_type": "code",
   "execution_count": 76,
   "id": "123a24c5",
   "metadata": {},
   "outputs": [
    {
     "data": {
      "text/plain": [
       "(4, 5)"
      ]
     },
     "execution_count": 76,
     "metadata": {},
     "output_type": "execute_result"
    }
   ],
   "source": [
    "stock_change.shape"
   ]
  },
  {
   "cell_type": "code",
   "execution_count": 77,
   "id": "5897a0bb",
   "metadata": {},
   "outputs": [
    {
     "data": {
      "text/plain": [
       "array([[ 1.2403916 ,  0.26046116, -1.84151366, -0.00551939,  1.8668517 ],\n",
       "       [ 0.44950418, -1.52667771, -0.85256095,  0.81920081, -0.72947482],\n",
       "       [ 1.76014879, -1.52598967,  0.89228317,  0.2112895 ,  1.73404746],\n",
       "       [-0.18444133,  0.59101097,  0.03692683,  1.3818552 , -0.37225089]])"
      ]
     },
     "execution_count": 77,
     "metadata": {},
     "output_type": "execute_result"
    }
   ],
   "source": [
    "stock_change"
   ]
  },
  {
   "cell_type": "code",
   "execution_count": 78,
   "id": "9c0cbddf",
   "metadata": {},
   "outputs": [
    {
     "data": {
      "text/plain": [
       "array([[ 1.2403916 ,  0.26046116, -1.84151366, -0.00551939],\n",
       "       [ 1.8668517 ,  0.44950418, -1.52667771, -0.85256095],\n",
       "       [ 0.81920081, -0.72947482,  1.76014879, -1.52598967],\n",
       "       [ 0.89228317,  0.2112895 ,  1.73404746, -0.18444133],\n",
       "       [ 0.59101097,  0.03692683,  1.3818552 , -0.37225089]])"
      ]
     },
     "execution_count": 78,
     "metadata": {},
     "output_type": "execute_result"
    }
   ],
   "source": [
    "stock_change.reshape([5,4])"
   ]
  },
  {
   "cell_type": "code",
   "execution_count": 87,
   "id": "6a67e47a",
   "metadata": {},
   "outputs": [
    {
     "ename": "ValueError",
     "evalue": "cannot reshape array of size 20 into shape (1,1)",
     "output_type": "error",
     "traceback": [
      "\u001b[0;31m---------------------------------------------------------------------------\u001b[0m",
      "\u001b[0;31mValueError\u001b[0m                                Traceback (most recent call last)",
      "Cell \u001b[0;32mIn[87], line 1\u001b[0m\n\u001b[0;32m----> 1\u001b[0m stock_change\u001b[38;5;241m.\u001b[39mreshape([\u001b[38;5;241m1\u001b[39m,\u001b[38;5;241m1\u001b[39m])\n",
      "\u001b[0;31mValueError\u001b[0m: cannot reshape array of size 20 into shape (1,1)"
     ]
    }
   ],
   "source": [
    "stock_change.reshape([1,1])"
   ]
  },
  {
   "cell_type": "markdown",
   "id": "e7f7fdc8",
   "metadata": {},
   "source": [
    "# 数组去重"
   ]
  },
  {
   "cell_type": "code",
   "execution_count": 89,
   "id": "033a3852",
   "metadata": {},
   "outputs": [
    {
     "data": {
      "text/plain": [
       "array([[1, 2, 3, 4],\n",
       "       [2, 3, 4, 5]])"
      ]
     },
     "execution_count": 89,
     "metadata": {},
     "output_type": "execute_result"
    }
   ],
   "source": [
    "a = np.array([[1,2,3,4],[2,3,4,5]])\n",
    "a"
   ]
  },
  {
   "cell_type": "code",
   "execution_count": 90,
   "id": "1585fcce",
   "metadata": {},
   "outputs": [
    {
     "data": {
      "text/plain": [
       "array([1, 2, 3, 4, 5])"
      ]
     },
     "execution_count": 90,
     "metadata": {},
     "output_type": "execute_result"
    }
   ],
   "source": [
    "np.unique(a)"
   ]
  },
  {
   "cell_type": "code",
   "execution_count": null,
   "id": "9d52dd5a",
   "metadata": {},
   "outputs": [],
   "source": []
  }
 ],
 "metadata": {
  "kernelspec": {
   "display_name": "Python 3 (ipykernel)",
   "language": "python",
   "name": "python3"
  },
  "language_info": {
   "codemirror_mode": {
    "name": "ipython",
    "version": 3
   },
   "file_extension": ".py",
   "mimetype": "text/x-python",
   "name": "python",
   "nbconvert_exporter": "python",
   "pygments_lexer": "ipython3",
   "version": "3.11.7"
  }
 },
 "nbformat": 4,
 "nbformat_minor": 5
}
