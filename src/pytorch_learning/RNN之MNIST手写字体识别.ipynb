{
 "cells": [
  {
   "cell_type": "code",
   "execution_count": 11,
   "id": "972279e6",
   "metadata": {},
   "outputs": [],
   "source": [
    "import torch\n",
    "import torch.nn as nn\n",
    "import torchvision.transforms as transforms\n",
    "import torchvision.datasets as datasets\n",
    "from torch.utils.data import DataLoader\n",
    "import torchvision\n",
    "import numpy as np\n",
    "import pandas as pd\n",
    "import platform"
   ]
  },
  {
   "cell_type": "markdown",
   "id": "11039332",
   "metadata": {},
   "source": [
    "### 1. 加载数据集(https://blog.csdn.net/qq_52643100/article/details/140360548)"
   ]
  },
  {
   "cell_type": "code",
   "execution_count": 4,
   "id": "561c9115",
   "metadata": {},
   "outputs": [],
   "source": [
    "# 加载数据集(https://blog.csdn.net/qq_52643100/article/details/140360548)\n",
    "train_dataset = datasets.MNIST(root=\"./data/\", train=True, transform=transforms.ToTensor(), download=True)\n",
    "test_dataset = datasets.MNIST(root=\"./data/\", train=False, transform=transforms.ToTensor())"
   ]
  },
  {
   "cell_type": "code",
   "execution_count": 5,
   "id": "16fb8242",
   "metadata": {},
   "outputs": [
    {
     "name": "stdout",
     "output_type": "stream",
     "text": [
      "['0 - zero', '1 - one', '2 - two', '3 - three', '4 - four', '5 - five', '6 - six', '7 - seven', '8 - eight', '9 - nine']\n"
     ]
    }
   ],
   "source": [
    "class_names = train_dataset.classes # 查看类别/标签\n",
    "print(class_names)"
   ]
  },
  {
   "cell_type": "code",
   "execution_count": 6,
   "id": "0fe0db40",
   "metadata": {},
   "outputs": [
    {
     "name": "stdout",
     "output_type": "stream",
     "text": [
      "torch.Size([60000, 28, 28])\n"
     ]
    }
   ],
   "source": [
    "# 查看数据集的大小shape\n",
    "print(train_dataset.data.shape)"
   ]
  },
  {
   "cell_type": "code",
   "execution_count": 7,
   "id": "005f77ed",
   "metadata": {},
   "outputs": [
    {
     "name": "stdout",
     "output_type": "stream",
     "text": [
      "torch.Size([60000])\n"
     ]
    }
   ],
   "source": [
    "print(train_dataset.targets.shape)"
   ]
  },
  {
   "cell_type": "code",
   "execution_count": 8,
   "id": "8ae7fe54",
   "metadata": {},
   "outputs": [
    {
     "name": "stdout",
     "output_type": "stream",
     "text": [
      "torch.Size([10000, 28, 28])\n"
     ]
    }
   ],
   "source": [
    "print(test_dataset.data.shape)"
   ]
  },
  {
   "cell_type": "code",
   "execution_count": 9,
   "id": "c0a7beea",
   "metadata": {},
   "outputs": [
    {
     "name": "stdout",
     "output_type": "stream",
     "text": [
      "torch.Size([10000])\n"
     ]
    }
   ],
   "source": [
    "print(test_dataset.targets.shape)"
   ]
  },
  {
   "cell_type": "markdown",
   "id": "6d279f46",
   "metadata": {},
   "source": [
    "### 定义超参数"
   ]
  },
  {
   "cell_type": "code",
   "execution_count": 10,
   "id": "1bca7182",
   "metadata": {},
   "outputs": [],
   "source": [
    "BATCH_SIZE = 64 # 每批读取的数据大小\n",
    "EPOCHS = 10 # 训练10轮"
   ]
  },
  {
   "cell_type": "markdown",
   "id": "85779e21",
   "metadata": {},
   "source": [
    "### 创建数据集的可迭代对象，即一个batch一个batch的读取数据"
   ]
  },
  {
   "cell_type": "code",
   "execution_count": 12,
   "id": "44626e6c",
   "metadata": {},
   "outputs": [],
   "source": [
    "train_loader = DataLoader(dataset=train_dataset, batch_size=BATCH_SIZE,shuffle=True)\n",
    "test_loader = DataLoader(dataset=test_dataset,batch_size=BATCH_SIZE,shuffle=True)"
   ]
  },
  {
   "cell_type": "code",
   "execution_count": 14,
   "id": "c847d129",
   "metadata": {},
   "outputs": [],
   "source": [
    "# 查看一批batch的数据\n",
    "images, labels = next(iter(test_loader))"
   ]
  },
  {
   "cell_type": "code",
   "execution_count": 15,
   "id": "e38f4e03",
   "metadata": {},
   "outputs": [
    {
     "name": "stdout",
     "output_type": "stream",
     "text": [
      "torch.Size([64, 1, 28, 28])\n"
     ]
    }
   ],
   "source": [
    "print(images.shape)"
   ]
  },
  {
   "cell_type": "code",
   "execution_count": 16,
   "id": "6cea012f",
   "metadata": {},
   "outputs": [
    {
     "name": "stdout",
     "output_type": "stream",
     "text": [
      "torch.Size([64])\n"
     ]
    }
   ],
   "source": [
    "print(labels.shape)"
   ]
  },
  {
   "cell_type": "markdown",
   "id": "859ab272",
   "metadata": {},
   "source": [
    "### 定义RNN模型"
   ]
  },
  {
   "cell_type": "code",
   "execution_count": 19,
   "id": "2bb45196",
   "metadata": {},
   "outputs": [],
   "source": [
    "class RNN_Model(nn.Module):\n",
    "    def __init__(self, input_dim, hidden_dim, layer_dim, output_dim):\n",
    "        super(RNN_Model, self).__init__()\n",
    "        self.hidden_dim = hidden_dim\n",
    "        self.layer_dim = layer_dim\n",
    "        self.rnn = nn.RNN(input_dim, hidden_dim, layer_dim, batch_first=True, nonlinearity='relu')\n",
    "        # 全连接层\n",
    "        self.fc = nn.Linear(hidden_dim, output_dim)\n",
    "\n",
    "    def forward(self, x):\n",
    "        # \n",
    "        h0 = torch.zeros(self.layer_dim, x.size(0), self.hidden_dim).requires_grad_().to(device)\n",
    "        # 分离隐藏状态，避免梯度爆炸\n",
    "        out, hn = self.rnn(x, h0.detach())\n",
    "        out = self.fc(out[:, -1, :])\n",
    "        return out"
   ]
  },
  {
   "cell_type": "markdown",
   "id": "64b955a2",
   "metadata": {},
   "source": [
    "### 初始化模型"
   ]
  },
  {
   "cell_type": "code",
   "execution_count": 21,
   "id": "b35a5fac",
   "metadata": {},
   "outputs": [],
   "source": [
    "input_dim = 28 # 输入维度\n",
    "hidden_dim = 100 # 隐层的维度\n",
    "layer_dim = 2 # 2层RNN\n",
    "output_dim = 10 # 输出维度\n",
    "\n",
    "model = RNN_Model(input_dim, hidden_dim, layer_dim, output_dim)\n",
    "# 判断是否有GPU\n",
    "device = torch.device(\"mps\")"
   ]
  },
  {
   "cell_type": "markdown",
   "id": "81665dfa",
   "metadata": {},
   "source": [
    "### 定义损失函数"
   ]
  },
  {
   "cell_type": "code",
   "execution_count": 22,
   "id": "9909f25b",
   "metadata": {},
   "outputs": [],
   "source": [
    "criterion = nn.CrossEntropyLoss()"
   ]
  },
  {
   "cell_type": "markdown",
   "id": "aae51b69",
   "metadata": {},
   "source": [
    "### 定义优化器"
   ]
  },
  {
   "cell_type": "code",
   "execution_count": 23,
   "id": "51bd3f29",
   "metadata": {},
   "outputs": [],
   "source": [
    "learning_rate = 0.01\n",
    "optimizer = torch.optim.SGD(model.parameters(), lr=learning_rate)"
   ]
  },
  {
   "cell_type": "markdown",
   "id": "8826fa57",
   "metadata": {},
   "source": [
    "### 输出模型参数信息"
   ]
  },
  {
   "cell_type": "code",
   "execution_count": 24,
   "id": "a8d93d15",
   "metadata": {},
   "outputs": [
    {
     "name": "stdout",
     "output_type": "stream",
     "text": [
      "10\n"
     ]
    }
   ],
   "source": [
    "print(len(list(model.parameters())))"
   ]
  },
  {
   "cell_type": "markdown",
   "id": "d7b55864",
   "metadata": {},
   "source": [
    "### 模型训练"
   ]
  },
  {
   "cell_type": "code",
   "execution_count": 25,
   "id": "c4ed79e0",
   "metadata": {},
   "outputs": [],
   "source": [
    "sequence_dim = 28 # 序列长度"
   ]
  },
  {
   "cell_type": "code",
   "execution_count": null,
   "id": "c541cae7",
   "metadata": {},
   "outputs": [],
   "source": [
    "loss_list = [] #保存loss\n",
    "accuracy_list = [] # 保存accuracy\n",
    "iteration_list = [] # 保存循环次数\n",
    "\n",
    "iter = 0\n",
    "for epoch in range(EPOCHS):\n",
    "    for i, (images, labels) in enumerate(train_loader):\n",
    "        model.train() # 声明训练\n",
    "        # 一个batch的数据转换为RNN的输入维度\n",
    "        image = images.view(-1, sequence_dim, input_dim).requires_grad_().to(device)\n",
    "        labels = labels.to(device)\n",
    "        # 梯度清零\n",
    "        optimizer.zero_grad()\n",
    "        # 前向传播\n",
    "        outputs = model(images)\n",
    "        # 计算损失\n",
    "        loss = criterion(outputs, labels)\n",
    "        # 反向传播\n",
    "        loss.backward()\n",
    "        # 更新参数\n",
    "        optimizer.step()\n",
    "        # 计数器自动加1\n",
    "        iter += 1\n",
    "        # 模型验证\n",
    "        if iter % 500 == 0:\n",
    "            model.eval() # 声明\n",
    "            # 计算验证的accuracy\n",
    "            correct = 0.0\n",
    "            total = 0.0\n",
    "            # 迭代测试集，获取数据，预测\n",
    "            for images, labels in test_loader:\n",
    "                image = images.view(-1, sequence_dim, input_dim).to(device)\n",
    "                # 模型预测\n",
    "                outputs = model(image)\n",
    "                # 获取预测概率最大值的下标\n",
    "                predict = torch.max(outputs.data, 1)[1]\n",
    "                # 统计测试集的大小\n",
    "                total += labels.size(0)\n",
    "                # 统计判断/预测正确的数量\n",
    "                "
   ]
  }
 ],
 "metadata": {
  "kernelspec": {
   "display_name": "Python 3 (ipykernel)",
   "language": "python",
   "name": "python3"
  },
  "language_info": {
   "codemirror_mode": {
    "name": "ipython",
    "version": 3
   },
   "file_extension": ".py",
   "mimetype": "text/x-python",
   "name": "python",
   "nbconvert_exporter": "python",
   "pygments_lexer": "ipython3",
   "version": "3.11.7"
  }
 },
 "nbformat": 4,
 "nbformat_minor": 5
}
