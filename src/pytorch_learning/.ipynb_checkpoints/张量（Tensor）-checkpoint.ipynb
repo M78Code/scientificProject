{
 "cells": [
  {
   "cell_type": "markdown",
   "id": "ff98c9f2-93fe-4759-a4fb-545091fa19d5",
   "metadata": {},
   "source": [
    "# Tensors（张量）"
   ]
  },
  {
   "cell_type": "code",
   "execution_count": 1,
   "id": "3c95d006-943f-472b-b2ea-2e2496182013",
   "metadata": {},
   "outputs": [],
   "source": [
    "from __future__ import print_function\n",
    "import torch"
   ]
  },
  {
   "cell_type": "markdown",
   "id": "b83ec4f8-39a4-4ad0-8d10-19c485a47aea",
   "metadata": {},
   "source": [
    "### 构造一个5*3矩阵，不初始化"
   ]
  },
  {
   "cell_type": "code",
   "execution_count": 2,
   "id": "b385ce63-6ad4-438b-853a-7e7b0c74417e",
   "metadata": {},
   "outputs": [
    {
     "data": {
      "text/plain": [
       "tensor([[0., 0., 0.],\n",
       "        [0., 0., 0.],\n",
       "        [0., 0., 0.],\n",
       "        [0., 0., 0.],\n",
       "        [0., 0., 0.]])"
      ]
     },
     "execution_count": 2,
     "metadata": {},
     "output_type": "execute_result"
    }
   ],
   "source": [
    "x = torch.empty(5,3)\n",
    "x"
   ]
  },
  {
   "cell_type": "markdown",
   "id": "73d6f2ed-bc4d-44d2-9d85-ab8909376478",
   "metadata": {},
   "source": [
    "### 构造一个随机初始化的矩阵"
   ]
  },
  {
   "cell_type": "code",
   "execution_count": 3,
   "id": "8c9e7217-685d-408b-89d1-8cb88c2cde7e",
   "metadata": {},
   "outputs": [
    {
     "data": {
      "text/plain": [
       "tensor([[0.6503, 0.2318, 0.0734],\n",
       "        [0.7849, 0.9109, 0.4711],\n",
       "        [0.0290, 0.4550, 0.9422],\n",
       "        [0.9055, 0.0723, 0.8480],\n",
       "        [0.8217, 0.7343, 0.6461]])"
      ]
     },
     "execution_count": 3,
     "metadata": {},
     "output_type": "execute_result"
    }
   ],
   "source": [
    "x = torch.rand(5,3)\n",
    "x"
   ]
  },
  {
   "cell_type": "markdown",
   "id": "278c2f19-7097-462d-aeea-2d62ee406a3e",
   "metadata": {},
   "source": [
    "### 构造一个矩阵全为0，类型long"
   ]
  },
  {
   "cell_type": "code",
   "execution_count": 4,
   "id": "cbb3bb09-f1ea-4f8f-9544-7b04d1add687",
   "metadata": {},
   "outputs": [
    {
     "data": {
      "text/plain": [
       "tensor([[0, 0, 0],\n",
       "        [0, 0, 0],\n",
       "        [0, 0, 0],\n",
       "        [0, 0, 0],\n",
       "        [0, 0, 0]])"
      ]
     },
     "execution_count": 4,
     "metadata": {},
     "output_type": "execute_result"
    }
   ],
   "source": [
    "x = torch.zeros(5,3,dtype=torch.long)\n",
    "x"
   ]
  },
  {
   "cell_type": "markdown",
   "id": "47755f8c-c9d3-4305-a002-8a5ce4e3fb3a",
   "metadata": {},
   "source": [
    "### 构造一个张量，直接使用数据"
   ]
  },
  {
   "cell_type": "code",
   "execution_count": 5,
   "id": "0b401d94-c619-4e7e-a95e-e5d7544329f1",
   "metadata": {},
   "outputs": [
    {
     "data": {
      "text/plain": [
       "tensor([5.5000, 3.0000])"
      ]
     },
     "execution_count": 5,
     "metadata": {},
     "output_type": "execute_result"
    }
   ],
   "source": [
    "x = torch.tensor([5.5, 3])\n",
    "x"
   ]
  },
  {
   "cell_type": "code",
   "execution_count": 6,
   "id": "eeb6e9f9-ecd7-4293-b5af-b6a8d9ea67b2",
   "metadata": {},
   "outputs": [],
   "source": [
    "### 构造一个tensor基于已存在的tensor"
   ]
  },
  {
   "cell_type": "code",
   "execution_count": 8,
   "id": "46e59cfb-61f0-4c97-af75-ee4e7e1382be",
   "metadata": {},
   "outputs": [
    {
     "data": {
      "text/plain": [
       "tensor([[1., 1., 1.],\n",
       "        [1., 1., 1.],\n",
       "        [1., 1., 1.],\n",
       "        [1., 1., 1.],\n",
       "        [1., 1., 1.]], dtype=torch.float64)"
      ]
     },
     "execution_count": 8,
     "metadata": {},
     "output_type": "execute_result"
    }
   ],
   "source": [
    "x = x.new_ones(5,3,dtype=torch.double)\n",
    "x"
   ]
  },
  {
   "cell_type": "code",
   "execution_count": 9,
   "id": "bcd05e1a-6b40-4364-83c0-29eb5cb11806",
   "metadata": {},
   "outputs": [
    {
     "data": {
      "text/plain": [
       "tensor([[ 1.5319,  0.4123, -0.1192],\n",
       "        [-0.7041,  1.7259, -0.7056],\n",
       "        [ 1.1667,  1.3898, -0.2715],\n",
       "        [ 3.1119, -0.0400,  0.8284],\n",
       "        [ 0.6990, -0.5484, -1.5246]])"
      ]
     },
     "execution_count": 9,
     "metadata": {},
     "output_type": "execute_result"
    }
   ],
   "source": [
    "x = torch.randn_like(x,dtype=torch.float)\n",
    "x"
   ]
  },
  {
   "cell_type": "markdown",
   "id": "3a4d256c-4286-4fa4-9de5-d10a8a4b489e",
   "metadata": {},
   "source": [
    "### 获取维度信息"
   ]
  },
  {
   "cell_type": "code",
   "execution_count": 11,
   "id": "ac220ef6-0b67-482e-adb9-53f06bf2faeb",
   "metadata": {},
   "outputs": [
    {
     "data": {
      "text/plain": [
       "torch.Size([5, 3])"
      ]
     },
     "execution_count": 11,
     "metadata": {},
     "output_type": "execute_result"
    }
   ],
   "source": [
    "x.size()\n",
    "# torch.Size是一个元组，支持左右的元组操作"
   ]
  },
  {
   "cell_type": "markdown",
   "id": "450ff5e9-3200-4555-baf9-251a970ea040",
   "metadata": {},
   "source": [
    "### 加法1: x+y"
   ]
  },
  {
   "cell_type": "code",
   "execution_count": 18,
   "id": "2d94a72e-0057-4a9b-93f7-75c9314e7c62",
   "metadata": {},
   "outputs": [
    {
     "name": "stdout",
     "output_type": "stream",
     "text": [
      "The history saving thread hit an unexpected error (OperationalError('attempt to write a readonly database')).History will not be written to the database.\n"
     ]
    },
    {
     "data": {
      "text/plain": [
       "tensor([[0.7787, 0.1451, 0.1441],\n",
       "        [0.0112, 0.5457, 0.0908],\n",
       "        [0.1543, 0.4980, 0.7271],\n",
       "        [0.5567, 0.6307, 0.7435],\n",
       "        [0.2573, 0.1814, 0.5213]])"
      ]
     },
     "execution_count": 18,
     "metadata": {},
     "output_type": "execute_result"
    }
   ],
   "source": [
    "y = torch.rand(5,3)\n",
    "y"
   ]
  },
  {
   "cell_type": "code",
   "execution_count": 19,
   "id": "da24e0ec-0da4-44fa-8af6-a8c231854f95",
   "metadata": {},
   "outputs": [
    {
     "data": {
      "text/plain": [
       "tensor([[ 2.3106,  0.5574,  0.0249],\n",
       "        [-0.6929,  2.2716, -0.6148],\n",
       "        [ 1.3210,  1.8878,  0.4557],\n",
       "        [ 3.6686,  0.5907,  1.5719],\n",
       "        [ 0.9564, -0.3670, -1.0033]])"
      ]
     },
     "execution_count": 19,
     "metadata": {},
     "output_type": "execute_result"
    }
   ],
   "source": [
    "x+y"
   ]
  },
  {
   "cell_type": "markdown",
   "id": "e4686733-9fc6-41e2-9644-440211afcb77",
   "metadata": {},
   "source": [
    "### 加法2: torch.add(x,y)"
   ]
  },
  {
   "cell_type": "code",
   "execution_count": 21,
   "id": "f66d9385-b330-4fe1-bcac-dfe3ba804ad8",
   "metadata": {},
   "outputs": [
    {
     "data": {
      "text/plain": [
       "tensor([[ 2.3106,  0.5574,  0.0249],\n",
       "        [-0.6929,  2.2716, -0.6148],\n",
       "        [ 1.3210,  1.8878,  0.4557],\n",
       "        [ 3.6686,  0.5907,  1.5719],\n",
       "        [ 0.9564, -0.3670, -1.0033]])"
      ]
     },
     "execution_count": 21,
     "metadata": {},
     "output_type": "execute_result"
    }
   ],
   "source": [
    "torch.add(x,y)"
   ]
  },
  {
   "cell_type": "markdown",
   "id": "0f8d76d8-7e01-44f6-b3df-df244e63ba2b",
   "metadata": {},
   "source": [
    "### 加法2: 提供一个输出tensor作为参数"
   ]
  },
  {
   "cell_type": "code",
   "execution_count": 22,
   "id": "28f582dc-a6bb-4ac4-8cff-d70f4994cc39",
   "metadata": {},
   "outputs": [
    {
     "data": {
      "text/plain": [
       "tensor([[ 2.3106,  0.5574,  0.0249],\n",
       "        [-0.6929,  2.2716, -0.6148],\n",
       "        [ 1.3210,  1.8878,  0.4557],\n",
       "        [ 3.6686,  0.5907,  1.5719],\n",
       "        [ 0.9564, -0.3670, -1.0033]])"
      ]
     },
     "execution_count": 22,
     "metadata": {},
     "output_type": "execute_result"
    }
   ],
   "source": [
    "result = torch.empty(5,3)\n",
    "torch.add(x,y, out=result)"
   ]
  },
  {
   "cell_type": "markdown",
   "id": "02109000-2b9d-4ff2-b9be-eea6dcb11464",
   "metadata": {},
   "source": [
    "### 加法：in-place，y.add_(x)"
   ]
  },
  {
   "cell_type": "code",
   "execution_count": 25,
   "id": "706d735b-bd72-4bf3-80bf-1fee2695004f",
   "metadata": {},
   "outputs": [
    {
     "data": {
      "text/plain": [
       "tensor([[ 3.8425,  0.9697, -0.0942],\n",
       "        [-1.3971,  3.9975, -1.3204],\n",
       "        [ 2.4877,  3.2776,  0.1842],\n",
       "        [ 6.7805,  0.5506,  2.4003],\n",
       "        [ 1.6554, -0.9155, -2.5279]])"
      ]
     },
     "execution_count": 25,
     "metadata": {},
     "output_type": "execute_result"
    }
   ],
   "source": [
    "a = y.add_(x)\n",
    "a"
   ]
  },
  {
   "cell_type": "code",
   "execution_count": 26,
   "id": "914ee801-4903-4e10-b511-4785f7fd31bc",
   "metadata": {},
   "outputs": [
    {
     "data": {
      "text/plain": [
       "tensor([[ 5.3744,  1.3820, -0.2134],\n",
       "        [-2.1012,  5.7233, -2.0260],\n",
       "        [ 3.6544,  4.6674, -0.0873],\n",
       "        [ 9.8923,  0.5106,  3.2286],\n",
       "        [ 2.3544, -1.4639, -4.0524]])"
      ]
     },
     "execution_count": 26,
     "metadata": {},
     "output_type": "execute_result"
    }
   ],
   "source": [
    "b = y.add(x)\n",
    "b"
   ]
  },
  {
   "cell_type": "code",
   "execution_count": 30,
   "id": "f57a2f7b-5b96-4365-9a5c-5ecdabffbcd9",
   "metadata": {},
   "outputs": [
    {
     "data": {
      "text/plain": [
       "tensor([3, 3])"
      ]
     },
     "execution_count": 30,
     "metadata": {},
     "output_type": "execute_result"
    }
   ],
   "source": [
    "a = torch.tensor([3,3])\n",
    "a"
   ]
  },
  {
   "cell_type": "code",
   "execution_count": 32,
   "id": "a6746ba0-2953-4058-b14d-7e677e56bad4",
   "metadata": {},
   "outputs": [
    {
     "data": {
      "text/plain": [
       "tensor([2, 2])"
      ]
     },
     "execution_count": 32,
     "metadata": {},
     "output_type": "execute_result"
    }
   ],
   "source": [
    "b = torch.tensor([2,2])\n",
    "b"
   ]
  },
  {
   "cell_type": "code",
   "execution_count": 33,
   "id": "e52eb68c-f2cf-4d96-b465-69b7de90f7a2",
   "metadata": {},
   "outputs": [
    {
     "data": {
      "text/plain": [
       "tensor([5, 5])"
      ]
     },
     "execution_count": 33,
     "metadata": {},
     "output_type": "execute_result"
    }
   ],
   "source": [
    "c = a.add(b)\n",
    "c"
   ]
  },
  {
   "cell_type": "code",
   "execution_count": 34,
   "id": "bbaa9bb3-61c7-47a8-a2d6-fd2e3776aa0f",
   "metadata": {},
   "outputs": [
    {
     "data": {
      "text/plain": [
       "tensor([5, 5])"
      ]
     },
     "execution_count": 34,
     "metadata": {},
     "output_type": "execute_result"
    }
   ],
   "source": [
    "d = a.add_(b)\n",
    "d"
   ]
  },
  {
   "cell_type": "markdown",
   "id": "a2de6860-087d-41fa-a988-1cc41955f6b7",
   "metadata": {},
   "source": [
    "### 可以使用标准的Numpy类似的索引操作"
   ]
  },
  {
   "cell_type": "code",
   "execution_count": 35,
   "id": "bea65b3a-3f94-4730-a83f-f058d87f9765",
   "metadata": {},
   "outputs": [
    {
     "name": "stdout",
     "output_type": "stream",
     "text": [
      "tensor([ 0.4123,  1.7259,  1.3898, -0.0400, -0.5484])\n"
     ]
    }
   ],
   "source": [
    "print(x[:,1])"
   ]
  },
  {
   "cell_type": "code",
   "execution_count": null,
   "id": "6e8d986d-dccf-485c-835d-3161db9f581c",
   "metadata": {},
   "outputs": [],
   "source": []
  }
 ],
 "metadata": {
  "kernelspec": {
   "display_name": "Python 3 (ipykernel)",
   "language": "python",
   "name": "python3"
  },
  "language_info": {
   "codemirror_mode": {
    "name": "ipython",
    "version": 3
   },
   "file_extension": ".py",
   "mimetype": "text/x-python",
   "name": "python",
   "nbconvert_exporter": "python",
   "pygments_lexer": "ipython3",
   "version": "3.8.19"
  }
 },
 "nbformat": 4,
 "nbformat_minor": 5
}
