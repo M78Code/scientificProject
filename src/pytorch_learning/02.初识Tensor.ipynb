{
 "cells": [
  {
   "cell_type": "code",
   "execution_count": 1,
   "id": "456fde64-ce53-4650-94d5-c3e5496a8d67",
   "metadata": {},
   "outputs": [],
   "source": [
    "import torch"
   ]
  },
  {
   "cell_type": "code",
   "execution_count": 2,
   "id": "88f9c934-a167-4898-8161-86e4849d7e0b",
   "metadata": {},
   "outputs": [],
   "source": [
    "x = [2, 9, 5, 16, 23, 35]"
   ]
  },
  {
   "cell_type": "code",
   "execution_count": 3,
   "id": "d10b96c0-63f3-4046-bc72-9d32f1cd9c92",
   "metadata": {},
   "outputs": [
    {
     "data": {
      "text/plain": [
       "False"
      ]
     },
     "execution_count": 3,
     "metadata": {},
     "output_type": "execute_result"
    }
   ],
   "source": [
    "# 1 检查x是否为tensor对象\n",
    "torch.is_tensor(x)"
   ]
  },
  {
   "cell_type": "code",
   "execution_count": 4,
   "id": "4b21fc5f-837b-4dfe-88be-5f868e128326",
   "metadata": {},
   "outputs": [
    {
     "data": {
      "text/plain": [
       "tensor([[0.3008, 0.6378]])"
      ]
     },
     "execution_count": 4,
     "metadata": {},
     "output_type": "execute_result"
    }
   ],
   "source": [
    "y = torch.rand(1, 2) # 1行2列\n",
    "y"
   ]
  },
  {
   "cell_type": "code",
   "execution_count": 5,
   "id": "fd282db8-4d71-42df-96e3-4699c1295e3d",
   "metadata": {},
   "outputs": [
    {
     "data": {
      "text/plain": [
       "True"
      ]
     },
     "execution_count": 5,
     "metadata": {},
     "output_type": "execute_result"
    }
   ],
   "source": [
    "torch.is_tensor(y)"
   ]
  },
  {
   "cell_type": "code",
   "execution_count": 6,
   "id": "1324219c-1e15-42f3-9b20-88f85a3cdc9b",
   "metadata": {},
   "outputs": [
    {
     "data": {
      "text/plain": [
       "2"
      ]
     },
     "execution_count": 6,
     "metadata": {},
     "output_type": "execute_result"
    }
   ],
   "source": [
    "torch.numel(y) # 统计tensor中的元素个数"
   ]
  },
  {
   "cell_type": "code",
   "execution_count": 7,
   "id": "de980fc2-50b6-47d9-bda9-d0bff5f09e79",
   "metadata": {},
   "outputs": [
    {
     "data": {
      "text/plain": [
       "tensor([[0., 0., 0.],\n",
       "        [0., 0., 0.],\n",
       "        [0., 0., 0.]])"
      ]
     },
     "execution_count": 7,
     "metadata": {},
     "output_type": "execute_result"
    }
   ],
   "source": [
    "# 创建全0的tensor\n",
    "z = torch.zeros(3,3) # 3行3列\n",
    "z"
   ]
  },
  {
   "cell_type": "code",
   "execution_count": 8,
   "id": "1a426757-9bbd-4f84-a2b4-9ca17b91f8f9",
   "metadata": {},
   "outputs": [
    {
     "data": {
      "text/plain": [
       "9"
      ]
     },
     "execution_count": 8,
     "metadata": {},
     "output_type": "execute_result"
    }
   ],
   "source": [
    "torch.numel(z)"
   ]
  },
  {
   "cell_type": "code",
   "execution_count": 9,
   "id": "ccf3c53a-9668-4ec5-8320-2ce57a067851",
   "metadata": {},
   "outputs": [
    {
     "data": {
      "text/plain": [
       "tensor([[1., 0., 0.],\n",
       "        [0., 1., 0.],\n",
       "        [0., 0., 1.]])"
      ]
     },
     "execution_count": 9,
     "metadata": {},
     "output_type": "execute_result"
    }
   ],
   "source": [
    "# 3 创建对角线为1的tensor\n",
    "torch.eye(3,3)"
   ]
  },
  {
   "cell_type": "code",
   "execution_count": 10,
   "id": "dd460816-7efe-4b0f-b51a-12cb1c06aaa8",
   "metadata": {},
   "outputs": [],
   "source": [
    "# 4将numpy转换为tensor\n",
    "import numpy as np"
   ]
  },
  {
   "cell_type": "code",
   "execution_count": 11,
   "id": "ce872a9e-071f-4232-97a3-ad549c339320",
   "metadata": {},
   "outputs": [
    {
     "data": {
      "text/plain": [
       "array([3, 4, 5, 6, 7])"
      ]
     },
     "execution_count": 11,
     "metadata": {},
     "output_type": "execute_result"
    }
   ],
   "source": [
    "x = np.array([3,4,5,6,7])\n",
    "x"
   ]
  },
  {
   "cell_type": "code",
   "execution_count": 12,
   "id": "6437ba2f-d307-4050-aba8-4e607ff56faf",
   "metadata": {},
   "outputs": [
    {
     "data": {
      "text/plain": [
       "tensor([3, 4, 5, 6, 7])"
      ]
     },
     "execution_count": 12,
     "metadata": {},
     "output_type": "execute_result"
    }
   ],
   "source": [
    "torch.from_numpy(x)"
   ]
  },
  {
   "cell_type": "code",
   "execution_count": 13,
   "id": "9f72b479-7b89-43af-8733-9590ace66b42",
   "metadata": {},
   "outputs": [
    {
     "data": {
      "text/plain": [
       "tensor([ 2.,  4.,  6.,  8., 10.])"
      ]
     },
     "execution_count": 13,
     "metadata": {},
     "output_type": "execute_result"
    }
   ],
   "source": [
    "# 5 切分 linspace\n",
    "torch.linspace(2, 10, steps=5) # 起始是2，终止是10，切5份"
   ]
  },
  {
   "cell_type": "code",
   "execution_count": 14,
   "id": "41e08b4e-baaa-444e-a3f8-b6fd9a880cb4",
   "metadata": {},
   "outputs": [
    {
     "data": {
      "text/plain": [
       "tensor([0.5169, 0.5011, 0.6891, 0.7092, 0.3310, 0.3138, 0.5103, 0.2698, 0.9205,\n",
       "        0.0771])"
      ]
     },
     "execution_count": 14,
     "metadata": {},
     "output_type": "execute_result"
    }
   ],
   "source": [
    "# 6 均匀分布，值在0和1之间\n",
    "torch.rand(10)"
   ]
  },
  {
   "cell_type": "code",
   "execution_count": 15,
   "id": "849d3c7f-f0d2-40ed-82cf-d47bf99137a0",
   "metadata": {},
   "outputs": [
    {
     "data": {
      "text/plain": [
       "tensor([ 0.6548,  0.5867,  0.4916, -1.0868,  1.7859, -0.9599,  1.3224, -0.5550,\n",
       "         0.7131, -0.0813])"
      ]
     },
     "execution_count": 15,
     "metadata": {},
     "output_type": "execute_result"
    }
   ],
   "source": [
    "# 7 正态分布，均值为0，方差为1\n",
    "x = torch.randn(10)\n",
    "x"
   ]
  },
  {
   "cell_type": "code",
   "execution_count": 16,
   "id": "dc5744a9-51c9-4b36-af42-108a51d2ef37",
   "metadata": {},
   "outputs": [
    {
     "data": {
      "text/plain": [
       "tensor([9, 7, 5, 2, 8, 4, 3, 0, 1, 6])"
      ]
     },
     "execution_count": 16,
     "metadata": {},
     "output_type": "execute_result"
    }
   ],
   "source": [
    "# 8 选择随机数\n",
    "torch.randperm(10)"
   ]
  },
  {
   "cell_type": "code",
   "execution_count": 17,
   "id": "190393d9-620b-49aa-9dd2-774f174d255a",
   "metadata": {},
   "outputs": [
    {
     "data": {
      "text/plain": [
       "(tensor([10, 15, 20, 25]),)"
      ]
     },
     "execution_count": 17,
     "metadata": {},
     "output_type": "execute_result"
    }
   ],
   "source": [
    "# 9 生成一个区间的数\n",
    "torch.arange(10, 30, 5), # 开始，结尾，步长"
   ]
  },
  {
   "cell_type": "code",
   "execution_count": 18,
   "id": "9dbb47de-c123-4a6e-8902-9786602d5c6b",
   "metadata": {},
   "outputs": [
    {
     "data": {
      "text/plain": [
       "(tensor([[22, 36, 15],\n",
       "         [26, 39, 23],\n",
       "         [ 6, 45, 97]]),)"
      ]
     },
     "execution_count": 18,
     "metadata": {},
     "output_type": "execute_result"
    }
   ],
   "source": [
    "# 10 获取行或列的最小值和最大值的索引\n",
    "r = torch.randint(1,99, (3,3)), # 元素范围1～99，3行3列\n",
    "r"
   ]
  },
  {
   "cell_type": "code",
   "execution_count": 20,
   "id": "4edc9af2-39a5-455c-a7f7-60b7ed9a2eab",
   "metadata": {},
   "outputs": [
    {
     "data": {
      "text/plain": [
       "False"
      ]
     },
     "execution_count": 20,
     "metadata": {},
     "output_type": "execute_result"
    }
   ],
   "source": [
    "torch.is_tensor(r)"
   ]
  },
  {
   "cell_type": "code",
   "execution_count": 21,
   "id": "3a6ac7ca-b498-4ae3-ab3d-b37c089c1f5f",
   "metadata": {},
   "outputs": [
    {
     "data": {
      "text/plain": [
       "False"
      ]
     },
     "execution_count": 21,
     "metadata": {},
     "output_type": "execute_result"
    }
   ],
   "source": [
    "torch.is_tensor(r)"
   ]
  },
  {
   "cell_type": "code",
   "execution_count": 22,
   "id": "74ec0e05-b8a0-43aa-a401-59b42221ea5c",
   "metadata": {},
   "outputs": [],
   "source": [
    "z = torch.rand(3,5)"
   ]
  },
  {
   "cell_type": "code",
   "execution_count": 23,
   "id": "7fe6677e-a0c4-44d7-994b-0b55374d6169",
   "metadata": {},
   "outputs": [
    {
     "data": {
      "text/plain": [
       "tensor([[0.8944, 0.5106, 0.7726, 0.8298, 0.8311],\n",
       "        [0.3192, 0.5443, 0.3922, 0.0470, 0.2565],\n",
       "        [0.2729, 0.9379, 0.2099, 0.5350, 0.6847]])"
      ]
     },
     "execution_count": 23,
     "metadata": {},
     "output_type": "execute_result"
    }
   ],
   "source": [
    "z"
   ]
  },
  {
   "cell_type": "code",
   "execution_count": 24,
   "id": "4f3c3d85-9986-4162-9767-ad47c775e246",
   "metadata": {},
   "outputs": [
    {
     "data": {
      "text/plain": [
       "True"
      ]
     },
     "execution_count": 24,
     "metadata": {},
     "output_type": "execute_result"
    }
   ],
   "source": [
    "torch.is_tensor(z)"
   ]
  },
  {
   "cell_type": "code",
   "execution_count": 25,
   "id": "192ddd48-a85d-4ead-b3be-b11cb89d9b2f",
   "metadata": {},
   "outputs": [
    {
     "name": "stdout",
     "output_type": "stream",
     "text": [
      "tensor([[16, 68,  3],\n",
      "        [15, 80,  8],\n",
      "        [ 3, 31, 83]])\n"
     ]
    }
   ],
   "source": [
    "a = torch.randint(1, 99, size=(3,3))\n",
    "print(a)"
   ]
  },
  {
   "cell_type": "code",
   "execution_count": 26,
   "id": "b1b5e6c2",
   "metadata": {},
   "outputs": [
    {
     "name": "stdout",
     "output_type": "stream",
     "text": [
      "True\n"
     ]
    }
   ],
   "source": [
    "print(torch.is_tensor(a))"
   ]
  },
  {
   "cell_type": "code",
   "execution_count": 27,
   "id": "7821388c",
   "metadata": {},
   "outputs": [
    {
     "name": "stdout",
     "output_type": "stream",
     "text": [
      "tensor([[95, 10,  3],\n",
      "        [29,  4,  7],\n",
      "        [90, 50, 83]])\n"
     ]
    }
   ],
   "source": [
    "b = torch.randint(1, 99, (3,3))\n",
    "print(b)"
   ]
  },
  {
   "cell_type": "code",
   "execution_count": 28,
   "id": "91e84b6d",
   "metadata": {},
   "outputs": [
    {
     "name": "stdout",
     "output_type": "stream",
     "text": [
      "True\n"
     ]
    }
   ],
   "source": [
    "print(torch.is_tensor(b))"
   ]
  },
  {
   "cell_type": "code",
   "execution_count": 29,
   "id": "7fdf8d36",
   "metadata": {},
   "outputs": [
    {
     "data": {
      "text/plain": [
       "tensor([1, 1, 0])"
      ]
     },
     "execution_count": 29,
     "metadata": {},
     "output_type": "execute_result"
    }
   ],
   "source": [
    "torch.argmin(b, dim=0) # 返回张量b中每列最小值的索引"
   ]
  },
  {
   "cell_type": "code",
   "execution_count": 30,
   "id": "6fed422b",
   "metadata": {},
   "outputs": [
    {
     "data": {
      "text/plain": [
       "tensor([[9, 8, 6],\n",
       "        [8, 5, 1]])"
      ]
     },
     "execution_count": 30,
     "metadata": {},
     "output_type": "execute_result"
    }
   ],
   "source": [
    "# 11 连接\n",
    "x = torch.randint(1, 10, size=(2,3))\n",
    "x"
   ]
  },
  {
   "cell_type": "code",
   "execution_count": 32,
   "id": "2b983eb9",
   "metadata": {},
   "outputs": [
    {
     "data": {
      "text/plain": [
       "tensor([[9, 8, 6],\n",
       "        [8, 5, 1],\n",
       "        [9, 8, 6],\n",
       "        [8, 5, 1]])"
      ]
     },
     "execution_count": 32,
     "metadata": {},
     "output_type": "execute_result"
    }
   ],
   "source": [
    "torch.cat((x,x))"
   ]
  },
  {
   "cell_type": "code",
   "execution_count": 33,
   "id": "7a75915c",
   "metadata": {},
   "outputs": [
    {
     "data": {
      "text/plain": [
       "tensor([[9, 8, 6, 9, 8, 6],\n",
       "        [8, 5, 1, 8, 5, 1]])"
      ]
     },
     "execution_count": 33,
     "metadata": {},
     "output_type": "execute_result"
    }
   ],
   "source": [
    "torch.cat((x,x),dim=1) # 1是横轴"
   ]
  },
  {
   "cell_type": "code",
   "execution_count": 35,
   "id": "db3e0dc1",
   "metadata": {},
   "outputs": [
    {
     "data": {
      "text/plain": [
       "tensor([[2, 5, 1],\n",
       "        [8, 7, 2],\n",
       "        [4, 5, 1]])"
      ]
     },
     "execution_count": 35,
     "metadata": {},
     "output_type": "execute_result"
    }
   ],
   "source": [
    "# 12 chunk 切块\n",
    "a = torch.randint(1, 10, size=(3,3))\n",
    "a"
   ]
  },
  {
   "cell_type": "code",
   "execution_count": 36,
   "id": "01dafe11",
   "metadata": {},
   "outputs": [
    {
     "data": {
      "text/plain": [
       "(tensor([[2, 5, 1],\n",
       "         [8, 7, 2]]),\n",
       " tensor([[4, 5, 1]]))"
      ]
     },
     "execution_count": 36,
     "metadata": {},
     "output_type": "execute_result"
    }
   ],
   "source": [
    "torch.chunk(a, 2, 0) # 2是横向切，0是纵向切"
   ]
  },
  {
   "cell_type": "code",
   "execution_count": 37,
   "id": "66deacb7",
   "metadata": {},
   "outputs": [
    {
     "data": {
      "text/plain": [
       "(tensor([[2, 5],\n",
       "         [8, 7],\n",
       "         [4, 5]]),\n",
       " tensor([[1],\n",
       "         [2],\n",
       "         [1]]))"
      ]
     },
     "execution_count": 37,
     "metadata": {},
     "output_type": "execute_result"
    }
   ],
   "source": [
    "torch.chunk(a,2,1)"
   ]
  },
  {
   "cell_type": "code",
   "execution_count": 38,
   "id": "8d800c95",
   "metadata": {},
   "outputs": [
    {
     "data": {
      "text/plain": [
       "tensor([[-0.4866, -0.3824, -0.0411, -0.5659],\n",
       "        [ 2.0271,  1.2216, -1.0394, -0.2024],\n",
       "        [ 0.4239,  0.7316,  0.3183, -0.8880],\n",
       "        [-0.2469,  0.8867,  1.0403,  0.6877]])"
      ]
     },
     "execution_count": 38,
     "metadata": {},
     "output_type": "execute_result"
    }
   ],
   "source": [
    "# 13 index_select 根据索引选择\n",
    "x = torch.randn(4,4)\n",
    "x"
   ]
  },
  {
   "cell_type": "code",
   "execution_count": 39,
   "id": "ffcd05fb",
   "metadata": {},
   "outputs": [],
   "source": [
    "index = torch.tensor([0,2]) # 创建一个索引，这个索引是一个1维张量，0是第0行，2是第2行"
   ]
  },
  {
   "cell_type": "code",
   "execution_count": 40,
   "id": "9c61c94c",
   "metadata": {},
   "outputs": [
    {
     "data": {
      "text/plain": [
       "tensor([[-0.4866, -0.3824, -0.0411, -0.5659],\n",
       "        [ 0.4239,  0.7316,  0.3183, -0.8880]])"
      ]
     },
     "execution_count": 40,
     "metadata": {},
     "output_type": "execute_result"
    }
   ],
   "source": [
    "torch.index_select(x, 0, index)"
   ]
  },
  {
   "cell_type": "code",
   "execution_count": 42,
   "id": "2177017c",
   "metadata": {},
   "outputs": [
    {
     "data": {
      "text/plain": [
       "tensor([1, 2, 3, 4, 5, 6, 7])"
      ]
     },
     "execution_count": 42,
     "metadata": {},
     "output_type": "execute_result"
    }
   ],
   "source": [
    "# 14 split 分割\n",
    "x = torch.tensor([1,2,3,4,5,6,7])\n",
    "x"
   ]
  },
  {
   "cell_type": "code",
   "execution_count": 43,
   "id": "494dc937",
   "metadata": {},
   "outputs": [
    {
     "data": {
      "text/plain": [
       "(tensor([1, 2, 3]), tensor([4, 5, 6]), tensor([7]))"
      ]
     },
     "execution_count": 43,
     "metadata": {},
     "output_type": "execute_result"
    }
   ],
   "source": [
    "torch.split(x,3) "
   ]
  },
  {
   "cell_type": "code",
   "execution_count": 45,
   "id": "44efa241",
   "metadata": {},
   "outputs": [
    {
     "data": {
      "text/plain": [
       "tensor([[1, 2],\n",
       "        [3, 4]])"
      ]
     },
     "execution_count": 45,
     "metadata": {},
     "output_type": "execute_result"
    }
   ],
   "source": [
    "# 15 .t 和 .transpose 转置\n",
    "x = torch.tensor([[1,2],[3,4]])\n",
    "x"
   ]
  },
  {
   "cell_type": "code",
   "execution_count": 46,
   "id": "57cc8f42",
   "metadata": {},
   "outputs": [
    {
     "data": {
      "text/plain": [
       "tensor([[1, 3],\n",
       "        [2, 4]])"
      ]
     },
     "execution_count": 46,
     "metadata": {},
     "output_type": "execute_result"
    }
   ],
   "source": [
    "x.t() # 转置"
   ]
  },
  {
   "cell_type": "code",
   "execution_count": 48,
   "id": "145b4b46",
   "metadata": {},
   "outputs": [
    {
     "data": {
      "text/plain": [
       "tensor([[1, 3],\n",
       "        [2, 4]])"
      ]
     },
     "execution_count": 48,
     "metadata": {},
     "output_type": "execute_result"
    }
   ],
   "source": [
    "x.transpose(1,0)"
   ]
  },
  {
   "cell_type": "code",
   "execution_count": 49,
   "id": "e3568760",
   "metadata": {},
   "outputs": [
    {
     "data": {
      "text/plain": [
       "tensor([[1, 2],\n",
       "        [3, 4]])"
      ]
     },
     "execution_count": 49,
     "metadata": {},
     "output_type": "execute_result"
    }
   ],
   "source": [
    "# 16 tensor运算\n",
    "x = torch.tensor([[1,2],[3,4]])\n",
    "x"
   ]
  },
  {
   "cell_type": "code",
   "execution_count": 50,
   "id": "734cacd7",
   "metadata": {},
   "outputs": [
    {
     "data": {
      "text/plain": [
       "tensor([[2, 3],\n",
       "        [4, 5]])"
      ]
     },
     "execution_count": 50,
     "metadata": {},
     "output_type": "execute_result"
    }
   ],
   "source": [
    "torch.add(x,1)"
   ]
  },
  {
   "cell_type": "code",
   "execution_count": 51,
   "id": "db7b1553",
   "metadata": {},
   "outputs": [
    {
     "data": {
      "text/plain": [
       "tensor([[2, 4],\n",
       "        [6, 8]])"
      ]
     },
     "execution_count": 51,
     "metadata": {},
     "output_type": "execute_result"
    }
   ],
   "source": [
    "torch.mul(x,2)"
   ]
  },
  {
   "cell_type": "code",
   "execution_count": null,
   "id": "3d3846c3",
   "metadata": {},
   "outputs": [],
   "source": []
  }
 ],
 "metadata": {
  "kernelspec": {
   "display_name": "Python 3 (ipykernel)",
   "language": "python",
   "name": "python3"
  },
  "language_info": {
   "codemirror_mode": {
    "name": "ipython",
    "version": 3
   },
   "file_extension": ".py",
   "mimetype": "text/x-python",
   "name": "python",
   "nbconvert_exporter": "python",
   "pygments_lexer": "ipython3",
   "version": "3.8.19"
  }
 },
 "nbformat": 4,
 "nbformat_minor": 5
}
