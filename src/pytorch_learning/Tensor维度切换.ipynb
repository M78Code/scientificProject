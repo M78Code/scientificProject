{
 "cells": [
  {
   "cell_type": "markdown",
   "id": "8463bc27",
   "metadata": {},
   "source": [
    "# Operation\n",
    "### View/reshape（保持tensor整个大小不变时，将一个shape转成任意一个shape）\n",
    "### Squeeze/unsqueeze（挤压与增加维度操作，）\n",
    "### Transpose/t/permute（单次交换，矩阵转置，多交交换操作）\n",
    "### Expand/repeat（维度扩展）"
   ]
  },
  {
   "cell_type": "code",
   "execution_count": 1,
   "id": "d0ae4ba7",
   "metadata": {},
   "outputs": [],
   "source": [
    "import torch"
   ]
  },
  {
   "cell_type": "code",
   "execution_count": 2,
   "id": "5006b081",
   "metadata": {},
   "outputs": [],
   "source": [
    "a = torch.rand(4, 1, 28, 28)"
   ]
  },
  {
   "cell_type": "code",
   "execution_count": 3,
   "id": "51fea7c1",
   "metadata": {},
   "outputs": [
    {
     "data": {
      "text/plain": [
       "torch.Size([4, 1, 28, 28])"
      ]
     },
     "execution_count": 3,
     "metadata": {},
     "output_type": "execute_result"
    }
   ],
   "source": [
    "a.shape"
   ]
  },
  {
   "cell_type": "code",
   "execution_count": 4,
   "id": "955bb486",
   "metadata": {},
   "outputs": [
    {
     "data": {
      "text/plain": [
       "tensor([[0.5353, 0.6104, 0.3404,  ..., 0.2495, 0.0477, 0.2044],\n",
       "        [0.6978, 0.5670, 0.1666,  ..., 0.9691, 0.6491, 0.2680],\n",
       "        [0.4678, 0.2419, 0.6187,  ..., 0.7073, 0.3062, 0.3988],\n",
       "        [0.7291, 0.9760, 0.7140,  ..., 0.9757, 0.3709, 0.7650]])"
      ]
     },
     "execution_count": 4,
     "metadata": {},
     "output_type": "execute_result"
    }
   ],
   "source": [
    "a.view(4,28*28)"
   ]
  },
  {
   "cell_type": "code",
   "execution_count": 5,
   "id": "bd0acdb7",
   "metadata": {},
   "outputs": [
    {
     "data": {
      "text/plain": [
       "torch.Size([4, 784])"
      ]
     },
     "execution_count": 5,
     "metadata": {},
     "output_type": "execute_result"
    }
   ],
   "source": [
    "a.view(4,28*28).shape"
   ]
  },
  {
   "cell_type": "code",
   "execution_count": 6,
   "id": "bb89bc30",
   "metadata": {},
   "outputs": [
    {
     "data": {
      "text/plain": [
       "torch.Size([1, 4, 1, 28, 28])"
      ]
     },
     "execution_count": 6,
     "metadata": {},
     "output_type": "execute_result"
    }
   ],
   "source": [
    "a.unsqueeze(0).shape"
   ]
  },
  {
   "cell_type": "code",
   "execution_count": null,
   "id": "e4f1c7d3",
   "metadata": {},
   "outputs": [],
   "source": []
  }
 ],
 "metadata": {
  "kernelspec": {
   "display_name": "Python 3 (ipykernel)",
   "language": "python",
   "name": "python3"
  },
  "language_info": {
   "codemirror_mode": {
    "name": "ipython",
    "version": 3
   },
   "file_extension": ".py",
   "mimetype": "text/x-python",
   "name": "python",
   "nbconvert_exporter": "python",
   "pygments_lexer": "ipython3",
   "version": "3.11.7"
  }
 },
 "nbformat": 4,
 "nbformat_minor": 5
}
