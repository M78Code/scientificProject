{
 "cells": [
  {
   "cell_type": "code",
   "execution_count": 2,
   "id": "978af851",
   "metadata": {},
   "outputs": [],
   "source": [
    "import numpy as np\n",
    "import torch"
   ]
  },
  {
   "cell_type": "markdown",
   "id": "4b9dda93",
   "metadata": {},
   "source": [
    "# Import from numpy"
   ]
  },
  {
   "cell_type": "code",
   "execution_count": 2,
   "id": "c6657a7b",
   "metadata": {},
   "outputs": [],
   "source": [
    "a = np.array([2,3.3])"
   ]
  },
  {
   "cell_type": "code",
   "execution_count": 4,
   "id": "a5fe4f45",
   "metadata": {},
   "outputs": [
    {
     "data": {
      "text/plain": [
       "tensor([2.0000, 3.3000], dtype=torch.float64)"
      ]
     },
     "execution_count": 4,
     "metadata": {},
     "output_type": "execute_result"
    }
   ],
   "source": [
    "torch.from_numpy(a)"
   ]
  },
  {
   "cell_type": "code",
   "execution_count": 5,
   "id": "cb2a8771",
   "metadata": {},
   "outputs": [],
   "source": [
    "a=np.ones([2,3])"
   ]
  },
  {
   "cell_type": "code",
   "execution_count": 6,
   "id": "f2cc1790",
   "metadata": {},
   "outputs": [
    {
     "data": {
      "text/plain": [
       "tensor([[1., 1., 1.],\n",
       "        [1., 1., 1.]], dtype=torch.float64)"
      ]
     },
     "execution_count": 6,
     "metadata": {},
     "output_type": "execute_result"
    }
   ],
   "source": [
    "torch.from_numpy(a)"
   ]
  },
  {
   "cell_type": "markdown",
   "id": "97d45c9f",
   "metadata": {},
   "source": [
    "# Import from List"
   ]
  },
  {
   "cell_type": "code",
   "execution_count": 7,
   "id": "e6c7da6a",
   "metadata": {},
   "outputs": [
    {
     "data": {
      "text/plain": [
       "tensor([2.0000, 3.2000])"
      ]
     },
     "execution_count": 7,
     "metadata": {},
     "output_type": "execute_result"
    }
   ],
   "source": [
    "# 小写tensor和大写Tensor不同，小写的tensor接受的是具体的数据，即要么是numpy，要么是list。\n",
    "# 大写的Tensor（FloatTensor，IntTensor等）接受的是shape，即数据维度，未初始化的数据类型\n",
    "torch.tensor([2., 3.2])\n"
   ]
  },
  {
   "cell_type": "code",
   "execution_count": 8,
   "id": "6823c75a",
   "metadata": {},
   "outputs": [
    {
     "data": {
      "text/plain": [
       "tensor([2.0000, 3.2000])"
      ]
     },
     "execution_count": 8,
     "metadata": {},
     "output_type": "execute_result"
    }
   ],
   "source": [
    "# 大写的也可以接受具体数据，但要用[]包裹，表示是一个list\n",
    "torch.FloatTensor([2.,3.2])"
   ]
  },
  {
   "cell_type": "code",
   "execution_count": 9,
   "id": "f0fba5d0",
   "metadata": {},
   "outputs": [
    {
     "data": {
      "text/plain": [
       "[3.0, 4.0, 5.0]"
      ]
     },
     "execution_count": 9,
     "metadata": {},
     "output_type": "execute_result"
    }
   ],
   "source": [
    "l = [3., 4., 5.]\n",
    "l"
   ]
  },
  {
   "cell_type": "code",
   "execution_count": 10,
   "id": "2402a344",
   "metadata": {},
   "outputs": [],
   "source": [
    "a = torch.FloatTensor(l)"
   ]
  },
  {
   "cell_type": "code",
   "execution_count": 11,
   "id": "32062e78",
   "metadata": {},
   "outputs": [
    {
     "data": {
      "text/plain": [
       "tensor([3., 4., 5.])"
      ]
     },
     "execution_count": 11,
     "metadata": {},
     "output_type": "execute_result"
    }
   ],
   "source": [
    "a"
   ]
  },
  {
   "cell_type": "code",
   "execution_count": 12,
   "id": "5a99c79a",
   "metadata": {},
   "outputs": [
    {
     "data": {
      "text/plain": [
       "torch.Size([3])"
      ]
     },
     "execution_count": 12,
     "metadata": {},
     "output_type": "execute_result"
    }
   ],
   "source": [
    "a.shape"
   ]
  },
  {
   "cell_type": "code",
   "execution_count": 13,
   "id": "869b6dca",
   "metadata": {},
   "outputs": [
    {
     "data": {
      "text/plain": [
       "3"
      ]
     },
     "execution_count": 13,
     "metadata": {},
     "output_type": "execute_result"
    }
   ],
   "source": [
    "a.size(0)"
   ]
  },
  {
   "cell_type": "code",
   "execution_count": 14,
   "id": "9de2def9",
   "metadata": {},
   "outputs": [
    {
     "data": {
      "text/plain": [
       "3"
      ]
     },
     "execution_count": 14,
     "metadata": {},
     "output_type": "execute_result"
    }
   ],
   "source": [
    "a.shape[0]"
   ]
  },
  {
   "cell_type": "markdown",
   "id": "a04b31ea",
   "metadata": {},
   "source": [
    "# uninitialized"
   ]
  },
  {
   "cell_type": "code",
   "execution_count": 3,
   "id": "7c8a50c2",
   "metadata": {},
   "outputs": [
    {
     "data": {
      "text/plain": [
       "tensor([0.])"
      ]
     },
     "execution_count": 3,
     "metadata": {},
     "output_type": "execute_result"
    }
   ],
   "source": [
    "torch.empty(1)"
   ]
  },
  {
   "cell_type": "code",
   "execution_count": 7,
   "id": "8d8c340b",
   "metadata": {},
   "outputs": [
    {
     "data": {
      "text/plain": [
       "tensor([[0., 0., 0.],\n",
       "        [0., 0., 0.]])"
      ]
     },
     "execution_count": 7,
     "metadata": {},
     "output_type": "execute_result"
    }
   ],
   "source": [
    "torch.Tensor(2,3)"
   ]
  },
  {
   "cell_type": "code",
   "execution_count": 10,
   "id": "1b9b94e4",
   "metadata": {},
   "outputs": [
    {
     "data": {
      "text/plain": [
       "tensor([0.])"
      ]
     },
     "execution_count": 10,
     "metadata": {},
     "output_type": "execute_result"
    }
   ],
   "source": [
    "torch.Tensor(1)"
   ]
  },
  {
   "cell_type": "code",
   "execution_count": 11,
   "id": "9fb158a2",
   "metadata": {},
   "outputs": [
    {
     "data": {
      "text/plain": [
       "tensor([[0, 0, 0],\n",
       "        [0, 0, 0]], dtype=torch.int32)"
      ]
     },
     "execution_count": 11,
     "metadata": {},
     "output_type": "execute_result"
    }
   ],
   "source": [
    "torch.IntTensor(2,3)"
   ]
  },
  {
   "cell_type": "code",
   "execution_count": 12,
   "id": "4e6fa62c",
   "metadata": {},
   "outputs": [
    {
     "data": {
      "text/plain": [
       "tensor([[0., 0., 0.],\n",
       "        [0., 0., 0.]])"
      ]
     },
     "execution_count": 12,
     "metadata": {},
     "output_type": "execute_result"
    }
   ],
   "source": [
    "torch.FloatTensor(2,3)"
   ]
  },
  {
   "cell_type": "markdown",
   "id": "48d289cd",
   "metadata": {},
   "source": [
    "# rand, [0,1]使用随机的0～1分布初始化值"
   ]
  },
  {
   "cell_type": "code",
   "execution_count": 14,
   "id": "40db5a67",
   "metadata": {},
   "outputs": [],
   "source": [
    "a = torch.rand(3,3)"
   ]
  },
  {
   "cell_type": "code",
   "execution_count": 15,
   "id": "2b8bfd6f",
   "metadata": {},
   "outputs": [
    {
     "data": {
      "text/plain": [
       "tensor([[0.1322, 0.5016, 0.0408],\n",
       "        [0.6152, 0.0918, 0.2216],\n",
       "        [0.5321, 0.4220, 0.3356]])"
      ]
     },
     "execution_count": 15,
     "metadata": {},
     "output_type": "execute_result"
    }
   ],
   "source": [
    "a"
   ]
  },
  {
   "cell_type": "code",
   "execution_count": 16,
   "id": "542aab18",
   "metadata": {},
   "outputs": [
    {
     "data": {
      "text/plain": [
       "tensor([[0.5312, 0.0192, 0.2848],\n",
       "        [0.2432, 0.3024, 0.0825],\n",
       "        [0.3738, 0.0861, 0.6364]])"
      ]
     },
     "execution_count": 16,
     "metadata": {},
     "output_type": "execute_result"
    }
   ],
   "source": [
    "torch.rand_like(a)"
   ]
  },
  {
   "cell_type": "code",
   "execution_count": 26,
   "id": "76225f32",
   "metadata": {},
   "outputs": [
    {
     "data": {
      "text/plain": [
       "tensor([[7, 5, 5],\n",
       "        [7, 3, 1],\n",
       "        [1, 8, 3]])"
      ]
     },
     "execution_count": 26,
     "metadata": {},
     "output_type": "execute_result"
    }
   ],
   "source": [
    "torch.randint(1, 10,a.shape)"
   ]
  },
  {
   "cell_type": "code",
   "execution_count": 24,
   "id": "a72df5c3",
   "metadata": {},
   "outputs": [
    {
     "data": {
      "text/plain": [
       "torch.Size([3, 3])"
      ]
     },
     "execution_count": 24,
     "metadata": {},
     "output_type": "execute_result"
    }
   ],
   "source": [
    "a.shape"
   ]
  },
  {
   "cell_type": "markdown",
   "id": "ccc4d0a1",
   "metadata": {},
   "source": [
    "# randn, 正态分布N(0, 1)之间，N(u, std)"
   ]
  },
  {
   "cell_type": "code",
   "execution_count": 27,
   "id": "5f363bea",
   "metadata": {},
   "outputs": [
    {
     "data": {
      "text/plain": [
       "tensor([[-0.4431, -1.7118,  0.0138],\n",
       "        [-1.0520, -0.9175, -0.3809],\n",
       "        [ 0.2526,  0.3437,  1.5512]])"
      ]
     },
     "execution_count": 27,
     "metadata": {},
     "output_type": "execute_result"
    }
   ],
   "source": [
    "torch.randn(3,3)"
   ]
  },
  {
   "cell_type": "markdown",
   "id": "d61b4204",
   "metadata": {},
   "source": [
    "# 指定全部是某个元素full"
   ]
  },
  {
   "cell_type": "code",
   "execution_count": 28,
   "id": "0ec6b733",
   "metadata": {},
   "outputs": [
    {
     "data": {
      "text/plain": [
       "tensor([[5, 5, 5],\n",
       "        [5, 5, 5]])"
      ]
     },
     "execution_count": 28,
     "metadata": {},
     "output_type": "execute_result"
    }
   ],
   "source": [
    "torch.full([2, 3],5)"
   ]
  },
  {
   "cell_type": "code",
   "execution_count": 30,
   "id": "a814644b",
   "metadata": {},
   "outputs": [],
   "source": [
    "a = torch.full([],7) # 生成标量"
   ]
  },
  {
   "cell_type": "code",
   "execution_count": 31,
   "id": "42983a61",
   "metadata": {},
   "outputs": [
    {
     "data": {
      "text/plain": [
       "tensor(7)"
      ]
     },
     "execution_count": 31,
     "metadata": {},
     "output_type": "execute_result"
    }
   ],
   "source": [
    "a"
   ]
  },
  {
   "cell_type": "code",
   "execution_count": 32,
   "id": "3043fff8",
   "metadata": {},
   "outputs": [
    {
     "data": {
      "text/plain": [
       "torch.Size([])"
      ]
     },
     "execution_count": 32,
     "metadata": {},
     "output_type": "execute_result"
    }
   ],
   "source": [
    "a.shape"
   ]
  },
  {
   "cell_type": "markdown",
   "id": "fae8ecf4",
   "metadata": {},
   "source": [
    "# arange/range"
   ]
  },
  {
   "cell_type": "code",
   "execution_count": 33,
   "id": "1d4c77ab",
   "metadata": {},
   "outputs": [
    {
     "data": {
      "text/plain": [
       "tensor([0, 1, 2, 3, 4, 5, 6, 7, 8, 9])"
      ]
     },
     "execution_count": 33,
     "metadata": {},
     "output_type": "execute_result"
    }
   ],
   "source": [
    "torch.arange(0,10)"
   ]
  },
  {
   "cell_type": "code",
   "execution_count": 34,
   "id": "ce858ecd",
   "metadata": {},
   "outputs": [
    {
     "data": {
      "text/plain": [
       "tensor([0, 2, 4, 6, 8])"
      ]
     },
     "execution_count": 34,
     "metadata": {},
     "output_type": "execute_result"
    }
   ],
   "source": [
    "torch.arange(0, 10,2)"
   ]
  },
  {
   "cell_type": "markdown",
   "id": "730fa955",
   "metadata": {},
   "source": [
    "# linspace/logspace"
   ]
  },
  {
   "cell_type": "code",
   "execution_count": 35,
   "id": "55623309",
   "metadata": {},
   "outputs": [
    {
     "data": {
      "text/plain": [
       "tensor([ 0.0000,  3.3333,  6.6667, 10.0000])"
      ]
     },
     "execution_count": 35,
     "metadata": {},
     "output_type": "execute_result"
    }
   ],
   "source": [
    "torch.linspace(0,10,steps=4)"
   ]
  },
  {
   "cell_type": "code",
   "execution_count": 36,
   "id": "ccb1da8a",
   "metadata": {},
   "outputs": [
    {
     "data": {
      "text/plain": [
       "tensor([ 0.,  1.,  2.,  3.,  4.,  5.,  6.,  7.,  8.,  9., 10.])"
      ]
     },
     "execution_count": 36,
     "metadata": {},
     "output_type": "execute_result"
    }
   ],
   "source": [
    "torch.linspace(0, 10, steps=11)"
   ]
  },
  {
   "cell_type": "code",
   "execution_count": 37,
   "id": "a6cd4c9e",
   "metadata": {},
   "outputs": [
    {
     "data": {
      "text/plain": [
       "tensor([1.0000, 0.7743, 0.5995, 0.4642, 0.3594, 0.2783, 0.2154, 0.1668, 0.1292,\n",
       "        0.1000])"
      ]
     },
     "execution_count": 37,
     "metadata": {},
     "output_type": "execute_result"
    }
   ],
   "source": [
    "torch.logspace(0,-1,steps=10) # logspace的base参数可以设置为2， 10， e等底数"
   ]
  },
  {
   "cell_type": "markdown",
   "id": "13595279",
   "metadata": {},
   "source": [
    "# ones/zeros/eye"
   ]
  },
  {
   "cell_type": "code",
   "execution_count": 38,
   "id": "c4fbf110",
   "metadata": {},
   "outputs": [
    {
     "data": {
      "text/plain": [
       "tensor([[1., 1., 1.],\n",
       "        [1., 1., 1.],\n",
       "        [1., 1., 1.]])"
      ]
     },
     "execution_count": 38,
     "metadata": {},
     "output_type": "execute_result"
    }
   ],
   "source": [
    "torch.ones(3,3)"
   ]
  },
  {
   "cell_type": "code",
   "execution_count": 39,
   "id": "82dff19b",
   "metadata": {},
   "outputs": [
    {
     "data": {
      "text/plain": [
       "tensor([[0., 0., 0.],\n",
       "        [0., 0., 0.],\n",
       "        [0., 0., 0.]])"
      ]
     },
     "execution_count": 39,
     "metadata": {},
     "output_type": "execute_result"
    }
   ],
   "source": [
    "torch.zeros(3,3)"
   ]
  },
  {
   "cell_type": "code",
   "execution_count": 40,
   "id": "53983b52",
   "metadata": {},
   "outputs": [
    {
     "data": {
      "text/plain": [
       "tensor([[1., 0., 0., 0.],\n",
       "        [0., 1., 0., 0.],\n",
       "        [0., 0., 1., 0.]])"
      ]
     },
     "execution_count": 40,
     "metadata": {},
     "output_type": "execute_result"
    }
   ],
   "source": [
    "torch.eye(3,4)"
   ]
  },
  {
   "cell_type": "markdown",
   "id": "1d89e1ae",
   "metadata": {},
   "source": [
    "# randperm 打散"
   ]
  },
  {
   "cell_type": "code",
   "execution_count": 41,
   "id": "1e407d12",
   "metadata": {},
   "outputs": [
    {
     "data": {
      "text/plain": [
       "tensor([0.3236, 0.7251, 0.3677, 0.2226, 0.0751, 0.3456, 0.5485, 0.3262, 0.4185,\n",
       "        0.3424])"
      ]
     },
     "execution_count": 41,
     "metadata": {},
     "output_type": "execute_result"
    }
   ],
   "source": [
    "torch.rand(10)"
   ]
  },
  {
   "cell_type": "code",
   "execution_count": 42,
   "id": "90b61415",
   "metadata": {},
   "outputs": [
    {
     "data": {
      "text/plain": [
       "tensor([8, 0, 2, 1, 3, 5, 6, 9, 7, 4])"
      ]
     },
     "execution_count": 42,
     "metadata": {},
     "output_type": "execute_result"
    }
   ],
   "source": [
    "torch.randperm(10)"
   ]
  },
  {
   "cell_type": "code",
   "execution_count": 43,
   "id": "0519eb13",
   "metadata": {},
   "outputs": [],
   "source": [
    "a = torch.rand(4, 3, 28, 28)"
   ]
  },
  {
   "cell_type": "code",
   "execution_count": 44,
   "id": "389f9d7b",
   "metadata": {},
   "outputs": [
    {
     "data": {
      "text/plain": [
       "torch.Size([3, 28, 28])"
      ]
     },
     "execution_count": 44,
     "metadata": {},
     "output_type": "execute_result"
    }
   ],
   "source": [
    "a[0].shape"
   ]
  },
  {
   "cell_type": "code",
   "execution_count": 45,
   "id": "7a6cdd62",
   "metadata": {},
   "outputs": [
    {
     "data": {
      "text/plain": [
       "torch.Size([28, 28])"
      ]
     },
     "execution_count": 45,
     "metadata": {},
     "output_type": "execute_result"
    }
   ],
   "source": [
    "a[0,0].shape"
   ]
  },
  {
   "cell_type": "code",
   "execution_count": 46,
   "id": "a75f6f78",
   "metadata": {},
   "outputs": [
    {
     "data": {
      "text/plain": [
       "tensor(0.5502)"
      ]
     },
     "execution_count": 46,
     "metadata": {},
     "output_type": "execute_result"
    }
   ],
   "source": [
    "a[0,0,2,4]"
   ]
  },
  {
   "cell_type": "code",
   "execution_count": null,
   "id": "1f913400",
   "metadata": {},
   "outputs": [],
   "source": []
  }
 ],
 "metadata": {
  "kernelspec": {
   "display_name": "Python 3 (ipykernel)",
   "language": "python",
   "name": "python3"
  },
  "language_info": {
   "codemirror_mode": {
    "name": "ipython",
    "version": 3
   },
   "file_extension": ".py",
   "mimetype": "text/x-python",
   "name": "python",
   "nbconvert_exporter": "python",
   "pygments_lexer": "ipython3",
   "version": "3.11.7"
  }
 },
 "nbformat": 4,
 "nbformat_minor": 5
}
