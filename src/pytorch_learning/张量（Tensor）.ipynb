{
 "cells": [
  {
   "cell_type": "markdown",
   "id": "ff98c9f2-93fe-4759-a4fb-545091fa19d5",
   "metadata": {},
   "source": [
    "# Tensors（张量）"
   ]
  },
  {
   "cell_type": "code",
   "execution_count": 1,
   "id": "3c95d006-943f-472b-b2ea-2e2496182013",
   "metadata": {},
   "outputs": [],
   "source": [
    "from __future__ import print_function\n",
    "import torch"
   ]
  },
  {
   "cell_type": "markdown",
   "id": "b83ec4f8-39a4-4ad0-8d10-19c485a47aea",
   "metadata": {},
   "source": [
    "### 构造一个5*3矩阵，不初始化"
   ]
  },
  {
   "cell_type": "code",
   "execution_count": 2,
   "id": "b385ce63-6ad4-438b-853a-7e7b0c74417e",
   "metadata": {},
   "outputs": [
    {
     "data": {
      "text/plain": [
       "tensor([[0., 0., 0.],\n",
       "        [0., 0., 0.],\n",
       "        [0., 0., 0.],\n",
       "        [0., 0., 0.],\n",
       "        [0., 0., 0.]])"
      ]
     },
     "execution_count": 2,
     "metadata": {},
     "output_type": "execute_result"
    }
   ],
   "source": [
    "x = torch.empty(5,3)\n",
    "x"
   ]
  },
  {
   "cell_type": "markdown",
   "id": "73d6f2ed-bc4d-44d2-9d85-ab8909376478",
   "metadata": {},
   "source": [
    "### 构造一个随机初始化的矩阵"
   ]
  },
  {
   "cell_type": "code",
   "execution_count": 3,
   "id": "8c9e7217-685d-408b-89d1-8cb88c2cde7e",
   "metadata": {},
   "outputs": [
    {
     "data": {
      "text/plain": [
       "tensor([[0.6503, 0.2318, 0.0734],\n",
       "        [0.7849, 0.9109, 0.4711],\n",
       "        [0.0290, 0.4550, 0.9422],\n",
       "        [0.9055, 0.0723, 0.8480],\n",
       "        [0.8217, 0.7343, 0.6461]])"
      ]
     },
     "execution_count": 3,
     "metadata": {},
     "output_type": "execute_result"
    }
   ],
   "source": [
    "x = torch.rand(5,3)\n",
    "x"
   ]
  },
  {
   "cell_type": "markdown",
   "id": "278c2f19-7097-462d-aeea-2d62ee406a3e",
   "metadata": {},
   "source": [
    "### 构造一个矩阵全为0，类型long"
   ]
  },
  {
   "cell_type": "code",
   "execution_count": 4,
   "id": "cbb3bb09-f1ea-4f8f-9544-7b04d1add687",
   "metadata": {},
   "outputs": [
    {
     "data": {
      "text/plain": [
       "tensor([[0, 0, 0],\n",
       "        [0, 0, 0],\n",
       "        [0, 0, 0],\n",
       "        [0, 0, 0],\n",
       "        [0, 0, 0]])"
      ]
     },
     "execution_count": 4,
     "metadata": {},
     "output_type": "execute_result"
    }
   ],
   "source": [
    "x = torch.zeros(5,3,dtype=torch.long)\n",
    "x"
   ]
  },
  {
   "cell_type": "markdown",
   "id": "47755f8c-c9d3-4305-a002-8a5ce4e3fb3a",
   "metadata": {},
   "source": [
    "### 构造一个张量，直接使用数据"
   ]
  },
  {
   "cell_type": "code",
   "execution_count": 5,
   "id": "0b401d94-c619-4e7e-a95e-e5d7544329f1",
   "metadata": {},
   "outputs": [
    {
     "data": {
      "text/plain": [
       "tensor([5.5000, 3.0000])"
      ]
     },
     "execution_count": 5,
     "metadata": {},
     "output_type": "execute_result"
    }
   ],
   "source": [
    "x = torch.tensor([5.5, 3])\n",
    "x"
   ]
  },
  {
   "cell_type": "code",
   "execution_count": 6,
   "id": "eeb6e9f9-ecd7-4293-b5af-b6a8d9ea67b2",
   "metadata": {},
   "outputs": [],
   "source": [
    "### 构造一个tensor基于已存在的tensor"
   ]
  },
  {
   "cell_type": "code",
   "execution_count": 8,
   "id": "46e59cfb-61f0-4c97-af75-ee4e7e1382be",
   "metadata": {},
   "outputs": [
    {
     "data": {
      "text/plain": [
       "tensor([[1., 1., 1.],\n",
       "        [1., 1., 1.],\n",
       "        [1., 1., 1.],\n",
       "        [1., 1., 1.],\n",
       "        [1., 1., 1.]], dtype=torch.float64)"
      ]
     },
     "execution_count": 8,
     "metadata": {},
     "output_type": "execute_result"
    }
   ],
   "source": [
    "x = x.new_ones(5,3,dtype=torch.double)\n",
    "x"
   ]
  },
  {
   "cell_type": "code",
   "execution_count": 9,
   "id": "bcd05e1a-6b40-4364-83c0-29eb5cb11806",
   "metadata": {},
   "outputs": [
    {
     "data": {
      "text/plain": [
       "tensor([[ 1.5319,  0.4123, -0.1192],\n",
       "        [-0.7041,  1.7259, -0.7056],\n",
       "        [ 1.1667,  1.3898, -0.2715],\n",
       "        [ 3.1119, -0.0400,  0.8284],\n",
       "        [ 0.6990, -0.5484, -1.5246]])"
      ]
     },
     "execution_count": 9,
     "metadata": {},
     "output_type": "execute_result"
    }
   ],
   "source": [
    "x = torch.randn_like(x,dtype=torch.float)\n",
    "x"
   ]
  },
  {
   "cell_type": "markdown",
   "id": "3a4d256c-4286-4fa4-9de5-d10a8a4b489e",
   "metadata": {},
   "source": [
    "### 获取维度信息"
   ]
  },
  {
   "cell_type": "code",
   "execution_count": 11,
   "id": "ac220ef6-0b67-482e-adb9-53f06bf2faeb",
   "metadata": {},
   "outputs": [
    {
     "data": {
      "text/plain": [
       "torch.Size([5, 3])"
      ]
     },
     "execution_count": 11,
     "metadata": {},
     "output_type": "execute_result"
    }
   ],
   "source": [
    "x.size()\n",
    "# torch.Size是一个元组，支持左右的元组操作"
   ]
  },
  {
   "cell_type": "markdown",
   "id": "450ff5e9-3200-4555-baf9-251a970ea040",
   "metadata": {},
   "source": [
    "### 加法1: x+y"
   ]
  },
  {
   "cell_type": "code",
   "execution_count": 18,
   "id": "2d94a72e-0057-4a9b-93f7-75c9314e7c62",
   "metadata": {},
   "outputs": [
    {
     "name": "stdout",
     "output_type": "stream",
     "text": [
      "The history saving thread hit an unexpected error (OperationalError('attempt to write a readonly database')).History will not be written to the database.\n"
     ]
    },
    {
     "data": {
      "text/plain": [
       "tensor([[0.7787, 0.1451, 0.1441],\n",
       "        [0.0112, 0.5457, 0.0908],\n",
       "        [0.1543, 0.4980, 0.7271],\n",
       "        [0.5567, 0.6307, 0.7435],\n",
       "        [0.2573, 0.1814, 0.5213]])"
      ]
     },
     "execution_count": 18,
     "metadata": {},
     "output_type": "execute_result"
    }
   ],
   "source": [
    "y = torch.rand(5,3)\n",
    "y"
   ]
  },
  {
   "cell_type": "code",
   "execution_count": 19,
   "id": "da24e0ec-0da4-44fa-8af6-a8c231854f95",
   "metadata": {},
   "outputs": [
    {
     "data": {
      "text/plain": [
       "tensor([[ 2.3106,  0.5574,  0.0249],\n",
       "        [-0.6929,  2.2716, -0.6148],\n",
       "        [ 1.3210,  1.8878,  0.4557],\n",
       "        [ 3.6686,  0.5907,  1.5719],\n",
       "        [ 0.9564, -0.3670, -1.0033]])"
      ]
     },
     "execution_count": 19,
     "metadata": {},
     "output_type": "execute_result"
    }
   ],
   "source": [
    "x+y"
   ]
  },
  {
   "cell_type": "markdown",
   "id": "e4686733-9fc6-41e2-9644-440211afcb77",
   "metadata": {},
   "source": [
    "### 加法2: torch.add(x,y)"
   ]
  },
  {
   "cell_type": "code",
   "execution_count": 21,
   "id": "f66d9385-b330-4fe1-bcac-dfe3ba804ad8",
   "metadata": {},
   "outputs": [
    {
     "data": {
      "text/plain": [
       "tensor([[ 2.3106,  0.5574,  0.0249],\n",
       "        [-0.6929,  2.2716, -0.6148],\n",
       "        [ 1.3210,  1.8878,  0.4557],\n",
       "        [ 3.6686,  0.5907,  1.5719],\n",
       "        [ 0.9564, -0.3670, -1.0033]])"
      ]
     },
     "execution_count": 21,
     "metadata": {},
     "output_type": "execute_result"
    }
   ],
   "source": [
    "torch.add(x,y)"
   ]
  },
  {
   "cell_type": "markdown",
   "id": "0f8d76d8-7e01-44f6-b3df-df244e63ba2b",
   "metadata": {},
   "source": [
    "### 加法2: 提供一个输出tensor作为参数"
   ]
  },
  {
   "cell_type": "code",
   "execution_count": 22,
   "id": "28f582dc-a6bb-4ac4-8cff-d70f4994cc39",
   "metadata": {},
   "outputs": [
    {
     "data": {
      "text/plain": [
       "tensor([[ 2.3106,  0.5574,  0.0249],\n",
       "        [-0.6929,  2.2716, -0.6148],\n",
       "        [ 1.3210,  1.8878,  0.4557],\n",
       "        [ 3.6686,  0.5907,  1.5719],\n",
       "        [ 0.9564, -0.3670, -1.0033]])"
      ]
     },
     "execution_count": 22,
     "metadata": {},
     "output_type": "execute_result"
    }
   ],
   "source": [
    "result = torch.empty(5,3)\n",
    "torch.add(x,y, out=result)"
   ]
  },
  {
   "cell_type": "markdown",
   "id": "02109000-2b9d-4ff2-b9be-eea6dcb11464",
   "metadata": {},
   "source": [
    "### 加法：in-place，y.add_(x)"
   ]
  },
  {
   "cell_type": "code",
   "execution_count": 25,
   "id": "706d735b-bd72-4bf3-80bf-1fee2695004f",
   "metadata": {},
   "outputs": [
    {
     "data": {
      "text/plain": [
       "tensor([[ 3.8425,  0.9697, -0.0942],\n",
       "        [-1.3971,  3.9975, -1.3204],\n",
       "        [ 2.4877,  3.2776,  0.1842],\n",
       "        [ 6.7805,  0.5506,  2.4003],\n",
       "        [ 1.6554, -0.9155, -2.5279]])"
      ]
     },
     "execution_count": 25,
     "metadata": {},
     "output_type": "execute_result"
    }
   ],
   "source": [
    "a = y.add_(x)\n",
    "a"
   ]
  },
  {
   "cell_type": "code",
   "execution_count": 26,
   "id": "914ee801-4903-4e10-b511-4785f7fd31bc",
   "metadata": {},
   "outputs": [
    {
     "data": {
      "text/plain": [
       "tensor([[ 5.3744,  1.3820, -0.2134],\n",
       "        [-2.1012,  5.7233, -2.0260],\n",
       "        [ 3.6544,  4.6674, -0.0873],\n",
       "        [ 9.8923,  0.5106,  3.2286],\n",
       "        [ 2.3544, -1.4639, -4.0524]])"
      ]
     },
     "execution_count": 26,
     "metadata": {},
     "output_type": "execute_result"
    }
   ],
   "source": [
    "b = y.add(x)\n",
    "b"
   ]
  },
  {
   "cell_type": "code",
   "execution_count": 30,
   "id": "f57a2f7b-5b96-4365-9a5c-5ecdabffbcd9",
   "metadata": {},
   "outputs": [
    {
     "data": {
      "text/plain": [
       "tensor([3, 3])"
      ]
     },
     "execution_count": 30,
     "metadata": {},
     "output_type": "execute_result"
    }
   ],
   "source": [
    "a = torch.tensor([3,3])\n",
    "a"
   ]
  },
  {
   "cell_type": "code",
   "execution_count": 32,
   "id": "a6746ba0-2953-4058-b14d-7e677e56bad4",
   "metadata": {},
   "outputs": [
    {
     "data": {
      "text/plain": [
       "tensor([2, 2])"
      ]
     },
     "execution_count": 32,
     "metadata": {},
     "output_type": "execute_result"
    }
   ],
   "source": [
    "b = torch.tensor([2,2])\n",
    "b"
   ]
  },
  {
   "cell_type": "code",
   "execution_count": 33,
   "id": "e52eb68c-f2cf-4d96-b465-69b7de90f7a2",
   "metadata": {},
   "outputs": [
    {
     "data": {
      "text/plain": [
       "tensor([5, 5])"
      ]
     },
     "execution_count": 33,
     "metadata": {},
     "output_type": "execute_result"
    }
   ],
   "source": [
    "c = a.add(b)\n",
    "c"
   ]
  },
  {
   "cell_type": "code",
   "execution_count": 34,
   "id": "bbaa9bb3-61c7-47a8-a2d6-fd2e3776aa0f",
   "metadata": {},
   "outputs": [
    {
     "data": {
      "text/plain": [
       "tensor([5, 5])"
      ]
     },
     "execution_count": 34,
     "metadata": {},
     "output_type": "execute_result"
    }
   ],
   "source": [
    "d = a.add_(b)\n",
    "d"
   ]
  },
  {
   "cell_type": "markdown",
   "id": "a2de6860-087d-41fa-a988-1cc41955f6b7",
   "metadata": {},
   "source": [
    "### 可以使用标准的Numpy类似的索引操作"
   ]
  },
  {
   "cell_type": "code",
   "execution_count": 35,
   "id": "bea65b3a-3f94-4730-a83f-f058d87f9765",
   "metadata": {},
   "outputs": [
    {
     "name": "stdout",
     "output_type": "stream",
     "text": [
      "tensor([ 0.4123,  1.7259,  1.3898, -0.0400, -0.5484])\n"
     ]
    }
   ],
   "source": [
    "print(x[:,1])"
   ]
  },
  {
   "cell_type": "markdown",
   "id": "4c1c9147",
   "metadata": {},
   "source": [
    "# Type check"
   ]
  },
  {
   "cell_type": "code",
   "execution_count": 3,
   "id": "8d1608e9",
   "metadata": {},
   "outputs": [],
   "source": [
    "import torch"
   ]
  },
  {
   "cell_type": "code",
   "execution_count": 3,
   "id": "09cb76df",
   "metadata": {},
   "outputs": [
    {
     "data": {
      "text/plain": [
       "'torch.FloatTensor'"
      ]
     },
     "execution_count": 3,
     "metadata": {},
     "output_type": "execute_result"
    }
   ],
   "source": [
    "a = torch.randn(2, 3)\n",
    "a.type()"
   ]
  },
  {
   "cell_type": "code",
   "execution_count": 4,
   "id": "f3333788",
   "metadata": {},
   "outputs": [
    {
     "data": {
      "text/plain": [
       "torch.Tensor"
      ]
     },
     "execution_count": 4,
     "metadata": {},
     "output_type": "execute_result"
    }
   ],
   "source": [
    "type(a)"
   ]
  },
  {
   "cell_type": "code",
   "execution_count": 5,
   "id": "53bac491",
   "metadata": {},
   "outputs": [
    {
     "name": "stdout",
     "output_type": "stream",
     "text": [
      "tensor([[-0.8498, -0.5537, -0.9522],\n",
      "        [ 0.3787,  1.5810,  0.0051]])\n"
     ]
    }
   ],
   "source": [
    "print(a)"
   ]
  },
  {
   "cell_type": "code",
   "execution_count": 6,
   "id": "349ac015",
   "metadata": {},
   "outputs": [
    {
     "data": {
      "text/plain": [
       "True"
      ]
     },
     "execution_count": 6,
     "metadata": {},
     "output_type": "execute_result"
    }
   ],
   "source": [
    "isinstance(a, torch.FloatTensor)"
   ]
  },
  {
   "cell_type": "code",
   "execution_count": 7,
   "id": "55d6efac",
   "metadata": {},
   "outputs": [
    {
     "data": {
      "text/plain": [
       "False"
      ]
     },
     "execution_count": 7,
     "metadata": {},
     "output_type": "execute_result"
    }
   ],
   "source": [
    "isinstance(a, torch.cuda.DoubleTensor)"
   ]
  },
  {
   "cell_type": "code",
   "execution_count": 11,
   "id": "34fad0a2",
   "metadata": {},
   "outputs": [
    {
     "data": {
      "text/plain": [
       "device(type='mps', index=0)"
      ]
     },
     "execution_count": 11,
     "metadata": {},
     "output_type": "execute_result"
    }
   ],
   "source": [
    "device = torch.device(\"mps\")\n",
    "x = torch.randn(32, 32, device=device)\n",
    "x.device"
   ]
  },
  {
   "cell_type": "markdown",
   "id": "ba9860b5",
   "metadata": {},
   "source": [
    "# dim = 0，维度为0，表示标量"
   ]
  },
  {
   "cell_type": "code",
   "execution_count": 12,
   "id": "33bd6cd7",
   "metadata": {},
   "outputs": [],
   "source": [
    "a = torch.tensor(2.2)"
   ]
  },
  {
   "cell_type": "code",
   "execution_count": 13,
   "id": "2defccd1",
   "metadata": {},
   "outputs": [
    {
     "data": {
      "text/plain": [
       "torch.Size([])"
      ]
     },
     "execution_count": 13,
     "metadata": {},
     "output_type": "execute_result"
    }
   ],
   "source": [
    "a.shape"
   ]
  },
  {
   "cell_type": "code",
   "execution_count": 18,
   "id": "6e628581",
   "metadata": {},
   "outputs": [],
   "source": [
    "a1 = torch.FloatTensor(0,0)"
   ]
  },
  {
   "cell_type": "code",
   "execution_count": 19,
   "id": "a3f5d56e",
   "metadata": {},
   "outputs": [
    {
     "data": {
      "text/plain": [
       "tensor([], size=(0, 0))"
      ]
     },
     "execution_count": 19,
     "metadata": {},
     "output_type": "execute_result"
    }
   ],
   "source": [
    "a1"
   ]
  },
  {
   "cell_type": "code",
   "execution_count": 20,
   "id": "5e907f60",
   "metadata": {},
   "outputs": [
    {
     "data": {
      "text/plain": [
       "torch.Size([0, 0])"
      ]
     },
     "execution_count": 20,
     "metadata": {},
     "output_type": "execute_result"
    }
   ],
   "source": [
    "a1.shape"
   ]
  },
  {
   "cell_type": "code",
   "execution_count": 21,
   "id": "ccf6ee7e",
   "metadata": {},
   "outputs": [
    {
     "data": {
      "text/plain": [
       "torch.Size([])"
      ]
     },
     "execution_count": 21,
     "metadata": {},
     "output_type": "execute_result"
    }
   ],
   "source": [
    "torch.Size([])"
   ]
  },
  {
   "cell_type": "code",
   "execution_count": 22,
   "id": "b0c83125",
   "metadata": {},
   "outputs": [
    {
     "data": {
      "text/plain": [
       "0"
      ]
     },
     "execution_count": 22,
     "metadata": {},
     "output_type": "execute_result"
    }
   ],
   "source": [
    "len(a.shape)"
   ]
  },
  {
   "cell_type": "code",
   "execution_count": 23,
   "id": "468705a7",
   "metadata": {},
   "outputs": [
    {
     "data": {
      "text/plain": [
       "torch.Size([])"
      ]
     },
     "execution_count": 23,
     "metadata": {},
     "output_type": "execute_result"
    }
   ],
   "source": [
    "a.size()"
   ]
  },
  {
   "cell_type": "code",
   "execution_count": 24,
   "id": "46c166b6",
   "metadata": {},
   "outputs": [
    {
     "data": {
      "text/plain": [
       "torch.Size([])"
      ]
     },
     "execution_count": 24,
     "metadata": {},
     "output_type": "execute_result"
    }
   ],
   "source": [
    "torch.Size([])"
   ]
  },
  {
   "cell_type": "markdown",
   "id": "04a03158",
   "metadata": {},
   "source": [
    "# dim = 1 / rank = 1，维度为1，表示向量\n",
    "\n",
    "# 在pytorch中，统一称为张量，即tensor\n",
    "\n",
    "# dim = 1的时候，用在bias中，神经元\n",
    "# 另一个地方是Linear Input中"
   ]
  },
  {
   "cell_type": "code",
   "execution_count": 25,
   "id": "217d070e",
   "metadata": {},
   "outputs": [
    {
     "data": {
      "text/plain": [
       "tensor([1.1000])"
      ]
     },
     "execution_count": 25,
     "metadata": {},
     "output_type": "execute_result"
    }
   ],
   "source": [
    "torch.tensor([1.1])"
   ]
  },
  {
   "cell_type": "code",
   "execution_count": 26,
   "id": "630d804a",
   "metadata": {},
   "outputs": [
    {
     "data": {
      "text/plain": [
       "tensor([1.1000, 2.2000])"
      ]
     },
     "execution_count": 26,
     "metadata": {},
     "output_type": "execute_result"
    }
   ],
   "source": [
    "# 使用tensor时，指定了张量的具体数据，即向量的具体数据\n",
    "torch.tensor([1.1, 2.2])"
   ]
  },
  {
   "cell_type": "code",
   "execution_count": 32,
   "id": "91ea5184",
   "metadata": {},
   "outputs": [],
   "source": [
    "# 使用具体类型的tensor时，指定维度为1，即size为1的tensor\n",
    "a = torch.FloatTensor(1) # 此时数据初始化是random初始化"
   ]
  },
  {
   "cell_type": "code",
   "execution_count": 28,
   "id": "750d2b69",
   "metadata": {},
   "outputs": [
    {
     "data": {
      "text/plain": [
       "tensor([0., 0.])"
      ]
     },
     "execution_count": 28,
     "metadata": {},
     "output_type": "execute_result"
    }
   ],
   "source": [
    "torch.FloatTensor(2)"
   ]
  },
  {
   "cell_type": "code",
   "execution_count": 33,
   "id": "d48118ff",
   "metadata": {},
   "outputs": [
    {
     "data": {
      "text/plain": [
       "torch.Size([1])"
      ]
     },
     "execution_count": 33,
     "metadata": {},
     "output_type": "execute_result"
    }
   ],
   "source": [
    "a.shape"
   ]
  },
  {
   "cell_type": "code",
   "execution_count": 29,
   "id": "757e7ddf",
   "metadata": {},
   "outputs": [],
   "source": [
    "import numpy as np"
   ]
  },
  {
   "cell_type": "code",
   "execution_count": 30,
   "id": "b231efa8",
   "metadata": {},
   "outputs": [],
   "source": [
    "data = np.ones(2) # 从numpy引入的vector"
   ]
  },
  {
   "cell_type": "code",
   "execution_count": 31,
   "id": "d8265b06",
   "metadata": {},
   "outputs": [
    {
     "data": {
      "text/plain": [
       "array([1., 1.])"
      ]
     },
     "execution_count": 31,
     "metadata": {},
     "output_type": "execute_result"
    }
   ],
   "source": [
    "data"
   ]
  },
  {
   "cell_type": "code",
   "execution_count": 34,
   "id": "95983280",
   "metadata": {},
   "outputs": [
    {
     "data": {
      "text/plain": [
       "tensor([1., 1.], dtype=torch.float64)"
      ]
     },
     "execution_count": 34,
     "metadata": {},
     "output_type": "execute_result"
    }
   ],
   "source": [
    "torch.from_numpy(data)"
   ]
  },
  {
   "cell_type": "code",
   "execution_count": 4,
   "id": "5c1c5456",
   "metadata": {},
   "outputs": [],
   "source": [
    "a=torch.ones(2)"
   ]
  },
  {
   "cell_type": "code",
   "execution_count": 5,
   "id": "f85e8025",
   "metadata": {},
   "outputs": [
    {
     "data": {
      "text/plain": [
       "torch.Size([2])"
      ]
     },
     "execution_count": 5,
     "metadata": {},
     "output_type": "execute_result"
    }
   ],
   "source": [
    "a.shape"
   ]
  },
  {
   "cell_type": "markdown",
   "id": "9be6b0a0",
   "metadata": {},
   "source": [
    "# dim = 2"
   ]
  },
  {
   "cell_type": "code",
   "execution_count": 6,
   "id": "c63e0b32",
   "metadata": {},
   "outputs": [],
   "source": [
    "a = torch.randn(2,3)"
   ]
  },
  {
   "cell_type": "code",
   "execution_count": 7,
   "id": "c13975c1",
   "metadata": {},
   "outputs": [
    {
     "data": {
      "text/plain": [
       "tensor([[ 0.8167,  1.7339, -0.3508],\n",
       "        [-0.8082, -1.0176,  1.4338]])"
      ]
     },
     "execution_count": 7,
     "metadata": {},
     "output_type": "execute_result"
    }
   ],
   "source": [
    "a"
   ]
  },
  {
   "cell_type": "code",
   "execution_count": 8,
   "id": "37adf1ed",
   "metadata": {},
   "outputs": [
    {
     "data": {
      "text/plain": [
       "torch.Size([2, 3])"
      ]
     },
     "execution_count": 8,
     "metadata": {},
     "output_type": "execute_result"
    }
   ],
   "source": [
    "a.shape"
   ]
  },
  {
   "cell_type": "code",
   "execution_count": 9,
   "id": "dff888e4",
   "metadata": {},
   "outputs": [
    {
     "data": {
      "text/plain": [
       "2"
      ]
     },
     "execution_count": 9,
     "metadata": {},
     "output_type": "execute_result"
    }
   ],
   "source": [
    "a.size(0) # 取的行"
   ]
  },
  {
   "cell_type": "code",
   "execution_count": 10,
   "id": "7d030b09",
   "metadata": {},
   "outputs": [
    {
     "data": {
      "text/plain": [
       "3"
      ]
     },
     "execution_count": 10,
     "metadata": {},
     "output_type": "execute_result"
    }
   ],
   "source": [
    "a.size(1)"
   ]
  },
  {
   "cell_type": "code",
   "execution_count": 11,
   "id": "06edbe4c",
   "metadata": {},
   "outputs": [
    {
     "data": {
      "text/plain": [
       "2"
      ]
     },
     "execution_count": 11,
     "metadata": {},
     "output_type": "execute_result"
    }
   ],
   "source": [
    "a.shape[0]"
   ]
  },
  {
   "cell_type": "code",
   "execution_count": 12,
   "id": "96d183d4",
   "metadata": {},
   "outputs": [
    {
     "data": {
      "text/plain": [
       "3"
      ]
     },
     "execution_count": 12,
     "metadata": {},
     "output_type": "execute_result"
    }
   ],
   "source": [
    "a.shape[1]"
   ]
  },
  {
   "cell_type": "markdown",
   "id": "a24c704a",
   "metadata": {},
   "source": [
    "# dim = 3 RNN Input Batch, 3维适合NLP的数据处理"
   ]
  },
  {
   "cell_type": "code",
   "execution_count": 18,
   "id": "34ade1f2",
   "metadata": {},
   "outputs": [],
   "source": [
    "a = torch.rand(1,2,3)"
   ]
  },
  {
   "cell_type": "code",
   "execution_count": 19,
   "id": "79347833",
   "metadata": {},
   "outputs": [
    {
     "data": {
      "text/plain": [
       "tensor([[[0.4906, 0.1328, 0.2640],\n",
       "         [0.1809, 0.1898, 0.3589]]])"
      ]
     },
     "execution_count": 19,
     "metadata": {},
     "output_type": "execute_result"
    }
   ],
   "source": [
    "a"
   ]
  },
  {
   "cell_type": "code",
   "execution_count": 20,
   "id": "ade8bf1e",
   "metadata": {},
   "outputs": [
    {
     "data": {
      "text/plain": [
       "torch.Size([1, 2, 3])"
      ]
     },
     "execution_count": 20,
     "metadata": {},
     "output_type": "execute_result"
    }
   ],
   "source": [
    "a.shape"
   ]
  },
  {
   "cell_type": "code",
   "execution_count": 21,
   "id": "1cd1a3f9",
   "metadata": {},
   "outputs": [
    {
     "data": {
      "text/plain": [
       "tensor([[0.4906, 0.1328, 0.2640],\n",
       "        [0.1809, 0.1898, 0.3589]])"
      ]
     },
     "execution_count": 21,
     "metadata": {},
     "output_type": "execute_result"
    }
   ],
   "source": [
    "a[0]"
   ]
  },
  {
   "cell_type": "code",
   "execution_count": 23,
   "id": "410c9a7a",
   "metadata": {},
   "outputs": [
    {
     "data": {
      "text/plain": [
       "[1, 2, 3]"
      ]
     },
     "execution_count": 23,
     "metadata": {},
     "output_type": "execute_result"
    }
   ],
   "source": [
    "list(a.shape)"
   ]
  },
  {
   "cell_type": "markdown",
   "id": "96c74988",
   "metadata": {},
   "source": [
    "# dim = 4 CNN [b, c, h, w]"
   ]
  },
  {
   "cell_type": "code",
   "execution_count": 24,
   "id": "7964ccd0",
   "metadata": {},
   "outputs": [],
   "source": [
    "a = torch.rand(2,3,28,28)"
   ]
  },
  {
   "cell_type": "code",
   "execution_count": 25,
   "id": "440b823c",
   "metadata": {},
   "outputs": [
    {
     "data": {
      "text/plain": [
       "tensor([[[[0.4562, 0.3812, 0.8983,  ..., 0.0535, 0.3600, 0.4202],\n",
       "          [0.3417, 0.4070, 0.4451,  ..., 0.8279, 0.4616, 0.8437],\n",
       "          [0.5624, 0.0704, 0.7491,  ..., 0.1719, 0.1188, 0.4092],\n",
       "          ...,\n",
       "          [0.7197, 0.7153, 0.9823,  ..., 0.7758, 0.1162, 0.0676],\n",
       "          [0.8647, 0.2782, 0.9560,  ..., 0.0331, 0.0885, 0.9085],\n",
       "          [0.6522, 0.2101, 0.4493,  ..., 0.9733, 0.5505, 0.7306]],\n",
       "\n",
       "         [[0.3129, 0.8635, 0.1422,  ..., 0.2384, 0.1105, 0.7220],\n",
       "          [0.4333, 0.0624, 0.6559,  ..., 0.7960, 0.4020, 0.8272],\n",
       "          [0.9682, 0.5385, 0.9723,  ..., 0.7974, 0.1918, 0.6974],\n",
       "          ...,\n",
       "          [0.8954, 0.6974, 0.1387,  ..., 0.2455, 0.4943, 0.8629],\n",
       "          [0.2490, 0.6751, 0.7557,  ..., 0.6731, 0.0089, 0.4718],\n",
       "          [0.9794, 0.4534, 0.8096,  ..., 0.5830, 0.2757, 0.7504]],\n",
       "\n",
       "         [[0.9518, 0.0424, 0.8541,  ..., 0.8442, 0.7311, 0.3739],\n",
       "          [0.8348, 0.4423, 0.8196,  ..., 0.5133, 0.3453, 0.7880],\n",
       "          [0.1145, 0.4845, 0.4310,  ..., 0.0217, 0.3291, 0.1912],\n",
       "          ...,\n",
       "          [0.3366, 0.9808, 0.3657,  ..., 0.0409, 0.1623, 0.3689],\n",
       "          [0.7681, 0.8464, 0.0262,  ..., 0.9234, 0.6921, 0.5067],\n",
       "          [0.4738, 0.9341, 0.0592,  ..., 0.4260, 0.9448, 0.2785]]],\n",
       "\n",
       "\n",
       "        [[[0.1860, 0.0600, 0.4104,  ..., 0.8169, 0.0418, 0.9551],\n",
       "          [0.4527, 0.7469, 0.7646,  ..., 0.9206, 0.6212, 0.5254],\n",
       "          [0.6496, 0.2645, 0.4763,  ..., 0.0790, 0.5074, 0.1576],\n",
       "          ...,\n",
       "          [0.8687, 0.9961, 0.8359,  ..., 0.7189, 0.1520, 0.8814],\n",
       "          [0.5056, 0.6466, 0.5083,  ..., 0.1068, 0.0595, 0.4687],\n",
       "          [0.5517, 0.7633, 0.2799,  ..., 0.1548, 0.7480, 0.0419]],\n",
       "\n",
       "         [[0.2724, 0.3860, 0.6473,  ..., 0.7786, 0.6408, 0.9502],\n",
       "          [0.8322, 0.5886, 0.1188,  ..., 0.7062, 0.3930, 0.8206],\n",
       "          [0.4946, 0.2625, 0.6547,  ..., 0.1784, 0.0781, 0.9309],\n",
       "          ...,\n",
       "          [0.0080, 0.7677, 0.9934,  ..., 0.1040, 0.9007, 0.9470],\n",
       "          [0.8418, 0.3591, 0.9626,  ..., 0.0772, 0.9269, 0.7356],\n",
       "          [0.7641, 0.0111, 0.2855,  ..., 0.1503, 0.9275, 0.6535]],\n",
       "\n",
       "         [[0.2236, 0.5303, 0.4552,  ..., 0.9443, 0.2910, 0.1466],\n",
       "          [0.8427, 0.2694, 0.4906,  ..., 0.9278, 0.7315, 0.4168],\n",
       "          [0.9949, 0.6283, 0.8641,  ..., 0.6974, 0.3355, 0.6252],\n",
       "          ...,\n",
       "          [0.5175, 0.3137, 0.6291,  ..., 0.8195, 0.8935, 0.6418],\n",
       "          [0.2859, 0.7689, 0.8465,  ..., 0.8006, 0.4237, 0.4069],\n",
       "          [0.1764, 0.6584, 0.3162,  ..., 0.0481, 0.6649, 0.8396]]]])"
      ]
     },
     "execution_count": 25,
     "metadata": {},
     "output_type": "execute_result"
    }
   ],
   "source": [
    "a"
   ]
  },
  {
   "cell_type": "code",
   "execution_count": 26,
   "id": "c7ef9de2",
   "metadata": {},
   "outputs": [
    {
     "data": {
      "text/plain": [
       "torch.Size([2, 3, 28, 28])"
      ]
     },
     "execution_count": 26,
     "metadata": {},
     "output_type": "execute_result"
    }
   ],
   "source": [
    "a.shape"
   ]
  },
  {
   "cell_type": "code",
   "execution_count": 27,
   "id": "6b232f23",
   "metadata": {},
   "outputs": [
    {
     "data": {
      "text/plain": [
       "tensor([[[0.4562, 0.3812, 0.8983,  ..., 0.0535, 0.3600, 0.4202],\n",
       "         [0.3417, 0.4070, 0.4451,  ..., 0.8279, 0.4616, 0.8437],\n",
       "         [0.5624, 0.0704, 0.7491,  ..., 0.1719, 0.1188, 0.4092],\n",
       "         ...,\n",
       "         [0.7197, 0.7153, 0.9823,  ..., 0.7758, 0.1162, 0.0676],\n",
       "         [0.8647, 0.2782, 0.9560,  ..., 0.0331, 0.0885, 0.9085],\n",
       "         [0.6522, 0.2101, 0.4493,  ..., 0.9733, 0.5505, 0.7306]],\n",
       "\n",
       "        [[0.3129, 0.8635, 0.1422,  ..., 0.2384, 0.1105, 0.7220],\n",
       "         [0.4333, 0.0624, 0.6559,  ..., 0.7960, 0.4020, 0.8272],\n",
       "         [0.9682, 0.5385, 0.9723,  ..., 0.7974, 0.1918, 0.6974],\n",
       "         ...,\n",
       "         [0.8954, 0.6974, 0.1387,  ..., 0.2455, 0.4943, 0.8629],\n",
       "         [0.2490, 0.6751, 0.7557,  ..., 0.6731, 0.0089, 0.4718],\n",
       "         [0.9794, 0.4534, 0.8096,  ..., 0.5830, 0.2757, 0.7504]],\n",
       "\n",
       "        [[0.9518, 0.0424, 0.8541,  ..., 0.8442, 0.7311, 0.3739],\n",
       "         [0.8348, 0.4423, 0.8196,  ..., 0.5133, 0.3453, 0.7880],\n",
       "         [0.1145, 0.4845, 0.4310,  ..., 0.0217, 0.3291, 0.1912],\n",
       "         ...,\n",
       "         [0.3366, 0.9808, 0.3657,  ..., 0.0409, 0.1623, 0.3689],\n",
       "         [0.7681, 0.8464, 0.0262,  ..., 0.9234, 0.6921, 0.5067],\n",
       "         [0.4738, 0.9341, 0.0592,  ..., 0.4260, 0.9448, 0.2785]]])"
      ]
     },
     "execution_count": 27,
     "metadata": {},
     "output_type": "execute_result"
    }
   ],
   "source": [
    "a[0]"
   ]
  },
  {
   "cell_type": "code",
   "execution_count": 28,
   "id": "f28cec11",
   "metadata": {},
   "outputs": [
    {
     "data": {
      "text/plain": [
       "tensor([[[0.1860, 0.0600, 0.4104,  ..., 0.8169, 0.0418, 0.9551],\n",
       "         [0.4527, 0.7469, 0.7646,  ..., 0.9206, 0.6212, 0.5254],\n",
       "         [0.6496, 0.2645, 0.4763,  ..., 0.0790, 0.5074, 0.1576],\n",
       "         ...,\n",
       "         [0.8687, 0.9961, 0.8359,  ..., 0.7189, 0.1520, 0.8814],\n",
       "         [0.5056, 0.6466, 0.5083,  ..., 0.1068, 0.0595, 0.4687],\n",
       "         [0.5517, 0.7633, 0.2799,  ..., 0.1548, 0.7480, 0.0419]],\n",
       "\n",
       "        [[0.2724, 0.3860, 0.6473,  ..., 0.7786, 0.6408, 0.9502],\n",
       "         [0.8322, 0.5886, 0.1188,  ..., 0.7062, 0.3930, 0.8206],\n",
       "         [0.4946, 0.2625, 0.6547,  ..., 0.1784, 0.0781, 0.9309],\n",
       "         ...,\n",
       "         [0.0080, 0.7677, 0.9934,  ..., 0.1040, 0.9007, 0.9470],\n",
       "         [0.8418, 0.3591, 0.9626,  ..., 0.0772, 0.9269, 0.7356],\n",
       "         [0.7641, 0.0111, 0.2855,  ..., 0.1503, 0.9275, 0.6535]],\n",
       "\n",
       "        [[0.2236, 0.5303, 0.4552,  ..., 0.9443, 0.2910, 0.1466],\n",
       "         [0.8427, 0.2694, 0.4906,  ..., 0.9278, 0.7315, 0.4168],\n",
       "         [0.9949, 0.6283, 0.8641,  ..., 0.6974, 0.3355, 0.6252],\n",
       "         ...,\n",
       "         [0.5175, 0.3137, 0.6291,  ..., 0.8195, 0.8935, 0.6418],\n",
       "         [0.2859, 0.7689, 0.8465,  ..., 0.8006, 0.4237, 0.4069],\n",
       "         [0.1764, 0.6584, 0.3162,  ..., 0.0481, 0.6649, 0.8396]]])"
      ]
     },
     "execution_count": 28,
     "metadata": {},
     "output_type": "execute_result"
    }
   ],
   "source": [
    "a[1]"
   ]
  },
  {
   "cell_type": "code",
   "execution_count": null,
   "id": "92d13b2b",
   "metadata": {},
   "outputs": [],
   "source": []
  }
 ],
 "metadata": {
  "kernelspec": {
   "display_name": "Python 3 (ipykernel)",
   "language": "python",
   "name": "python3"
  },
  "language_info": {
   "codemirror_mode": {
    "name": "ipython",
    "version": 3
   },
   "file_extension": ".py",
   "mimetype": "text/x-python",
   "name": "python",
   "nbconvert_exporter": "python",
   "pygments_lexer": "ipython3",
   "version": "3.11.7"
  }
 },
 "nbformat": 4,
 "nbformat_minor": 5
}
