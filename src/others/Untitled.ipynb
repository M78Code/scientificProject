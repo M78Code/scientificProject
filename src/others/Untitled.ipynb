{
 "cells": [
  {
   "cell_type": "code",
   "execution_count": 7,
   "id": "2773fd2c-4d36-40c5-8780-fb8a80d4b300",
   "metadata": {},
   "outputs": [],
   "source": [
    "import torch\n",
    "from transformers import pipeline"
   ]
  },
  {
   "cell_type": "code",
   "execution_count": 5,
   "id": "ef665f89-cfb6-4b10-a0d2-2caadb0467ba",
   "metadata": {},
   "outputs": [
    {
     "data": {
      "application/vnd.jupyter.widget-view+json": {
       "model_id": "31c131c2893048808e1b0661fcec24da",
       "version_major": 2,
       "version_minor": 0
      },
      "text/plain": [
       "config.json:   0%|          | 0.00/688 [00:00<?, ?B/s]"
      ]
     },
     "metadata": {},
     "output_type": "display_data"
    },
    {
     "data": {
      "application/vnd.jupyter.widget-view+json": {
       "model_id": "255e18da91374355b0a6a26d1fff0ad4",
       "version_major": 2,
       "version_minor": 0
      },
      "text/plain": [
       "model.safetensors:   0%|          | 0.00/1.43G [00:00<?, ?B/s]"
      ]
     },
     "metadata": {},
     "output_type": "display_data"
    },
    {
     "name": "stderr",
     "output_type": "stream",
     "text": [
      "Some weights of the model checkpoint at FacebookAI/roberta-large-mnli were not used when initializing RobertaForSequenceClassification: ['roberta.pooler.dense.bias', 'roberta.pooler.dense.weight']\n",
      "- This IS expected if you are initializing RobertaForSequenceClassification from the checkpoint of a model trained on another task or with another architecture (e.g. initializing a BertForSequenceClassification model from a BertForPreTraining model).\n",
      "- This IS NOT expected if you are initializing RobertaForSequenceClassification from the checkpoint of a model that you expect to be exactly identical (initializing a BertForSequenceClassification model from a BertForSequenceClassification model).\n"
     ]
    },
    {
     "data": {
      "application/vnd.jupyter.widget-view+json": {
       "model_id": "2b7fdbbe86444aec83c821ecfa4fc38f",
       "version_major": 2,
       "version_minor": 0
      },
      "text/plain": [
       "tokenizer_config.json:   0%|          | 0.00/25.0 [00:00<?, ?B/s]"
      ]
     },
     "metadata": {},
     "output_type": "display_data"
    },
    {
     "data": {
      "application/vnd.jupyter.widget-view+json": {
       "model_id": "338e4427df394be8891354efdd3f351d",
       "version_major": 2,
       "version_minor": 0
      },
      "text/plain": [
       "vocab.json:   0%|          | 0.00/899k [00:00<?, ?B/s]"
      ]
     },
     "metadata": {},
     "output_type": "display_data"
    },
    {
     "data": {
      "application/vnd.jupyter.widget-view+json": {
       "model_id": "c5476284c179408cab9395c5f9389ebc",
       "version_major": 2,
       "version_minor": 0
      },
      "text/plain": [
       "merges.txt:   0%|          | 0.00/456k [00:00<?, ?B/s]"
      ]
     },
     "metadata": {},
     "output_type": "display_data"
    },
    {
     "data": {
      "application/vnd.jupyter.widget-view+json": {
       "model_id": "573f51ca79fe418194947be9fcbc6c5c",
       "version_major": 2,
       "version_minor": 0
      },
      "text/plain": [
       "tokenizer.json:   0%|          | 0.00/1.36M [00:00<?, ?B/s]"
      ]
     },
     "metadata": {},
     "output_type": "display_data"
    },
    {
     "name": "stderr",
     "output_type": "stream",
     "text": [
      "Hardware accelerator e.g. GPU is available in the environment, but no `device` argument is passed to the `Pipeline` object. Model will be on CPU.\n"
     ]
    }
   ],
   "source": [
    "pipe = pipeline(model=\"FacebookAI/roberta-large-mnli\")"
   ]
  },
  {
   "cell_type": "code",
   "execution_count": 6,
   "id": "f7aedd5b-79b7-4afb-96fc-0ebb141843fb",
   "metadata": {},
   "outputs": [
    {
     "data": {
      "text/plain": [
       "[{'label': 'NEUTRAL', 'score': 0.7313134074211121}]"
      ]
     },
     "execution_count": 6,
     "metadata": {},
     "output_type": "execute_result"
    }
   ],
   "source": [
    "pipe(\"This restaurant is awesome\")"
   ]
  },
  {
   "cell_type": "code",
   "execution_count": 1,
   "id": "f377ecca-64db-4203-824e-f878ed5a3d99",
   "metadata": {},
   "outputs": [],
   "source": [
    "import pandas as pd"
   ]
  },
  {
   "cell_type": "code",
   "execution_count": 2,
   "id": "75826910-adca-463e-87af-fcee8fb61935",
   "metadata": {},
   "outputs": [],
   "source": [
    "my_data = pd.read_parquet('/home/leon/projects/my_test_dataset.parquet')"
   ]
  },
  {
   "cell_type": "code",
   "execution_count": 3,
   "id": "c79abdd5-0675-4985-aedd-fcc9a700533c",
   "metadata": {},
   "outputs": [
    {
     "data": {
      "text/html": [
       "<div>\n",
       "<style scoped>\n",
       "    .dataframe tbody tr th:only-of-type {\n",
       "        vertical-align: middle;\n",
       "    }\n",
       "\n",
       "    .dataframe tbody tr th {\n",
       "        vertical-align: top;\n",
       "    }\n",
       "\n",
       "    .dataframe thead th {\n",
       "        text-align: right;\n",
       "    }\n",
       "</style>\n",
       "<table border=\"1\" class=\"dataframe\">\n",
       "  <thead>\n",
       "    <tr style=\"text-align: right;\">\n",
       "      <th></th>\n",
       "      <th>instruction</th>\n",
       "      <th>response</th>\n",
       "      <th>input</th>\n",
       "    </tr>\n",
       "  </thead>\n",
       "  <tbody>\n",
       "    <tr>\n",
       "      <th>0</th>\n",
       "      <td>워헤이븐의 UI는 어떤 게임과 유사하여 표절 의혹이 있었나요?</td>\n",
       "      <td>워헤이븐의 UI는 배틀필드 1과 배틀필드 V와 유사하여 표절 의혹이 있었습니다.</td>\n",
       "      <td></td>\n",
       "    </tr>\n",
       "    <tr>\n",
       "      <th>1</th>\n",
       "      <td>워헤이븐의 UI 문제는 이후 어떻게 해결되었나요?</td>\n",
       "      <td>워헤이븐의 UI 유사성 문제는 트레일러와 소개영상에서 해결된 것으로 보입니다.</td>\n",
       "      <td></td>\n",
       "    </tr>\n",
       "    <tr>\n",
       "      <th>2</th>\n",
       "      <td>워헤이븐의 기마돌격과 블레이드 모션은 어떤 게임에서 영감을 받았나요?</td>\n",
       "      <td>워헤이븐의 기마돌격과 블레이드 모션은 포 아너의 워든에서 영감을 받았습니다.</td>\n",
       "      <td></td>\n",
       "    </tr>\n",
       "    <tr>\n",
       "      <th>3</th>\n",
       "      <td>워헤이븐의 모션과 구성은 어떤 게임에서 영감을 받았나요?</td>\n",
       "      <td>워헤이븐의 모션과 구성은 시벌리와 모드하우에서 영감을 받았습니다.</td>\n",
       "      <td></td>\n",
       "    </tr>\n",
       "    <tr>\n",
       "      <th>4</th>\n",
       "      <td>워헤이븐의 게임 모드는 어떤 게임들과 유사한가요?</td>\n",
       "      <td>워헤이븐의 게임 모드는 팀 포트리스 2와 오버워치 같은 관계로 비슷한 요소를 가지고...</td>\n",
       "      <td></td>\n",
       "    </tr>\n",
       "    <tr>\n",
       "      <th>...</th>\n",
       "      <td>...</td>\n",
       "      <td>...</td>\n",
       "      <td>...</td>\n",
       "    </tr>\n",
       "    <tr>\n",
       "      <th>140</th>\n",
       "      <td>워헤이븐의 배경음악은 누가 맡았나요?</td>\n",
       "      <td>이논 주르가 맡았습니다.</td>\n",
       "      <td></td>\n",
       "    </tr>\n",
       "    <tr>\n",
       "      <th>141</th>\n",
       "      <td>워헤이븐의 포 아너와의 유사성에 대한 평가는 어땠나요?</td>\n",
       "      <td>시벌리, 모드하우, 마운트 앤 블레이드에서 영감을 받았다고 합니다.</td>\n",
       "      <td></td>\n",
       "    </tr>\n",
       "    <tr>\n",
       "      <th>142</th>\n",
       "      <td>워헤이븐의 해외에서의 반응은 어땠나요?</td>\n",
       "      <td>국내와 비슷한 양상을 보이고 있습니다.</td>\n",
       "      <td></td>\n",
       "    </tr>\n",
       "    <tr>\n",
       "      <th>143</th>\n",
       "      <td>워헤이븐의 서비스 종료 전 콘솔 트레일러 영상에서 밝혀진 내용은 무엇인가요?</td>\n",
       "      <td>PS5와 XSX|S로 이식 출시를 하겠다고 밝혔습니다.</td>\n",
       "      <td></td>\n",
       "    </tr>\n",
       "    <tr>\n",
       "      <th>144</th>\n",
       "      <td>워헤이븐의 니어 레플리칸트의 일러스트레이터는 누구인가요?</td>\n",
       "      <td>D.K가 본작의 개발에도 참여한 것으로 확인되었습니다.</td>\n",
       "      <td></td>\n",
       "    </tr>\n",
       "  </tbody>\n",
       "</table>\n",
       "<p>145 rows × 3 columns</p>\n",
       "</div>"
      ],
      "text/plain": [
       "                                    instruction  \\\n",
       "0            워헤이븐의 UI는 어떤 게임과 유사하여 표절 의혹이 있었나요?   \n",
       "1                   워헤이븐의 UI 문제는 이후 어떻게 해결되었나요?   \n",
       "2        워헤이븐의 기마돌격과 블레이드 모션은 어떤 게임에서 영감을 받았나요?   \n",
       "3               워헤이븐의 모션과 구성은 어떤 게임에서 영감을 받았나요?   \n",
       "4                   워헤이븐의 게임 모드는 어떤 게임들과 유사한가요?   \n",
       "..                                          ...   \n",
       "140                        워헤이븐의 배경음악은 누가 맡았나요?   \n",
       "141              워헤이븐의 포 아너와의 유사성에 대한 평가는 어땠나요?   \n",
       "142                       워헤이븐의 해외에서의 반응은 어땠나요?   \n",
       "143  워헤이븐의 서비스 종료 전 콘솔 트레일러 영상에서 밝혀진 내용은 무엇인가요?   \n",
       "144             워헤이븐의 니어 레플리칸트의 일러스트레이터는 누구인가요?   \n",
       "\n",
       "                                              response input  \n",
       "0         워헤이븐의 UI는 배틀필드 1과 배틀필드 V와 유사하여 표절 의혹이 있었습니다.        \n",
       "1          워헤이븐의 UI 유사성 문제는 트레일러와 소개영상에서 해결된 것으로 보입니다.        \n",
       "2           워헤이븐의 기마돌격과 블레이드 모션은 포 아너의 워든에서 영감을 받았습니다.        \n",
       "3                 워헤이븐의 모션과 구성은 시벌리와 모드하우에서 영감을 받았습니다.        \n",
       "4    워헤이븐의 게임 모드는 팀 포트리스 2와 오버워치 같은 관계로 비슷한 요소를 가지고...        \n",
       "..                                                 ...   ...  \n",
       "140                                      이논 주르가 맡았습니다.        \n",
       "141              시벌리, 모드하우, 마운트 앤 블레이드에서 영감을 받았다고 합니다.        \n",
       "142                              국내와 비슷한 양상을 보이고 있습니다.        \n",
       "143                     PS5와 XSX|S로 이식 출시를 하겠다고 밝혔습니다.        \n",
       "144                     D.K가 본작의 개발에도 참여한 것으로 확인되었습니다.        \n",
       "\n",
       "[145 rows x 3 columns]"
      ]
     },
     "execution_count": 3,
     "metadata": {},
     "output_type": "execute_result"
    }
   ],
   "source": [
    "my_data"
   ]
  },
  {
   "cell_type": "code",
   "execution_count": 4,
   "id": "bfcc035d-5be6-4494-9d60-bfda6a5f1099",
   "metadata": {},
   "outputs": [
    {
     "data": {
      "text/html": [
       "<div>\n",
       "<style scoped>\n",
       "    .dataframe tbody tr th:only-of-type {\n",
       "        vertical-align: middle;\n",
       "    }\n",
       "\n",
       "    .dataframe tbody tr th {\n",
       "        vertical-align: top;\n",
       "    }\n",
       "\n",
       "    .dataframe thead th {\n",
       "        text-align: right;\n",
       "    }\n",
       "</style>\n",
       "<table border=\"1\" class=\"dataframe\">\n",
       "  <thead>\n",
       "    <tr style=\"text-align: right;\">\n",
       "      <th></th>\n",
       "      <th>instruction</th>\n",
       "      <th>response</th>\n",
       "      <th>input</th>\n",
       "    </tr>\n",
       "  </thead>\n",
       "  <tbody>\n",
       "    <tr>\n",
       "      <th>0</th>\n",
       "      <td>워헤이븐의 UI는 어떤 게임과 유사하여 표절 의혹이 있었나요?</td>\n",
       "      <td>워헤이븐의 UI는 배틀필드 1과 배틀필드 V와 유사하여 표절 의혹이 있었습니다.</td>\n",
       "      <td></td>\n",
       "    </tr>\n",
       "    <tr>\n",
       "      <th>1</th>\n",
       "      <td>워헤이븐의 UI 문제는 이후 어떻게 해결되었나요?</td>\n",
       "      <td>워헤이븐의 UI 유사성 문제는 트레일러와 소개영상에서 해결된 것으로 보입니다.</td>\n",
       "      <td></td>\n",
       "    </tr>\n",
       "    <tr>\n",
       "      <th>2</th>\n",
       "      <td>워헤이븐의 기마돌격과 블레이드 모션은 어떤 게임에서 영감을 받았나요?</td>\n",
       "      <td>워헤이븐의 기마돌격과 블레이드 모션은 포 아너의 워든에서 영감을 받았습니다.</td>\n",
       "      <td></td>\n",
       "    </tr>\n",
       "    <tr>\n",
       "      <th>3</th>\n",
       "      <td>워헤이븐의 모션과 구성은 어떤 게임에서 영감을 받았나요?</td>\n",
       "      <td>워헤이븐의 모션과 구성은 시벌리와 모드하우에서 영감을 받았습니다.</td>\n",
       "      <td></td>\n",
       "    </tr>\n",
       "    <tr>\n",
       "      <th>4</th>\n",
       "      <td>워헤이븐의 게임 모드는 어떤 게임들과 유사한가요?</td>\n",
       "      <td>워헤이븐의 게임 모드는 팀 포트리스 2와 오버워치 같은 관계로 비슷한 요소를 가지고...</td>\n",
       "      <td></td>\n",
       "    </tr>\n",
       "  </tbody>\n",
       "</table>\n",
       "</div>"
      ],
      "text/plain": [
       "                              instruction  \\\n",
       "0      워헤이븐의 UI는 어떤 게임과 유사하여 표절 의혹이 있었나요?   \n",
       "1             워헤이븐의 UI 문제는 이후 어떻게 해결되었나요?   \n",
       "2  워헤이븐의 기마돌격과 블레이드 모션은 어떤 게임에서 영감을 받았나요?   \n",
       "3         워헤이븐의 모션과 구성은 어떤 게임에서 영감을 받았나요?   \n",
       "4             워헤이븐의 게임 모드는 어떤 게임들과 유사한가요?   \n",
       "\n",
       "                                            response input  \n",
       "0       워헤이븐의 UI는 배틀필드 1과 배틀필드 V와 유사하여 표절 의혹이 있었습니다.        \n",
       "1        워헤이븐의 UI 유사성 문제는 트레일러와 소개영상에서 해결된 것으로 보입니다.        \n",
       "2         워헤이븐의 기마돌격과 블레이드 모션은 포 아너의 워든에서 영감을 받았습니다.        \n",
       "3               워헤이븐의 모션과 구성은 시벌리와 모드하우에서 영감을 받았습니다.        \n",
       "4  워헤이븐의 게임 모드는 팀 포트리스 2와 오버워치 같은 관계로 비슷한 요소를 가지고...        "
      ]
     },
     "execution_count": 4,
     "metadata": {},
     "output_type": "execute_result"
    }
   ],
   "source": [
    "my_data.head()"
   ]
  },
  {
   "cell_type": "code",
   "execution_count": null,
   "id": "17239e12-030b-4969-8cf5-9ab335267f4f",
   "metadata": {},
   "outputs": [],
   "source": []
  }
 ],
 "metadata": {
  "kernelspec": {
   "display_name": "Python 3 (ipykernel)",
   "language": "python",
   "name": "python3"
  },
  "language_info": {
   "codemirror_mode": {
    "name": "ipython",
    "version": 3
   },
   "file_extension": ".py",
   "mimetype": "text/x-python",
   "name": "python",
   "nbconvert_exporter": "python",
   "pygments_lexer": "ipython3",
   "version": "3.8.19"
  }
 },
 "nbformat": 4,
 "nbformat_minor": 5
}
