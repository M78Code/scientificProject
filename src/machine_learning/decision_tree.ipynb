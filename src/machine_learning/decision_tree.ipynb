{
 "cells": [
  {
   "cell_type": "code",
   "execution_count": 16,
   "id": "bac7637f",
   "metadata": {},
   "outputs": [],
   "source": [
    "from sklearn.datasets import load_iris\n",
    "from sklearn import tree, metrics\n",
    "from sklearn.metrics import confusion_matrix, precision_score, recall_score\n",
    "from sklearn.metrics import f1_score, accuracy_score, accuracy_score, classification_report\n",
    "from sklearn.tree import plot_tree\n",
    "from IPython.core.interactiveshell import InteractiveShell\n",
    "import matplotlib.pyplot as plt\n",
    "InteractiveShell.ast_node_interactivity = 'all'"
   ]
  },
  {
   "cell_type": "markdown",
   "id": "c32255fb",
   "metadata": {},
   "source": [
    "## 加载iris数据集"
   ]
  },
  {
   "cell_type": "code",
   "execution_count": 2,
   "id": "8490e43e",
   "metadata": {},
   "outputs": [
    {
     "name": "stdout",
     "output_type": "stream",
     "text": [
      "The iris feature name: ['sepal length (cm)', 'sepal width (cm)', 'petal length (cm)', 'petal width (cm)']\n"
     ]
    },
    {
     "data": {
      "text/plain": [
       "array([[5.1, 3.5, 1.4, 0.2],\n",
       "       [4.9, 3. , 1.4, 0.2],\n",
       "       [4.7, 3.2, 1.3, 0.2],\n",
       "       [4.6, 3.1, 1.5, 0.2],\n",
       "       [5. , 3.6, 1.4, 0.2],\n",
       "       [5.4, 3.9, 1.7, 0.4],\n",
       "       [4.6, 3.4, 1.4, 0.3],\n",
       "       [5. , 3.4, 1.5, 0.2],\n",
       "       [4.4, 2.9, 1.4, 0.2],\n",
       "       [4.9, 3.1, 1.5, 0.1]])"
      ]
     },
     "execution_count": 2,
     "metadata": {},
     "output_type": "execute_result"
    }
   ],
   "source": [
    "iris = load_iris()\n",
    "x = iris.data\n",
    "y = iris.target\n",
    "\n",
    "print('The iris feature name:',iris.feature_names)\n",
    "x[:10]"
   ]
  },
  {
   "cell_type": "code",
   "execution_count": 3,
   "id": "0ee1bffa",
   "metadata": {},
   "outputs": [
    {
     "name": "stdout",
     "output_type": "stream",
     "text": [
      "The iris target name: ['setosa' 'versicolor' 'virginica']\n"
     ]
    },
    {
     "data": {
      "text/plain": [
       "array([0, 0, 0, 0, 0, 0, 0, 0, 0, 0, 0, 0, 0, 0, 0, 0, 0, 0, 0, 0, 0, 0,\n",
       "       0, 0, 0, 0, 0, 0, 0, 0, 0, 0, 0, 0, 0, 0, 0, 0, 0, 0, 0, 0, 0, 0,\n",
       "       0, 0, 0, 0, 0, 0, 1, 1, 1, 1, 1, 1, 1, 1, 1, 1, 1, 1, 1, 1, 1, 1,\n",
       "       1, 1, 1, 1, 1, 1, 1, 1, 1, 1, 1, 1, 1, 1, 1, 1, 1, 1, 1, 1, 1, 1,\n",
       "       1, 1, 1, 1, 1, 1, 1, 1, 1, 1, 1, 1, 2, 2, 2, 2, 2, 2, 2, 2, 2, 2,\n",
       "       2, 2, 2, 2, 2, 2, 2, 2, 2, 2, 2, 2, 2, 2, 2, 2, 2, 2, 2, 2, 2, 2,\n",
       "       2, 2, 2, 2, 2, 2, 2, 2, 2, 2, 2, 2, 2, 2, 2, 2, 2, 2])"
      ]
     },
     "execution_count": 3,
     "metadata": {},
     "output_type": "execute_result"
    }
   ],
   "source": [
    "print('The iris target name:',iris.target_names)\n",
    "y"
   ]
  },
  {
   "cell_type": "markdown",
   "id": "74ed3e47",
   "metadata": {},
   "source": [
    "## 拆分训练集和测试集"
   ]
  },
  {
   "cell_type": "code",
   "execution_count": 4,
   "id": "06ed0265",
   "metadata": {},
   "outputs": [],
   "source": [
    "from sklearn import model_selection\n",
    "X_train, X_test, y_train, y_test = model_selection.train_test_split(x, y, test_size=0.3, random_state=123456)"
   ]
  },
  {
   "cell_type": "markdown",
   "id": "51de9297",
   "metadata": {},
   "source": [
    "## 用DecisionTreeClassifier训练决策树模型"
   ]
  },
  {
   "cell_type": "code",
   "execution_count": 5,
   "id": "d723a810",
   "metadata": {},
   "outputs": [
    {
     "data": {
      "text/html": [
       "<style>#sk-container-id-1 {color: black;background-color: white;}#sk-container-id-1 pre{padding: 0;}#sk-container-id-1 div.sk-toggleable {background-color: white;}#sk-container-id-1 label.sk-toggleable__label {cursor: pointer;display: block;width: 100%;margin-bottom: 0;padding: 0.3em;box-sizing: border-box;text-align: center;}#sk-container-id-1 label.sk-toggleable__label-arrow:before {content: \"▸\";float: left;margin-right: 0.25em;color: #696969;}#sk-container-id-1 label.sk-toggleable__label-arrow:hover:before {color: black;}#sk-container-id-1 div.sk-estimator:hover label.sk-toggleable__label-arrow:before {color: black;}#sk-container-id-1 div.sk-toggleable__content {max-height: 0;max-width: 0;overflow: hidden;text-align: left;background-color: #f0f8ff;}#sk-container-id-1 div.sk-toggleable__content pre {margin: 0.2em;color: black;border-radius: 0.25em;background-color: #f0f8ff;}#sk-container-id-1 input.sk-toggleable__control:checked~div.sk-toggleable__content {max-height: 200px;max-width: 100%;overflow: auto;}#sk-container-id-1 input.sk-toggleable__control:checked~label.sk-toggleable__label-arrow:before {content: \"▾\";}#sk-container-id-1 div.sk-estimator input.sk-toggleable__control:checked~label.sk-toggleable__label {background-color: #d4ebff;}#sk-container-id-1 div.sk-label input.sk-toggleable__control:checked~label.sk-toggleable__label {background-color: #d4ebff;}#sk-container-id-1 input.sk-hidden--visually {border: 0;clip: rect(1px 1px 1px 1px);clip: rect(1px, 1px, 1px, 1px);height: 1px;margin: -1px;overflow: hidden;padding: 0;position: absolute;width: 1px;}#sk-container-id-1 div.sk-estimator {font-family: monospace;background-color: #f0f8ff;border: 1px dotted black;border-radius: 0.25em;box-sizing: border-box;margin-bottom: 0.5em;}#sk-container-id-1 div.sk-estimator:hover {background-color: #d4ebff;}#sk-container-id-1 div.sk-parallel-item::after {content: \"\";width: 100%;border-bottom: 1px solid gray;flex-grow: 1;}#sk-container-id-1 div.sk-label:hover label.sk-toggleable__label {background-color: #d4ebff;}#sk-container-id-1 div.sk-serial::before {content: \"\";position: absolute;border-left: 1px solid gray;box-sizing: border-box;top: 0;bottom: 0;left: 50%;z-index: 0;}#sk-container-id-1 div.sk-serial {display: flex;flex-direction: column;align-items: center;background-color: white;padding-right: 0.2em;padding-left: 0.2em;position: relative;}#sk-container-id-1 div.sk-item {position: relative;z-index: 1;}#sk-container-id-1 div.sk-parallel {display: flex;align-items: stretch;justify-content: center;background-color: white;position: relative;}#sk-container-id-1 div.sk-item::before, #sk-container-id-1 div.sk-parallel-item::before {content: \"\";position: absolute;border-left: 1px solid gray;box-sizing: border-box;top: 0;bottom: 0;left: 50%;z-index: -1;}#sk-container-id-1 div.sk-parallel-item {display: flex;flex-direction: column;z-index: 1;position: relative;background-color: white;}#sk-container-id-1 div.sk-parallel-item:first-child::after {align-self: flex-end;width: 50%;}#sk-container-id-1 div.sk-parallel-item:last-child::after {align-self: flex-start;width: 50%;}#sk-container-id-1 div.sk-parallel-item:only-child::after {width: 0;}#sk-container-id-1 div.sk-dashed-wrapped {border: 1px dashed gray;margin: 0 0.4em 0.5em 0.4em;box-sizing: border-box;padding-bottom: 0.4em;background-color: white;}#sk-container-id-1 div.sk-label label {font-family: monospace;font-weight: bold;display: inline-block;line-height: 1.2em;}#sk-container-id-1 div.sk-label-container {text-align: center;}#sk-container-id-1 div.sk-container {/* jupyter's `normalize.less` sets `[hidden] { display: none; }` but bootstrap.min.css set `[hidden] { display: none !important; }` so we also need the `!important` here to be able to override the default hidden behavior on the sphinx rendered scikit-learn.org. See: https://github.com/scikit-learn/scikit-learn/issues/21755 */display: inline-block !important;position: relative;}#sk-container-id-1 div.sk-text-repr-fallback {display: none;}</style><div id=\"sk-container-id-1\" class=\"sk-top-container\"><div class=\"sk-text-repr-fallback\"><pre>DecisionTreeClassifier(max_depth=3)</pre><b>In a Jupyter environment, please rerun this cell to show the HTML representation or trust the notebook. <br />On GitHub, the HTML representation is unable to render, please try loading this page with nbviewer.org.</b></div><div class=\"sk-container\" hidden><div class=\"sk-item\"><div class=\"sk-estimator sk-toggleable\"><input class=\"sk-toggleable__control sk-hidden--visually\" id=\"sk-estimator-id-1\" type=\"checkbox\" checked><label for=\"sk-estimator-id-1\" class=\"sk-toggleable__label sk-toggleable__label-arrow\">DecisionTreeClassifier</label><div class=\"sk-toggleable__content\"><pre>DecisionTreeClassifier(max_depth=3)</pre></div></div></div></div></div>"
      ],
      "text/plain": [
       "DecisionTreeClassifier(max_depth=3)"
      ]
     },
     "execution_count": 5,
     "metadata": {},
     "output_type": "execute_result"
    }
   ],
   "source": [
    "dtree = tree.DecisionTreeClassifier(max_depth=3)\n",
    "dtree.fit(X_train, y_train)"
   ]
  },
  {
   "cell_type": "code",
   "execution_count": 6,
   "id": "27ebf6ee",
   "metadata": {},
   "outputs": [
    {
     "data": {
      "text/plain": [
       "array([0, 1, 2])"
      ]
     },
     "execution_count": 6,
     "metadata": {},
     "output_type": "execute_result"
    },
    {
     "data": {
      "text/plain": [
       "array([0.02913253, 0.        , 0.41379753, 0.55706995])"
      ]
     },
     "execution_count": 6,
     "metadata": {},
     "output_type": "execute_result"
    },
    {
     "data": {
      "text/plain": [
       "4"
      ]
     },
     "execution_count": 6,
     "metadata": {},
     "output_type": "execute_result"
    },
    {
     "data": {
      "text/plain": [
       "3"
      ]
     },
     "execution_count": 6,
     "metadata": {},
     "output_type": "execute_result"
    },
    {
     "data": {
      "text/plain": [
       "1"
      ]
     },
     "execution_count": 6,
     "metadata": {},
     "output_type": "execute_result"
    },
    {
     "data": {
      "text/plain": [
       "<sklearn.tree._tree.Tree at 0x175444ce0>"
      ]
     },
     "execution_count": 6,
     "metadata": {},
     "output_type": "execute_result"
    }
   ],
   "source": [
    "dtree.classes_\n",
    "dtree.feature_importances_\n",
    "dtree.max_features_\n",
    "dtree.n_classes_\n",
    "dtree.n_outputs_\n",
    "dtree.tree_"
   ]
  },
  {
   "cell_type": "markdown",
   "id": "12febb6b",
   "metadata": {},
   "source": [
    "## 用测试集验证"
   ]
  },
  {
   "cell_type": "code",
   "execution_count": 7,
   "id": "5753779d",
   "metadata": {},
   "outputs": [
    {
     "name": "stdout",
     "output_type": "stream",
     "text": [
      "              precision    recall  f1-score   support\n",
      "\n",
      "           0       1.00      1.00      1.00        15\n",
      "           1       0.87      0.87      0.87        15\n",
      "           2       0.87      0.87      0.87        15\n",
      "\n",
      "    accuracy                           0.91        45\n",
      "   macro avg       0.91      0.91      0.91        45\n",
      "weighted avg       0.91      0.91      0.91        45\n",
      "\n"
     ]
    }
   ],
   "source": [
    "pred = dtree.predict(X_test)\n",
    "print(classification_report(y_test, pred))"
   ]
  },
  {
   "cell_type": "markdown",
   "id": "84108e0b",
   "metadata": {},
   "source": [
    "## 可视化的查看决策树结果"
   ]
  },
  {
   "cell_type": "markdown",
   "id": "088543bc",
   "metadata": {},
   "source": [
    "### 在jupyter中直接显示图片"
   ]
  },
  {
   "cell_type": "code",
   "execution_count": 10,
   "id": "60da3390",
   "metadata": {},
   "outputs": [],
   "source": [
    "import pydotplus\n",
    "import graphviz\n",
    "from IPython.display import Image\n",
    "\n",
    "dot_data = tree.export_graphviz(dtree, out_file=None, \n",
    "                                feature_names=iris.feature_names,\n",
    "                                class_names=iris.target_names,\n",
    "                                filled=True, rounded=True,\n",
    "                                special_characters=True)\n",
    "graph = pydotplus.graph_from_dot_data(dot_data)\n"
   ]
  },
  {
   "cell_type": "code",
   "execution_count": 17,
   "id": "fc19054c",
   "metadata": {},
   "outputs": [
    {
     "data": {
      "text/plain": [
       "<Figure size 6000x3000 with 0 Axes>"
      ]
     },
     "execution_count": 17,
     "metadata": {},
     "output_type": "execute_result"
    },
    {
     "data": {
      "text/plain": [
       "<Figure size 6000x3000 with 0 Axes>"
      ]
     },
     "metadata": {},
     "output_type": "display_data"
    }
   ],
   "source": [
    "plt.figure(figsize=(60,30))"
   ]
  },
  {
   "cell_type": "code",
   "execution_count": 22,
   "id": "763b44c8",
   "metadata": {},
   "outputs": [
    {
     "ename": "AttributeError",
     "evalue": "'numpy.ndarray' object has no attribute 'columns'",
     "output_type": "error",
     "traceback": [
      "\u001b[0;31m---------------------------------------------------------------------------\u001b[0m",
      "\u001b[0;31mAttributeError\u001b[0m                            Traceback (most recent call last)",
      "Cell \u001b[0;32mIn[22], line 1\u001b[0m\n\u001b[0;32m----> 1\u001b[0m plot_tree(dtree, feature_names \u001b[38;5;241m=\u001b[39m X_train\u001b[38;5;241m.\u001b[39mcolumns, filled\u001b[38;5;241m=\u001b[39m \u001b[38;5;28;01mTrue\u001b[39;00m)\n",
      "\u001b[0;31mAttributeError\u001b[0m: 'numpy.ndarray' object has no attribute 'columns'"
     ]
    }
   ],
   "source": [
    "plot_tree(dtree, feature_names = X_train.columns, filled= True)"
   ]
  },
  {
   "cell_type": "code",
   "execution_count": 13,
   "id": "8db1b5be",
   "metadata": {
    "collapsed": true
   },
   "outputs": [
    {
     "name": "stdout",
     "output_type": "stream",
     "text": [
      "Package                           Version\r\n",
      "--------------------------------- ------------\r\n",
      "aext_assistant                    0.4.0\r\n",
      "aext_assistant_server             0.4.0\r\n",
      "aext_core                         0.4.0\r\n",
      "aext_core_server                  0.4.0\r\n",
      "aext_shared                       0.4.0\r\n",
      "aiobotocore                       2.7.0\r\n",
      "aiofiles                          22.1.0\r\n",
      "aiohttp                           3.9.3\r\n",
      "aioitertools                      0.7.1\r\n",
      "aiosignal                         1.2.0\r\n",
      "aiosqlite                         0.18.0\r\n",
      "alabaster                         0.7.12\r\n",
      "altair                            5.0.1\r\n",
      "anaconda-anon-usage               0.4.3\r\n",
      "anaconda-catalogs                 0.2.0\r\n",
      "anaconda-client                   1.12.3\r\n",
      "anaconda-cloud-auth               0.5.0\r\n",
      "anaconda-navigator                2.6.0\r\n",
      "anaconda-project                  0.11.1\r\n",
      "anyio                             4.2.0\r\n",
      "appdirs                           1.4.4\r\n",
      "applaunchservices                 0.3.0\r\n",
      "appnope                           0.1.2\r\n",
      "appscript                         1.1.2\r\n",
      "archspec                          0.2.3\r\n",
      "argon2-cffi                       21.3.0\r\n",
      "argon2-cffi-bindings              21.2.0\r\n",
      "arrow                             1.2.3\r\n",
      "astroid                           2.14.2\r\n",
      "astropy                           5.3.4\r\n",
      "asttokens                         2.0.5\r\n",
      "async-lru                         2.0.4\r\n",
      "atomicwrites                      1.4.0\r\n",
      "attrs                             23.1.0\r\n",
      "Automat                           20.2.0\r\n",
      "autopep8                          1.6.0\r\n",
      "Babel                             2.11.0\r\n",
      "backports.functools-lru-cache     1.6.4\r\n",
      "backports.tempfile                1.0\r\n",
      "backports.weakref                 1.0.post1\r\n",
      "bcrypt                            3.2.0\r\n",
      "beautifulsoup4                    4.12.2\r\n",
      "binaryornot                       0.4.4\r\n",
      "black                             23.11.0\r\n",
      "bleach                            4.1.0\r\n",
      "blinker                           1.6.2\r\n",
      "bokeh                             3.3.4\r\n",
      "boltons                           23.0.0\r\n",
      "botocore                          1.31.64\r\n",
      "Bottleneck                        1.3.7\r\n",
      "Brotli                            1.0.9\r\n",
      "cachetools                        4.2.2\r\n",
      "certifi                           2024.2.2\r\n",
      "cffi                              1.16.0\r\n",
      "chardet                           4.0.0\r\n",
      "charset-normalizer                2.0.4\r\n",
      "click                             8.1.7\r\n",
      "cloudpickle                       2.2.1\r\n",
      "clyent                            1.2.2\r\n",
      "colorama                          0.4.6\r\n",
      "colorcet                          3.0.1\r\n",
      "comm                              0.1.2\r\n",
      "conda                             24.3.0\r\n",
      "conda-build                       24.1.2\r\n",
      "conda-content-trust               0.2.0\r\n",
      "conda_index                       0.4.0\r\n",
      "conda-libmamba-solver             24.1.0\r\n",
      "conda-pack                        0.6.0\r\n",
      "conda-package-handling            2.2.0\r\n",
      "conda_package_streaming           0.9.0\r\n",
      "conda-repo-cli                    1.0.75\r\n",
      "conda-token                       0.4.0\r\n",
      "conda-verify                      3.4.2\r\n",
      "constantly                        23.10.4\r\n",
      "contourpy                         1.2.0\r\n",
      "cookiecutter                      2.5.0\r\n",
      "cryptography                      42.0.2\r\n",
      "cssselect                         1.2.0\r\n",
      "cycler                            0.11.0\r\n",
      "cytoolz                           0.12.2\r\n",
      "dask                              2023.11.0\r\n",
      "datashader                        0.16.0\r\n",
      "debugpy                           1.6.7\r\n",
      "decorator                         5.1.1\r\n",
      "defusedxml                        0.7.1\r\n",
      "diff-match-patch                  20200713\r\n",
      "dill                              0.3.7\r\n",
      "distributed                       2023.11.0\r\n",
      "distro                            1.8.0\r\n",
      "docstring-to-markdown             0.11\r\n",
      "docutils                          0.18.1\r\n",
      "entrypoints                       0.4\r\n",
      "et-xmlfile                        1.1.0\r\n",
      "executing                         0.8.3\r\n",
      "fastjsonschema                    2.16.2\r\n",
      "filelock                          3.13.1\r\n",
      "flake8                            6.0.0\r\n",
      "Flask                             2.2.5\r\n",
      "fonttools                         4.25.0\r\n",
      "fqdn                              1.5.1\r\n",
      "frozenlist                        1.4.0\r\n",
      "fsspec                            2023.10.0\r\n",
      "future                            0.18.3\r\n",
      "gensim                            4.3.0\r\n",
      "gitdb                             4.0.7\r\n",
      "GitPython                         3.1.37\r\n",
      "gmpy2                             2.1.2\r\n",
      "graphviz                          0.20.3\r\n",
      "greenlet                          3.0.1\r\n",
      "h11                               0.14.0\r\n",
      "h5py                              3.9.0\r\n",
      "HeapDict                          1.0.1\r\n",
      "holoviews                         1.18.3\r\n",
      "httpcore                          1.0.2\r\n",
      "httpx                             0.26.0\r\n",
      "hvplot                            0.9.2\r\n",
      "hyperlink                         21.0.0\r\n",
      "idna                              3.4\r\n",
      "imagecodecs                       2023.1.23\r\n",
      "imageio                           2.33.1\r\n",
      "imagesize                         1.4.1\r\n",
      "imbalanced-learn                  0.11.0\r\n",
      "importlib-metadata                7.0.1\r\n",
      "incremental                       22.10.0\r\n",
      "inflection                        0.5.1\r\n",
      "iniconfig                         1.1.1\r\n",
      "intake                            0.6.8\r\n",
      "intervaltree                      3.1.0\r\n",
      "ipykernel                         6.28.0\r\n",
      "ipython                           8.20.0\r\n",
      "ipython-genutils                  0.2.0\r\n",
      "ipywidgets                        7.6.5\r\n",
      "isoduration                       20.11.0\r\n",
      "isort                             5.9.3\r\n",
      "itemadapter                       0.3.0\r\n",
      "itemloaders                       1.1.0\r\n",
      "itsdangerous                      2.0.1\r\n",
      "jaraco.classes                    3.2.1\r\n",
      "jedi                              0.18.1\r\n",
      "jellyfish                         1.0.1\r\n",
      "Jinja2                            3.1.3\r\n",
      "jmespath                          1.0.1\r\n",
      "joblib                            1.2.0\r\n",
      "json5                             0.9.6\r\n",
      "jsonpatch                         1.32\r\n",
      "jsonpointer                       2.1\r\n",
      "jsonschema                        4.19.2\r\n",
      "jsonschema-specifications         2023.7.1\r\n",
      "jupyter                           1.0.0\r\n",
      "jupyter_client                    7.4.9\r\n",
      "jupyter-console                   6.6.3\r\n",
      "jupyter-contrib-core              0.4.2\r\n",
      "jupyter-contrib-nbextensions      0.7.0\r\n",
      "jupyter_core                      5.5.0\r\n",
      "jupyter-events                    0.8.0\r\n",
      "jupyter-highlight-selected-word   0.2.0\r\n",
      "jupyter-lsp                       2.2.0\r\n",
      "jupyter-nbextensions-configurator 0.6.3\r\n",
      "jupyter_server                    2.10.0\r\n",
      "jupyter_server_fileid             0.9.0\r\n",
      "jupyter_server_terminals          0.4.4\r\n",
      "jupyter_server_ydoc               0.8.0\r\n",
      "jupyter-ydoc                      0.2.4\r\n",
      "jupyterlab                        3.6.7\r\n",
      "jupyterlab-pygments               0.1.2\r\n",
      "jupyterlab_server                 2.25.1\r\n",
      "jupyterlab-widgets                3.0.9\r\n",
      "keyring                           23.13.1\r\n",
      "kiwisolver                        1.4.4\r\n",
      "lazy_loader                       0.3\r\n",
      "lazy-object-proxy                 1.6.0\r\n",
      "lckr_jupyterlab_variableinspector 3.1.0\r\n",
      "libarchive-c                      2.9\r\n",
      "libmambapy                        1.5.6\r\n",
      "linkify-it-py                     2.0.0\r\n",
      "llvmlite                          0.42.0\r\n",
      "lmdb                              1.4.1\r\n",
      "locket                            1.0.0\r\n",
      "lxml                              4.9.3\r\n",
      "lz4                               4.3.2\r\n",
      "Markdown                          3.4.1\r\n",
      "markdown-it-py                    2.2.0\r\n",
      "MarkupSafe                        2.1.3\r\n",
      "matplotlib                        3.8.0\r\n",
      "matplotlib-inline                 0.1.6\r\n",
      "mccabe                            0.7.0\r\n",
      "mdit-py-plugins                   0.3.0\r\n",
      "mdurl                             0.1.0\r\n",
      "menuinst                          2.0.2\r\n",
      "mistune                           2.0.4\r\n",
      "more-itertools                    10.1.0\r\n",
      "mpmath                            1.3.0\r\n",
      "msgpack                           1.0.3\r\n",
      "multidict                         6.0.4\r\n",
      "multipledispatch                  0.6.0\r\n",
      "munkres                           1.1.4\r\n",
      "mypy                              1.8.0\r\n",
      "mypy-extensions                   1.0.0\r\n",
      "navigator-updater                 0.4.0\r\n",
      "nbclassic                         1.0.0\r\n",
      "nbclient                          0.8.0\r\n",
      "nbconvert                         7.10.0\r\n",
      "nbformat                          5.9.2\r\n",
      "nest-asyncio                      1.6.0\r\n",
      "networkx                          3.1\r\n",
      "nltk                              3.8.1\r\n",
      "notebook                          6.5.4\r\n",
      "notebook_shim                     0.2.3\r\n",
      "numba                             0.59.0\r\n",
      "numexpr                           2.8.7\r\n",
      "numpy                             1.26.4\r\n",
      "numpydoc                          1.5.0\r\n",
      "openpyxl                          3.0.10\r\n",
      "overrides                         7.4.0\r\n",
      "packaging                         23.1\r\n",
      "pandas                            2.1.4\r\n",
      "pandocfilters                     1.5.0\r\n",
      "panel                             1.3.8\r\n",
      "param                             2.0.2\r\n",
      "parsel                            1.8.1\r\n",
      "parso                             0.8.3\r\n",
      "partd                             1.4.1\r\n",
      "pathlib                           1.0.1\r\n",
      "pathspec                          0.10.3\r\n",
      "patsy                             0.5.3\r\n",
      "pexpect                           4.8.0\r\n",
      "pickleshare                       0.7.5\r\n",
      "pillow                            10.2.0\r\n",
      "pip                               23.3.1\r\n",
      "pkce                              1.0.3\r\n",
      "pkginfo                           1.9.6\r\n",
      "platformdirs                      3.10.0\r\n",
      "plotly                            5.9.0\r\n",
      "pluggy                            1.0.0\r\n",
      "ply                               3.11\r\n",
      "prometheus-client                 0.14.1\r\n",
      "prompt-toolkit                    3.0.43\r\n",
      "Protego                           0.1.16\r\n",
      "protobuf                          3.20.3\r\n",
      "psutil                            5.9.0\r\n",
      "ptyprocess                        0.7.0\r\n",
      "pure-eval                         0.2.2\r\n",
      "py-cpuinfo                        9.0.0\r\n",
      "pyarrow                           14.0.2\r\n",
      "pyasn1                            0.4.8\r\n",
      "pyasn1-modules                    0.2.8\r\n",
      "pycodestyle                       2.10.0\r\n",
      "pycosat                           0.6.6\r\n",
      "pycparser                         2.21\r\n",
      "pyct                              0.5.0\r\n",
      "pycurl                            7.45.2\r\n",
      "pydantic                          1.10.12\r\n",
      "pydeck                            0.8.0\r\n",
      "PyDispatcher                      2.0.5\r\n",
      "pydocstyle                        6.3.0\r\n",
      "pydotplus                         2.0.2\r\n",
      "pyerfa                            2.0.0\r\n",
      "pyflakes                          3.0.1\r\n",
      "Pygments                          2.15.1\r\n",
      "PyJWT                             2.4.0\r\n",
      "pylint                            2.16.2\r\n",
      "pylint-venv                       2.3.0\r\n",
      "pyls-spyder                       0.4.0\r\n",
      "pyobjc-core                       9.0\r\n",
      "pyobjc-framework-Cocoa            9.0\r\n",
      "pyobjc-framework-CoreServices     9.0\r\n",
      "pyobjc-framework-FSEvents         9.0\r\n",
      "pyodbc                            5.0.1\r\n",
      "pyOpenSSL                         24.0.0\r\n",
      "pyparsing                         3.0.9\r\n",
      "PyQt5                             5.15.10\r\n",
      "PyQt5-sip                         12.13.0\r\n",
      "PyQtWebEngine                     5.15.6\r\n",
      "PySocks                           1.7.1\r\n",
      "pytest                            7.4.0\r\n",
      "python-dateutil                   2.8.2\r\n",
      "python-dotenv                     0.21.0\r\n",
      "python-json-logger                2.0.7\r\n",
      "python-lsp-black                  1.2.1\r\n",
      "python-lsp-jsonrpc                1.0.0\r\n",
      "python-lsp-server                 1.7.2\r\n",
      "python-slugify                    5.0.2\r\n",
      "python-snappy                     0.6.1\r\n",
      "pytoolconfig                      1.2.6\r\n",
      "pytz                              2023.3.post1\r\n",
      "pyviz-comms                       2.3.0\r\n",
      "pywavelets                        1.5.0\r\n",
      "PyYAML                            6.0.1\r\n",
      "pyzmq                             24.0.1\r\n",
      "QDarkStyle                        3.0.2\r\n",
      "qstylizer                         0.2.2\r\n",
      "QtAwesome                         1.2.2\r\n",
      "qtconsole                         5.4.2\r\n",
      "QtPy                              2.4.1\r\n",
      "queuelib                          1.6.2\r\n",
      "referencing                       0.30.2\r\n",
      "regex                             2023.10.3\r\n",
      "requests                          2.31.0\r\n",
      "requests-file                     1.5.1\r\n",
      "requests-toolbelt                 1.0.0\r\n",
      "rfc3339-validator                 0.1.4\r\n",
      "rfc3986-validator                 0.1.1\r\n",
      "rich                              13.3.5\r\n",
      "rope                              1.7.0\r\n",
      "rpds-py                           0.10.6\r\n",
      "Rtree                             1.0.1\r\n",
      "ruamel.yaml                       0.17.21\r\n",
      "ruamel-yaml-conda                 0.17.21\r\n",
      "s3fs                              2023.10.0\r\n",
      "scikit-image                      0.22.0\r\n",
      "scikit-learn                      1.2.2\r\n",
      "scipy                             1.11.4\r\n",
      "Scrapy                            2.8.0\r\n",
      "seaborn                           0.12.2\r\n",
      "semver                            2.13.0\r\n",
      "Send2Trash                        1.8.2\r\n",
      "service-identity                  18.1.0\r\n",
      "setuptools                        68.2.2\r\n",
      "sip                               6.7.12\r\n",
      "six                               1.16.0\r\n",
      "smart-open                        5.2.1\r\n",
      "smmap                             4.0.0\r\n",
      "sniffio                           1.3.0\r\n",
      "snowballstemmer                   2.2.0\r\n",
      "sortedcontainers                  2.4.0\r\n",
      "soupsieve                         2.5\r\n",
      "Sphinx                            5.0.2\r\n",
      "sphinxcontrib-applehelp           1.0.2\r\n",
      "sphinxcontrib-devhelp             1.0.2\r\n",
      "sphinxcontrib-htmlhelp            2.0.0\r\n",
      "sphinxcontrib-jsmath              1.0.1\r\n",
      "sphinxcontrib-qthelp              1.0.3\r\n",
      "sphinxcontrib-serializinghtml     1.1.5\r\n",
      "spyder                            5.4.3\r\n",
      "spyder-kernels                    2.4.4\r\n",
      "SQLAlchemy                        2.0.25\r\n",
      "stack-data                        0.2.0\r\n",
      "statsmodels                       0.14.0\r\n",
      "streamlit                         1.30.0\r\n",
      "sympy                             1.12\r\n",
      "tables                            3.9.2\r\n",
      "tabulate                          0.9.0\r\n",
      "tblib                             1.7.0\r\n",
      "tenacity                          8.2.2\r\n",
      "terminado                         0.17.1\r\n",
      "text-unidecode                    1.3\r\n",
      "textdistance                      4.2.1\r\n",
      "threadpoolctl                     2.2.0\r\n",
      "three-merge                       0.1.1\r\n",
      "tifffile                          2023.4.12\r\n",
      "tinycss2                          1.2.1\r\n",
      "tldextract                        3.2.0\r\n",
      "toml                              0.10.2\r\n",
      "tomlkit                           0.11.1\r\n",
      "toolz                             0.12.0\r\n",
      "torch                             2.3.1\r\n",
      "torchvision                       0.18.1\r\n",
      "tornado                           6.3.3\r\n",
      "tqdm                              4.65.0\r\n",
      "traitlets                         5.7.1\r\n",
      "truststore                        0.8.0\r\n",
      "Twisted                           23.10.0\r\n",
      "typing_extensions                 4.9.0\r\n",
      "tzdata                            2023.3\r\n",
      "tzlocal                           2.1\r\n",
      "uc-micro-py                       1.0.1\r\n",
      "ujson                             5.4.0\r\n",
      "Unidecode                         1.2.0\r\n",
      "uri-template                      1.3.0\r\n",
      "urllib3                           2.0.7\r\n",
      "validators                        0.18.2\r\n",
      "w3lib                             2.1.2\r\n",
      "watchdog                          2.1.6\r\n",
      "wcwidth                           0.2.5\r\n",
      "webcolors                         1.13\r\n",
      "webencodings                      0.5.1\r\n",
      "websocket-client                  0.58.0\r\n",
      "Werkzeug                          2.2.3\r\n",
      "whatthepatch                      1.0.2\r\n",
      "wheel                             0.41.2\r\n",
      "widgetsnbextension                3.5.2\r\n",
      "wrapt                             1.14.1\r\n",
      "wurlitzer                         3.0.2\r\n",
      "xarray                            2023.6.0\r\n",
      "xlwings                           0.29.1\r\n",
      "xyzservices                       2022.9.0\r\n",
      "y-py                              0.5.9\r\n",
      "yapf                              0.31.0\r\n",
      "yarl                              1.9.3\r\n",
      "ypy-websocket                     0.8.2\r\n",
      "zict                              3.0.0\r\n",
      "zipp                              3.17.0\r\n",
      "zope.interface                    5.4.0\r\n",
      "zstandard                         0.19.0\r\n"
     ]
    },
    {
     "name": "stdout",
     "output_type": "stream",
     "text": [
      "Note: you may need to restart the kernel to use updated packages.\n"
     ]
    }
   ],
   "source": [
    "pip list"
   ]
  }
 ],
 "metadata": {
  "kernelspec": {
   "display_name": "Python 3 (ipykernel)",
   "language": "python",
   "name": "python3"
  },
  "language_info": {
   "codemirror_mode": {
    "name": "ipython",
    "version": 3
   },
   "file_extension": ".py",
   "mimetype": "text/x-python",
   "name": "python",
   "nbconvert_exporter": "python",
   "pygments_lexer": "ipython3",
   "version": "3.11.7"
  }
 },
 "nbformat": 4,
 "nbformat_minor": 5
}
