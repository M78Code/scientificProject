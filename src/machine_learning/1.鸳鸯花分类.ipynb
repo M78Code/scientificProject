{
 "cells": [
  {
   "cell_type": "markdown",
   "id": "fc4959e3",
   "metadata": {},
   "source": [
    "# Step to Classify Iris Flower:\n",
    "### 1. Load the data\n",
    "### 2. Analyze and visualize the dataset\n",
    "### 3. Model training\n",
    "### 4. Model Evaluation\n",
    "### 5. Testing the model"
   ]
  },
  {
   "cell_type": "code",
   "execution_count": 2,
   "id": "4f6a2b62",
   "metadata": {},
   "outputs": [],
   "source": [
    "# Import Packages\n",
    "import torch\n",
    "import matplotlib.pyplot as plt\n",
    "import seaborn as sns\n",
    "import pandas as pd\n",
    "%matplotlib inline"
   ]
  },
  {
   "cell_type": "code",
   "execution_count": null,
   "id": "f4661d34",
   "metadata": {},
   "outputs": [],
   "source": []
  }
 ],
 "metadata": {
  "kernelspec": {
   "display_name": "Python 3 (ipykernel)",
   "language": "python",
   "name": "python3"
  },
  "language_info": {
   "codemirror_mode": {
    "name": "ipython",
    "version": 3
   },
   "file_extension": ".py",
   "mimetype": "text/x-python",
   "name": "python",
   "nbconvert_exporter": "python",
   "pygments_lexer": "ipython3",
   "version": "3.11.7"
  }
 },
 "nbformat": 4,
 "nbformat_minor": 5
}
