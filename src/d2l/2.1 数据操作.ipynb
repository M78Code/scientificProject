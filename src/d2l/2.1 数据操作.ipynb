{
 "cells": [
  {
   "cell_type": "markdown",
   "id": "48db0a05-3a61-41f7-96d8-6c086532e783",
   "metadata": {},
   "source": [
    "# 2.1.1. 入门"
   ]
  },
  {
   "cell_type": "code",
   "execution_count": 1,
   "id": "41e3fcdb-9ad7-47f9-b26c-ba143288a56d",
   "metadata": {},
   "outputs": [],
   "source": [
    "import torch\n",
    "import numpy as np"
   ]
  },
  {
   "cell_type": "code",
   "execution_count": 8,
   "id": "7a2c7823-0241-4c6d-8eb6-78369269c905",
   "metadata": {},
   "outputs": [
    {
     "data": {
      "text/plain": [
       "tensor([ 0,  1,  2,  3,  4,  5,  6,  7,  8,  9, 10, 11])"
      ]
     },
     "execution_count": 8,
     "metadata": {},
     "output_type": "execute_result"
    }
   ],
   "source": [
    "# 使用arange创建一个行向量x\n",
    "x = torch.arange(12)\n",
    "x"
   ]
  },
  {
   "cell_type": "code",
   "execution_count": 9,
   "id": "8694787a-b290-4c83-a258-907562cbf7a3",
   "metadata": {},
   "outputs": [
    {
     "data": {
      "text/plain": [
       "torch.Size([12])"
      ]
     },
     "execution_count": 9,
     "metadata": {},
     "output_type": "execute_result"
    }
   ],
   "source": [
    "# 访问张量的形状\n",
    "x.shape"
   ]
  },
  {
   "cell_type": "code",
   "execution_count": 35,
   "id": "17adfa3b-8cda-404a-bf9f-af138a197dde",
   "metadata": {},
   "outputs": [
    {
     "data": {
      "text/plain": [
       "12"
      ]
     },
     "execution_count": 35,
     "metadata": {},
     "output_type": "execute_result"
    }
   ],
   "source": [
    "# 检查张量元素的总数\n",
    "x.numel()\n",
    "# 或\n",
    "torch.numel(x)"
   ]
  },
  {
   "cell_type": "code",
   "execution_count": 12,
   "id": "3bbde989-2295-4578-8e0e-668a8142ac22",
   "metadata": {},
   "outputs": [
    {
     "data": {
      "text/plain": [
       "tensor([[ 0,  1,  2,  3],\n",
       "        [ 4,  5,  6,  7],\n",
       "        [ 8,  9, 10, 11]])"
      ]
     },
     "metadata": {},
     "output_type": "display_data"
    },
    {
     "data": {
      "text/plain": [
       "tensor([ 0,  1,  2,  3,  4,  5,  6,  7,  8,  9, 10, 11])"
      ]
     },
     "metadata": {},
     "output_type": "display_data"
    }
   ],
   "source": [
    "# 把张量x从形状为(12,)的行向量转换为形状为(3,4)的矩阵\n",
    "X = x.reshape(3,4)\n",
    "display(X,x)"
   ]
  },
  {
   "cell_type": "code",
   "execution_count": 14,
   "id": "b68c52d0-3ca3-465d-a302-173ad1bd67c8",
   "metadata": {},
   "outputs": [
    {
     "data": {
      "text/plain": [
       "torch.Size([3, 4])"
      ]
     },
     "execution_count": 14,
     "metadata": {},
     "output_type": "execute_result"
    }
   ],
   "source": [
    "X.shape"
   ]
  },
  {
   "cell_type": "code",
   "execution_count": 15,
   "id": "d8f8dd4a-c077-4b53-8ce3-da4f8f150bb8",
   "metadata": {},
   "outputs": [
    {
     "data": {
      "text/plain": [
       "tensor([[ 0,  1,  2,  3],\n",
       "        [ 4,  5,  6,  7],\n",
       "        [ 8,  9, 10, 11]])"
      ]
     },
     "execution_count": 15,
     "metadata": {},
     "output_type": "execute_result"
    }
   ],
   "source": [
    "X2 = x.reshape(-1,4)\n",
    "X2"
   ]
  },
  {
   "cell_type": "code",
   "execution_count": 16,
   "id": "f192a74c-a972-4447-acf9-a0906f10e1d2",
   "metadata": {},
   "outputs": [
    {
     "data": {
      "text/plain": [
       "tensor([[ 0,  1,  2,  3],\n",
       "        [ 4,  5,  6,  7],\n",
       "        [ 8,  9, 10, 11]])"
      ]
     },
     "execution_count": 16,
     "metadata": {},
     "output_type": "execute_result"
    }
   ],
   "source": [
    "X3 = x.reshape(3,-1)\n",
    "X3"
   ]
  },
  {
   "cell_type": "code",
   "execution_count": 23,
   "id": "2d0f0944-aa0b-40b0-a5ee-c0bbf8bd121e",
   "metadata": {},
   "outputs": [
    {
     "data": {
      "text/plain": [
       "tensor([[ 0,  1,  2,  3,  4,  5],\n",
       "        [ 6,  7,  8,  9, 10, 11]])"
      ]
     },
     "execution_count": 23,
     "metadata": {},
     "output_type": "execute_result"
    }
   ],
   "source": [
    "X4 = x.reshape(2,6)\n",
    "X4"
   ]
  },
  {
   "cell_type": "code",
   "execution_count": 34,
   "id": "21cb4415-6584-47bc-b28d-7c4f428b63ac",
   "metadata": {},
   "outputs": [
    {
     "data": {
      "text/plain": [
       "tensor([[[0., 0., 0., 0.],\n",
       "         [0., 0., 0., 0.],\n",
       "         [0., 0., 0., 0.]],\n",
       "\n",
       "        [[0., 0., 0., 0.],\n",
       "         [0., 0., 0., 0.],\n",
       "         [0., 0., 0., 0.]]])"
      ]
     },
     "execution_count": 34,
     "metadata": {},
     "output_type": "execute_result"
    }
   ],
   "source": [
    "# 创建一个全0，形状为(2,3,4)的张量，二维，三行四列\n",
    "torch.zeros(2,3,4)"
   ]
  },
  {
   "cell_type": "code",
   "execution_count": 28,
   "id": "24c87e15-d595-4206-819b-d46cebece5f4",
   "metadata": {},
   "outputs": [
    {
     "data": {
      "text/plain": [
       "tensor([[0, 0, 0, 0, 0, 0],\n",
       "        [0, 0, 0, 0, 0, 0]])"
      ]
     },
     "metadata": {},
     "output_type": "display_data"
    },
    {
     "data": {
      "text/plain": [
       "tensor([[0, 0, 0, 0, 0, 0],\n",
       "        [0, 0, 0, 0, 0, 0]])"
      ]
     },
     "metadata": {},
     "output_type": "display_data"
    }
   ],
   "source": [
    "X5 = torch.zero_(X4) # 将调用它的张量中的所有元素设置为 0。\n",
    "display(X5,X4)"
   ]
  },
  {
   "cell_type": "code",
   "execution_count": 57,
   "id": "4edff3b5-c654-40ae-8d77-db28feedfe20",
   "metadata": {},
   "outputs": [
    {
     "data": {
      "text/plain": [
       "tensor([[[1., 1., 1., 1.],\n",
       "         [1., 1., 1., 1.],\n",
       "         [1., 1., 1., 1.]],\n",
       "\n",
       "        [[1., 1., 1., 1.],\n",
       "         [1., 1., 1., 1.],\n",
       "         [1., 1., 1., 1.]]])"
      ]
     },
     "execution_count": 57,
     "metadata": {},
     "output_type": "execute_result"
    }
   ],
   "source": [
    "# 创建一个全1，形状为(2,3,4)的张量，二维，三行四列\n",
    "t = torch.ones(2,3,4)\n",
    "t"
   ]
  },
  {
   "cell_type": "code",
   "execution_count": 58,
   "id": "6f918f38-5b76-474e-80df-7927c8c67ef0",
   "metadata": {},
   "outputs": [
    {
     "data": {
      "text/plain": [
       "torch.Size([2, 3, 4])"
      ]
     },
     "execution_count": 58,
     "metadata": {},
     "output_type": "execute_result"
    }
   ],
   "source": [
    "t.size()"
   ]
  },
  {
   "cell_type": "code",
   "execution_count": 65,
   "id": "54f9c7e7-5da8-4c86-ba24-71c15d313f1b",
   "metadata": {},
   "outputs": [
    {
     "data": {
      "text/plain": [
       "2"
      ]
     },
     "metadata": {},
     "output_type": "display_data"
    },
    {
     "data": {
      "text/plain": [
       "3"
      ]
     },
     "metadata": {},
     "output_type": "display_data"
    },
    {
     "data": {
      "text/plain": [
       "4"
      ]
     },
     "metadata": {},
     "output_type": "display_data"
    }
   ],
   "source": [
    "t1 = t.size(0)\n",
    "t2 = t.size(1)\n",
    "t3 = t.size(2)\n",
    "display(t1, t2, t3)"
   ]
  },
  {
   "cell_type": "code",
   "execution_count": 54,
   "id": "c991f376-7561-49ac-a350-f6980aa6b784",
   "metadata": {},
   "outputs": [
    {
     "data": {
      "text/plain": [
       "tensor([[ 0.8066, -0.3876,  1.5450,  0.3175],\n",
       "        [ 0.4747,  0.1055, -0.5043,  0.2616],\n",
       "        [ 0.7244,  0.1754, -0.5556,  1.2550]])"
      ]
     },
     "execution_count": 54,
     "metadata": {},
     "output_type": "execute_result"
    }
   ],
   "source": [
    "# 形状为(3,4)的张量，其中每个元素都从均值为0，标准差为1的正态分布\n",
    "t = torch.randn(3,4)\n",
    "t"
   ]
  },
  {
   "cell_type": "code",
   "execution_count": 55,
   "id": "da72ff37-b0f8-46e3-911c-1a0cb7248418",
   "metadata": {},
   "outputs": [
    {
     "data": {
      "text/plain": [
       "torch.Size([3, 4])"
      ]
     },
     "execution_count": 55,
     "metadata": {},
     "output_type": "execute_result"
    }
   ],
   "source": [
    "t.size()"
   ]
  },
  {
   "cell_type": "code",
   "execution_count": 40,
   "id": "e4dcfe7c-204f-4901-96b7-167305c2f21f",
   "metadata": {},
   "outputs": [
    {
     "data": {
      "text/plain": [
       "tensor([[2, 1, 4, 3],\n",
       "        [1, 2, 3, 4],\n",
       "        [4, 3, 2, 1]])"
      ]
     },
     "execution_count": 40,
     "metadata": {},
     "output_type": "execute_result"
    }
   ],
   "source": [
    "# 张量的维度被称为“轴”（axes），其中每个轴表示一个维度。对于一个多维张量，轴的编号从 0 开始。\n",
    "x=torch.tensor([[2,1,4,3], [1,2,3,4],[4,3,2,1]])\n",
    "x"
   ]
  },
  {
   "cell_type": "code",
   "execution_count": 41,
   "id": "714a9200-5dff-4a57-b539-b86cdcc7f315",
   "metadata": {},
   "outputs": [
    {
     "data": {
      "text/plain": [
       "torch.Size([3, 4])"
      ]
     },
     "execution_count": 41,
     "metadata": {},
     "output_type": "execute_result"
    }
   ],
   "source": [
    "x.shape"
   ]
  },
  {
   "cell_type": "code",
   "execution_count": 42,
   "id": "d7f8afc9-bc20-4ab3-80de-c8e98b2334e4",
   "metadata": {},
   "outputs": [
    {
     "data": {
      "text/plain": [
       "torch.Size([3, 4])"
      ]
     },
     "execution_count": 42,
     "metadata": {},
     "output_type": "execute_result"
    }
   ],
   "source": [
    "x.size()"
   ]
  },
  {
   "cell_type": "code",
   "execution_count": 49,
   "id": "dccb71ce-cc2e-458c-9fe8-730007ee83df",
   "metadata": {},
   "outputs": [
    {
     "name": "stdout",
     "output_type": "stream",
     "text": [
      "第0行: tensor([2, 1, 4, 3])\n",
      "第1行: tensor([1, 2, 3, 4])\n",
      "第2行: tensor([4, 3, 2, 1])\n"
     ]
    }
   ],
   "source": [
    "# 访问轴0（行）\n",
    "for i in range(x.size(0)): # size(0) 是轴0的大小，即行数\n",
    "    print(f\"第{i}行:\", x[i]) # 访问每一行"
   ]
  },
  {
   "cell_type": "code",
   "execution_count": 66,
   "id": "b8012854-60ad-4aa6-a2f1-a2363dd1069e",
   "metadata": {},
   "outputs": [
    {
     "data": {
      "text/plain": [
       "4"
      ]
     },
     "execution_count": 66,
     "metadata": {},
     "output_type": "execute_result"
    }
   ],
   "source": [
    "s = x.size(1)\n",
    "s"
   ]
  },
  {
   "cell_type": "code",
   "execution_count": 69,
   "id": "8f830517-b0ef-4ea2-b033-7241c19c29e3",
   "metadata": {},
   "outputs": [
    {
     "name": "stdout",
     "output_type": "stream",
     "text": [
      "0 - : tensor([2, 1, 4])\n",
      "1 - : tensor([1, 2, 3])\n",
      "2 - : tensor([4, 3, 2])\n",
      "3 - : tensor([3, 4, 1])\n"
     ]
    }
   ],
   "source": [
    "# 访问轴1（列）\n",
    "for j in range(s): # size(1) 是轴1的大小，即列数\n",
    "    print(f\"{j} - :\", x[:,j]) # 访问每一列, x[:,j]表示的是从x中选择所有行，并且只选择第j列的数据"
   ]
  },
  {
   "cell_type": "code",
   "execution_count": 70,
   "id": "fb04de1a-85e7-4cc4-b400-f06e35f3e178",
   "metadata": {},
   "outputs": [
    {
     "name": "stdout",
     "output_type": "stream",
     "text": [
      "所有行第0列， tensor([2, 1, 4])\n",
      "所有行第1列， tensor([1, 2, 3])\n",
      "所有行第2列， tensor([4, 3, 2])\n",
      "所有行第3列， tensor([3, 4, 1])\n"
     ]
    }
   ],
   "source": [
    "for j in range(s):\n",
    "    print(f\"所有行第{j}列，\",x[[0,1,2],j])"
   ]
  },
  {
   "cell_type": "code",
   "execution_count": 71,
   "id": "37f2c191-6dcc-4ec9-b7b6-9ece69431e93",
   "metadata": {},
   "outputs": [
    {
     "data": {
      "text/plain": [
       "tensor([[2, 1, 4, 3],\n",
       "        [1, 2, 3, 4],\n",
       "        [4, 3, 2, 1]])"
      ]
     },
     "execution_count": 71,
     "metadata": {},
     "output_type": "execute_result"
    }
   ],
   "source": [
    "x"
   ]
  },
  {
   "cell_type": "code",
   "execution_count": 73,
   "id": "c1790831-ba54-4605-a641-52eb6c0261e9",
   "metadata": {},
   "outputs": [
    {
     "data": {
      "text/plain": [
       "tensor(2)"
      ]
     },
     "execution_count": 73,
     "metadata": {},
     "output_type": "execute_result"
    }
   ],
   "source": [
    "x[0][0] # 第0行第0列"
   ]
  },
  {
   "cell_type": "code",
   "execution_count": 74,
   "id": "1bb1e4d3-d305-44a7-8273-e44d2a377c74",
   "metadata": {},
   "outputs": [
    {
     "data": {
      "text/plain": [
       "tensor(1)"
      ]
     },
     "execution_count": 74,
     "metadata": {},
     "output_type": "execute_result"
    }
   ],
   "source": [
    "x[0][1] # 第0行第1列"
   ]
  },
  {
   "cell_type": "code",
   "execution_count": 75,
   "id": "21d14884-ab34-42c1-ae22-6a801e383e3c",
   "metadata": {},
   "outputs": [
    {
     "data": {
      "text/plain": [
       "tensor(2)"
      ]
     },
     "execution_count": 75,
     "metadata": {},
     "output_type": "execute_result"
    }
   ],
   "source": [
    "x[1][1] # 第1行第1列"
   ]
  },
  {
   "cell_type": "code",
   "execution_count": 76,
   "id": "a715b73c-924b-4acf-88fe-fbbb6e8ffe6c",
   "metadata": {},
   "outputs": [
    {
     "data": {
      "text/plain": [
       "tensor(4)"
      ]
     },
     "execution_count": 76,
     "metadata": {},
     "output_type": "execute_result"
    }
   ],
   "source": [
    "x[1][3] # 第1行第3列"
   ]
  },
  {
   "cell_type": "markdown",
   "id": "d7417faf-1b0e-41b2-a109-be45c904dc98",
   "metadata": {},
   "source": [
    "# 2.1.2 运算符"
   ]
  },
  {
   "cell_type": "code",
   "execution_count": 77,
   "id": "5fa4e487-d1ff-4ee8-9535-76ab86cab9e8",
   "metadata": {},
   "outputs": [],
   "source": [
    "x = torch.tensor([1.,2,4,8])\n",
    "y = torch.tensor([2,2,2,2])"
   ]
  },
  {
   "cell_type": "code",
   "execution_count": 78,
   "id": "d2e730c2-564a-4ce8-8cef-5f5bac08cb70",
   "metadata": {},
   "outputs": [
    {
     "data": {
      "text/plain": [
       "tensor([ 3.,  4.,  6., 10.])"
      ]
     },
     "execution_count": 78,
     "metadata": {},
     "output_type": "execute_result"
    }
   ],
   "source": [
    "x+y"
   ]
  },
  {
   "cell_type": "code",
   "execution_count": 79,
   "id": "31f72d69-b662-4867-b568-8d242f685457",
   "metadata": {},
   "outputs": [
    {
     "data": {
      "text/plain": [
       "tensor([-1.,  0.,  2.,  6.])"
      ]
     },
     "execution_count": 79,
     "metadata": {},
     "output_type": "execute_result"
    }
   ],
   "source": [
    "x-y"
   ]
  },
  {
   "cell_type": "code",
   "execution_count": 80,
   "id": "d53a1216-e777-4394-9be0-0a82a1b12d4b",
   "metadata": {},
   "outputs": [
    {
     "data": {
      "text/plain": [
       "tensor([ 2.,  4.,  8., 16.])"
      ]
     },
     "execution_count": 80,
     "metadata": {},
     "output_type": "execute_result"
    }
   ],
   "source": [
    "x*y"
   ]
  },
  {
   "cell_type": "code",
   "execution_count": 81,
   "id": "15faac48-1a91-4b63-ac6a-155caf19af96",
   "metadata": {},
   "outputs": [
    {
     "data": {
      "text/plain": [
       "tensor([ 1.,  4., 16., 64.])"
      ]
     },
     "execution_count": 81,
     "metadata": {},
     "output_type": "execute_result"
    }
   ],
   "source": [
    "x**y"
   ]
  },
  {
   "cell_type": "code",
   "execution_count": 82,
   "id": "2d967782-0733-4c87-b086-f086863534f9",
   "metadata": {},
   "outputs": [
    {
     "data": {
      "text/plain": [
       "tensor([  2.,   4.,  16., 256.])"
      ]
     },
     "execution_count": 82,
     "metadata": {},
     "output_type": "execute_result"
    }
   ],
   "source": [
    "y**x"
   ]
  },
  {
   "cell_type": "code",
   "execution_count": 84,
   "id": "ef5f98ea-4eb0-4510-b025-e95a76770896",
   "metadata": {},
   "outputs": [
    {
     "name": "stdout",
     "output_type": "stream",
     "text": [
      "Help on built-in function exp in module torch:\n",
      "\n",
      "exp(...)\n",
      "    exp(input, *, out=None) -> Tensor\n",
      "    \n",
      "    Returns a new tensor with the exponential of the elements\n",
      "    of the input tensor :attr:`input`.\n",
      "    \n",
      "    .. math::\n",
      "        y_{i} = e^{x_{i}}\n",
      "    \n",
      "    Args:\n",
      "        input (Tensor): the input tensor.\n",
      "    \n",
      "    Keyword args:\n",
      "        out (Tensor, optional): the output tensor.\n",
      "    \n",
      "    Example::\n",
      "    \n",
      "        >>> torch.exp(torch.tensor([0, math.log(2.)]))\n",
      "        tensor([ 1.,  2.])\n",
      "\n"
     ]
    }
   ],
   "source": [
    "help(torch.exp)"
   ]
  },
  {
   "cell_type": "code",
   "execution_count": 83,
   "id": "0597a0f5-49c7-45a4-b94a-25b8f8842ad7",
   "metadata": {},
   "outputs": [
    {
     "data": {
      "text/plain": [
       "tensor([2.7183e+00, 7.3891e+00, 5.4598e+01, 2.9810e+03])"
      ]
     },
     "execution_count": 83,
     "metadata": {},
     "output_type": "execute_result"
    }
   ],
   "source": [
    "# \"按元素\"方式运算\n",
    "torch.exp(x)"
   ]
  },
  {
   "cell_type": "code",
   "execution_count": 85,
   "id": "224ba98c-25f9-4941-829c-2858f7c728e6",
   "metadata": {},
   "outputs": [
    {
     "data": {
      "text/plain": [
       "2981.117410886582"
      ]
     },
     "execution_count": 85,
     "metadata": {},
     "output_type": "execute_result"
    }
   ],
   "source": [
    "2.7183**8"
   ]
  },
  {
   "cell_type": "code",
   "execution_count": 87,
   "id": "5f90ebf9-7848-44a2-9706-03e61ddf3886",
   "metadata": {},
   "outputs": [
    {
     "data": {
      "text/plain": [
       "tensor([ 0,  1,  2,  3,  4,  5,  6,  7,  8,  9, 10, 11])"
      ]
     },
     "execution_count": 87,
     "metadata": {},
     "output_type": "execute_result"
    }
   ],
   "source": [
    "X = torch.arange(12)\n",
    "X"
   ]
  },
  {
   "cell_type": "code",
   "execution_count": 88,
   "id": "58b402f8-2191-485e-bc34-d7752aa6a41d",
   "metadata": {},
   "outputs": [
    {
     "data": {
      "text/plain": [
       "torch.int64"
      ]
     },
     "execution_count": 88,
     "metadata": {},
     "output_type": "execute_result"
    }
   ],
   "source": [
    "X.dtype"
   ]
  },
  {
   "cell_type": "code",
   "execution_count": 89,
   "id": "4ec410ec-0fd3-45d8-b962-c8ea3fcb47af",
   "metadata": {},
   "outputs": [
    {
     "data": {
      "text/plain": [
       "tensor([ 0.,  1.,  2.,  3.,  4.,  5.,  6.,  7.,  8.,  9., 10., 11.])"
      ]
     },
     "execution_count": 89,
     "metadata": {},
     "output_type": "execute_result"
    }
   ],
   "source": [
    "X = torch.arange(12.)\n",
    "X"
   ]
  },
  {
   "cell_type": "code",
   "execution_count": 90,
   "id": "ee618d4e-a281-4dcb-94c7-50d5c3709629",
   "metadata": {},
   "outputs": [
    {
     "data": {
      "text/plain": [
       "torch.float32"
      ]
     },
     "execution_count": 90,
     "metadata": {},
     "output_type": "execute_result"
    }
   ],
   "source": [
    "X.dtype"
   ]
  },
  {
   "cell_type": "code",
   "execution_count": 91,
   "id": "5e725453-7fb5-4949-9a9a-dbddb33949f4",
   "metadata": {},
   "outputs": [
    {
     "data": {
      "text/plain": [
       "tensor([[ 0.,  1.,  2.,  3.],\n",
       "        [ 4.,  5.,  6.,  7.],\n",
       "        [ 8.,  9., 10., 11.]])"
      ]
     },
     "execution_count": 91,
     "metadata": {},
     "output_type": "execute_result"
    }
   ],
   "source": [
    "X = torch.arange(12, dtype=torch.float32).reshape(3,4)\n",
    "X"
   ]
  },
  {
   "cell_type": "code",
   "execution_count": 92,
   "id": "97510513-4bad-4153-94d8-467e6a1ab201",
   "metadata": {},
   "outputs": [
    {
     "data": {
      "text/plain": [
       "tensor([[2., 1., 4., 3.],\n",
       "        [1., 2., 3., 4.],\n",
       "        [4., 3., 2., 1.]])"
      ]
     },
     "execution_count": 92,
     "metadata": {},
     "output_type": "execute_result"
    }
   ],
   "source": [
    "Y = torch.tensor([[2.,1,4,3],[1,2,3,4],[4,3,2,1]])\n",
    "Y"
   ]
  },
  {
   "cell_type": "code",
   "execution_count": 93,
   "id": "84c04fca-0c24-4b42-b260-3a575cb4af65",
   "metadata": {},
   "outputs": [
    {
     "data": {
      "text/plain": [
       "torch.float32"
      ]
     },
     "execution_count": 93,
     "metadata": {},
     "output_type": "execute_result"
    }
   ],
   "source": [
    "Y.dtype"
   ]
  },
  {
   "cell_type": "code",
   "execution_count": 100,
   "id": "f85bde42-34e4-4f9e-bf8e-90dd39ed330c",
   "metadata": {
    "scrolled": true
   },
   "outputs": [
    {
     "data": {
      "text/plain": [
       "tensor([[ 0.,  1.,  2.,  3.],\n",
       "        [ 4.,  5.,  6.,  7.],\n",
       "        [ 8.,  9., 10., 11.],\n",
       "        [ 2.,  1.,  4.,  3.],\n",
       "        [ 1.,  2.,  3.,  4.],\n",
       "        [ 4.,  3.,  2.,  1.]])"
      ]
     },
     "execution_count": 100,
     "metadata": {},
     "output_type": "execute_result"
    }
   ],
   "source": [
    "# 连接多个张量，沿行（轴0）\n",
    "torch.cat((X,Y)) # 默认dim = 0"
   ]
  },
  {
   "cell_type": "code",
   "execution_count": 101,
   "id": "20ee0dbe-ef2b-4896-ac29-fdf805d76498",
   "metadata": {
    "scrolled": true
   },
   "outputs": [
    {
     "data": {
      "text/plain": [
       "tensor([[ 0.,  1.,  2.,  3.,  2.,  1.,  4.,  3.],\n",
       "        [ 4.,  5.,  6.,  7.,  1.,  2.,  3.,  4.],\n",
       "        [ 8.,  9., 10., 11.,  4.,  3.,  2.,  1.]])"
      ]
     },
     "execution_count": 101,
     "metadata": {},
     "output_type": "execute_result"
    }
   ],
   "source": [
    "# 连接多个张量，沿列（轴1）\n",
    "torch.cat((X,Y),dim=1)"
   ]
  },
  {
   "cell_type": "code",
   "execution_count": 98,
   "id": "8191a2b4-256c-4896-95cc-e345adbfd47b",
   "metadata": {
    "scrolled": true
   },
   "outputs": [
    {
     "data": {
      "text/plain": [
       "tensor([[ 2.,  1.,  4.,  3.,  0.,  1.,  2.,  3.],\n",
       "        [ 1.,  2.,  3.,  4.,  4.,  5.,  6.,  7.],\n",
       "        [ 4.,  3.,  2.,  1.,  8.,  9., 10., 11.]])"
      ]
     },
     "execution_count": 98,
     "metadata": {},
     "output_type": "execute_result"
    }
   ],
   "source": [
    "torch.cat((Y,X),dim=1)"
   ]
  },
  {
   "cell_type": "code",
   "execution_count": 102,
   "id": "ce22e674-6bb1-4a18-ac7b-9743a124a62b",
   "metadata": {},
   "outputs": [
    {
     "data": {
      "text/plain": [
       "tensor([[False,  True, False,  True],\n",
       "        [False, False, False, False],\n",
       "        [False, False, False, False]])"
      ]
     },
     "execution_count": 102,
     "metadata": {},
     "output_type": "execute_result"
    }
   ],
   "source": [
    "X==Y # 对于每个位置，如果X和Y在该位置相等，则新张量中相应荐的值为1，这意味着逻辑语句X＝＝Y在该位置处为真，否则该位置为0"
   ]
  },
  {
   "cell_type": "code",
   "execution_count": 104,
   "id": "60f6f2f0-9322-4c8f-9ef7-d14e4fa758b6",
   "metadata": {},
   "outputs": [
    {
     "name": "stdout",
     "output_type": "stream",
     "text": [
      "True\n"
     ]
    }
   ],
   "source": [
    "print(True ==1)"
   ]
  },
  {
   "cell_type": "code",
   "execution_count": 105,
   "id": "1b69923c-5680-4404-8442-c48aad701af5",
   "metadata": {},
   "outputs": [
    {
     "data": {
      "text/plain": [
       "tensor(66.)"
      ]
     },
     "execution_count": 105,
     "metadata": {},
     "output_type": "execute_result"
    }
   ],
   "source": [
    "# 对张量中的所有元素进行求和，会产生一个单元素张量\n",
    "X.sum()"
   ]
  },
  {
   "cell_type": "code",
   "execution_count": 106,
   "id": "04ef4327-ecb4-45cf-9992-d6189deb7e95",
   "metadata": {},
   "outputs": [
    {
     "data": {
      "text/plain": [
       "tensor(30.)"
      ]
     },
     "execution_count": 106,
     "metadata": {},
     "output_type": "execute_result"
    }
   ],
   "source": [
    "Y.sum()"
   ]
  },
  {
   "cell_type": "markdown",
   "id": "bf05ef2a-8576-4f4c-8bf7-5860446a3dca",
   "metadata": {},
   "source": [
    "# 2.1.3. 广播机制\n",
    "### 在某些情况下，即使形状不同，仍然可以通过调用广播机制来执行按元素操作。\n",
    "### 1. 通过适当复制元素来扩展一个或两个数组，以便在转换之后，两个张量具有相同的形状；\n",
    "### 2. 对生成的数组执行按元素操作"
   ]
  },
  {
   "cell_type": "code",
   "execution_count": 110,
   "id": "4e688153-6df9-4cca-8038-e0ea413371da",
   "metadata": {},
   "outputs": [
    {
     "data": {
      "text/plain": [
       "(tensor([[0],\n",
       "         [1],\n",
       "         [2]]),\n",
       " tensor([[0, 1]]))"
      ]
     },
     "execution_count": 110,
     "metadata": {},
     "output_type": "execute_result"
    }
   ],
   "source": [
    "# 在沿着数组中长度为1的轴进行广播\n",
    "a = torch.arange(3).reshape(3,1)\n",
    "b = torch.arange(2).reshape(1,2)\n",
    "a,b"
   ]
  },
  {
   "cell_type": "code",
   "execution_count": 112,
   "id": "0f76f104-2fc4-4e78-a743-de0322911c63",
   "metadata": {},
   "outputs": [
    {
     "data": {
      "text/plain": [
       "(torch.Size([3, 1]), torch.Size([1, 2]))"
      ]
     },
     "execution_count": 112,
     "metadata": {},
     "output_type": "execute_result"
    }
   ],
   "source": [
    "a.shape,b.shape"
   ]
  },
  {
   "cell_type": "code",
   "execution_count": 115,
   "id": "5685a04d-41d6-4551-ba08-c8f3cba8504a",
   "metadata": {},
   "outputs": [
    {
     "data": {
      "text/plain": [
       "tensor([1, 2])"
      ]
     },
     "execution_count": 115,
     "metadata": {},
     "output_type": "execute_result"
    }
   ],
   "source": [
    "x = torch.tensor([1,2])\n",
    "x"
   ]
  },
  {
   "cell_type": "code",
   "execution_count": 120,
   "id": "578820bd-8acd-449d-9c7c-46bc9422510e",
   "metadata": {},
   "outputs": [
    {
     "data": {
      "text/plain": [
       "tensor([[1],\n",
       "        [2]])"
      ]
     },
     "execution_count": 120,
     "metadata": {},
     "output_type": "execute_result"
    }
   ],
   "source": [
    "y = torch.tensor([[1],[2]])\n",
    "y"
   ]
  },
  {
   "cell_type": "code",
   "execution_count": 121,
   "id": "a8b7c7c3-2484-4480-8cec-c122c97f80dd",
   "metadata": {},
   "outputs": [
    {
     "data": {
      "text/plain": [
       "torch.Size([2, 1])"
      ]
     },
     "execution_count": 121,
     "metadata": {},
     "output_type": "execute_result"
    }
   ],
   "source": [
    "y.shape"
   ]
  },
  {
   "cell_type": "code",
   "execution_count": 122,
   "id": "94e712d4-0482-4f3b-8f43-fea1017f33f4",
   "metadata": {},
   "outputs": [
    {
     "data": {
      "text/plain": [
       "tensor([[1, 2],\n",
       "        [2, 4]])"
      ]
     },
     "execution_count": 122,
     "metadata": {},
     "output_type": "execute_result"
    }
   ],
   "source": [
    "x*y"
   ]
  },
  {
   "cell_type": "code",
   "execution_count": 123,
   "id": "873265ba-bd21-4ce2-adbb-85b49ad9141f",
   "metadata": {},
   "outputs": [
    {
     "data": {
      "text/plain": [
       "tensor([[0, 0],\n",
       "        [0, 1],\n",
       "        [0, 2]])"
      ]
     },
     "execution_count": 123,
     "metadata": {},
     "output_type": "execute_result"
    }
   ],
   "source": [
    "a*b"
   ]
  },
  {
   "cell_type": "code",
   "execution_count": 124,
   "id": "3731d911-8302-4b3f-9b54-0099658f1725",
   "metadata": {},
   "outputs": [
    {
     "data": {
      "text/plain": [
       "tensor([[0, 1],\n",
       "        [1, 2],\n",
       "        [2, 3]])"
      ]
     },
     "execution_count": 124,
     "metadata": {},
     "output_type": "execute_result"
    }
   ],
   "source": [
    "# 在数学中，只有同形状的矩阵才能相加，即同行同列\n",
    "a+b # 广播为一个更大的3＊2矩阵，即：矩阵a将复制列，矩阵b将复制行，然后再按元素相加"
   ]
  },
  {
   "cell_type": "markdown",
   "id": "cf93e0bb-4d12-4a5c-a95c-e630e094b9d3",
   "metadata": {},
   "source": [
    "# 2.1.4. 索引和切片\n",
    "### 就像python中的数组一样，张量中的元素可以通过索引访问。\n",
    "### 第一个元素的索引是0，最后一个元素索引是-1；可以指定范围以包含第一个元素和最后一个之前的元素。"
   ]
  },
  {
   "cell_type": "code",
   "execution_count": 127,
   "id": "054a61ec-6241-441a-9b89-80c7e1ae674a",
   "metadata": {},
   "outputs": [
    {
     "data": {
      "text/plain": [
       "(tensor([[ 0.,  1.,  2.,  3.],\n",
       "         [ 4.,  5.,  6.,  7.],\n",
       "         [ 8.,  9., 10., 11.]]),\n",
       " torch.Size([3, 4]))"
      ]
     },
     "execution_count": 127,
     "metadata": {},
     "output_type": "execute_result"
    }
   ],
   "source": [
    "X,X.shape"
   ]
  },
  {
   "cell_type": "code",
   "execution_count": 126,
   "id": "31fcfc54-2db2-4bb8-85b3-051e601b895b",
   "metadata": {},
   "outputs": [
    {
     "data": {
      "text/plain": [
       "tensor([ 8.,  9., 10., 11.])"
      ]
     },
     "execution_count": 126,
     "metadata": {},
     "output_type": "execute_result"
    }
   ],
   "source": [
    "X[-1]"
   ]
  },
  {
   "cell_type": "code",
   "execution_count": 128,
   "id": "3d49cbdf-026c-45de-a0f4-6a1262b0d463",
   "metadata": {},
   "outputs": [
    {
     "data": {
      "text/plain": [
       "tensor([ 8.,  9., 10., 11.])"
      ]
     },
     "execution_count": 128,
     "metadata": {},
     "output_type": "execute_result"
    }
   ],
   "source": [
    "X[2]"
   ]
  },
  {
   "cell_type": "code",
   "execution_count": 138,
   "id": "5cde61db-3243-4832-8ff6-01e2de287707",
   "metadata": {},
   "outputs": [
    {
     "data": {
      "text/plain": [
       "tensor([[ 4.,  5.,  6.,  7.],\n",
       "        [ 8.,  9., 10., 11.]])"
      ]
     },
     "execution_count": 138,
     "metadata": {},
     "output_type": "execute_result"
    }
   ],
   "source": [
    "X[1:3]"
   ]
  },
  {
   "cell_type": "code",
   "execution_count": 139,
   "id": "9feb60d5-7633-4dd2-8cad-6dabe581fea8",
   "metadata": {},
   "outputs": [
    {
     "data": {
      "text/plain": [
       "tensor([4., 5., 6., 7.])"
      ]
     },
     "execution_count": 139,
     "metadata": {},
     "output_type": "execute_result"
    }
   ],
   "source": [
    "X[1]"
   ]
  },
  {
   "cell_type": "code",
   "execution_count": 140,
   "id": "7c390d0d-a85f-4d2c-8df5-930cc3801153",
   "metadata": {},
   "outputs": [
    {
     "data": {
      "text/plain": [
       "tensor([6., 7.])"
      ]
     },
     "execution_count": 140,
     "metadata": {},
     "output_type": "execute_result"
    }
   ],
   "source": [
    "X[1,2:]"
   ]
  },
  {
   "cell_type": "code",
   "execution_count": 141,
   "id": "4cea8e0c-35d9-44fc-b3ab-7fdf708fa6d1",
   "metadata": {},
   "outputs": [
    {
     "data": {
      "text/plain": [
       "tensor([[ 6.,  7.],\n",
       "        [10., 11.]])"
      ]
     },
     "execution_count": 141,
     "metadata": {},
     "output_type": "execute_result"
    }
   ],
   "source": [
    "X[1:,2:]"
   ]
  },
  {
   "cell_type": "code",
   "execution_count": 143,
   "id": "433f8f9a-f428-49a2-ba39-beb9b3c81275",
   "metadata": {},
   "outputs": [
    {
     "data": {
      "text/plain": [
       "tensor([[ 0.,  1.,  2.,  3.],\n",
       "        [ 4.,  5.,  6.,  7.],\n",
       "        [ 8.,  9., 10., 11.]])"
      ]
     },
     "execution_count": 143,
     "metadata": {},
     "output_type": "execute_result"
    }
   ],
   "source": [
    "# 指定索引来将元素写入矩阵\n",
    "# 写入前的X\n",
    "X"
   ]
  },
  {
   "cell_type": "code",
   "execution_count": 144,
   "id": "f387b07c-ff9c-4b7d-a6fd-7815f3fc6a59",
   "metadata": {},
   "outputs": [
    {
     "data": {
      "text/plain": [
       "tensor([[ 0.,  1.,  2.,  3.],\n",
       "        [ 4.,  5.,  9.,  7.],\n",
       "        [ 8.,  9., 10., 11.]])"
      ]
     },
     "execution_count": 144,
     "metadata": {},
     "output_type": "execute_result"
    }
   ],
   "source": [
    "# 写入后的X\n",
    "X[1,2] = 9\n",
    "X"
   ]
  },
  {
   "cell_type": "code",
   "execution_count": 145,
   "id": "1add5152-1c50-47d5-83ac-9a5774f43342",
   "metadata": {},
   "outputs": [
    {
     "data": {
      "text/plain": [
       "tensor([[12., 12., 12., 12.],\n",
       "        [12., 12., 12., 12.],\n",
       "        [ 8.,  9., 10., 11.]])"
      ]
     },
     "execution_count": 145,
     "metadata": {},
     "output_type": "execute_result"
    }
   ],
   "source": [
    "X[0:2,:] = 12\n",
    "X"
   ]
  },
  {
   "cell_type": "code",
   "execution_count": 146,
   "id": "b63e60da-c197-4598-ab1c-2693a5e2ef8e",
   "metadata": {},
   "outputs": [
    {
     "data": {
      "text/plain": [
       "tensor([[12., 12., 12., 12.],\n",
       "        [12., 12., 12., 12.],\n",
       "        [ 8.,  7.,  7., 11.]])"
      ]
     },
     "execution_count": 146,
     "metadata": {},
     "output_type": "execute_result"
    }
   ],
   "source": [
    "X[2,1:3] = 7\n",
    "X"
   ]
  },
  {
   "cell_type": "markdown",
   "id": "b9f90e06-c569-438c-b027-c0b9cf4a22c9",
   "metadata": {},
   "source": [
    "# 2.1.5. 节省内存"
   ]
  },
  {
   "cell_type": "code",
   "execution_count": 151,
   "id": "f1cb0576-d1da-411b-aa7b-b467f64c6677",
   "metadata": {},
   "outputs": [
    {
     "data": {
      "text/plain": [
       "273827036153328"
      ]
     },
     "execution_count": 151,
     "metadata": {},
     "output_type": "execute_result"
    }
   ],
   "source": [
    "before = id(Y)\n",
    "before"
   ]
  },
  {
   "cell_type": "code",
   "execution_count": 152,
   "id": "8f66a889-cee8-4da1-999b-d7572ca0bf00",
   "metadata": {},
   "outputs": [],
   "source": [
    "Y += X\n",
    "b = id(Y)"
   ]
  },
  {
   "cell_type": "code",
   "execution_count": 153,
   "id": "6d390d5e-41e9-4e91-9f55-527bb6299f02",
   "metadata": {},
   "outputs": [
    {
     "data": {
      "text/plain": [
       "273827036153328"
      ]
     },
     "execution_count": 153,
     "metadata": {},
     "output_type": "execute_result"
    }
   ],
   "source": [
    "b"
   ]
  },
  {
   "cell_type": "code",
   "execution_count": 148,
   "id": "f7bffd07-c64a-423f-83d1-dc0f27353a9b",
   "metadata": {},
   "outputs": [
    {
     "data": {
      "text/plain": [
       "'torch.FloatTensor'"
      ]
     },
     "execution_count": 148,
     "metadata": {},
     "output_type": "execute_result"
    }
   ],
   "source": [
    "Y.type()"
   ]
  },
  {
   "cell_type": "code",
   "execution_count": 149,
   "id": "bd221362-b379-4333-8c9a-007345322890",
   "metadata": {},
   "outputs": [
    {
     "data": {
      "text/plain": [
       "273827036153328"
      ]
     },
     "execution_count": 149,
     "metadata": {},
     "output_type": "execute_result"
    }
   ],
   "source": [
    "Y = Y+X\n",
    "id(Y)"
   ]
  },
  {
   "cell_type": "code",
   "execution_count": 154,
   "id": "f1454f91-965d-46ff-864e-e09d7f23c743",
   "metadata": {},
   "outputs": [
    {
     "data": {
      "text/plain": [
       "tensor([[0., 0., 0., 0.],\n",
       "        [0., 0., 0., 0.],\n",
       "        [0., 0., 0., 0.]])"
      ]
     },
     "execution_count": 154,
     "metadata": {},
     "output_type": "execute_result"
    }
   ],
   "source": [
    "Z = torch.zeros_like(Y)\n",
    "Z"
   ]
  },
  {
   "cell_type": "code",
   "execution_count": 155,
   "id": "64b14895-ee95-4274-a949-b158034e7f35",
   "metadata": {},
   "outputs": [
    {
     "data": {
      "text/plain": [
       "273827036155632"
      ]
     },
     "execution_count": 155,
     "metadata": {},
     "output_type": "execute_result"
    }
   ],
   "source": [
    "id(Z)"
   ]
  },
  {
   "cell_type": "code",
   "execution_count": 156,
   "id": "0f72301c-c1fa-49c7-8b18-8beac8d9098c",
   "metadata": {},
   "outputs": [],
   "source": [
    "Z[:]=X+Y # 使用切处表示法将操作的结果分配给先前分配的数组"
   ]
  },
  {
   "cell_type": "code",
   "execution_count": 157,
   "id": "813f78af-8b7e-42a7-865e-21a70882cc84",
   "metadata": {},
   "outputs": [
    {
     "data": {
      "text/plain": [
       "273827036155632"
      ]
     },
     "execution_count": 157,
     "metadata": {},
     "output_type": "execute_result"
    }
   ],
   "source": [
    "id(Z)"
   ]
  },
  {
   "cell_type": "code",
   "execution_count": 158,
   "id": "b9fb7f4f-6c7c-4f0b-bc43-9fb9aea50d77",
   "metadata": {},
   "outputs": [],
   "source": [
    "# 切片在列表中的工作方式\n",
    "# 对于列表，切片操作会创建一个新的列表对象，但这个新列表内部的元素实际上对原始列表元素的引用。\n",
    "o = [1,2,3,4,5,6]"
   ]
  },
  {
   "cell_type": "code",
   "execution_count": 159,
   "id": "b715a9a4-42be-4706-8d9c-a82c54a06537",
   "metadata": {},
   "outputs": [
    {
     "data": {
      "text/plain": [
       "[1, 2, 3, 4, 5, 6]"
      ]
     },
     "execution_count": 159,
     "metadata": {},
     "output_type": "execute_result"
    }
   ],
   "source": [
    "o"
   ]
  },
  {
   "cell_type": "code",
   "execution_count": 163,
   "id": "77196d24-0584-47e2-8023-ed2afd492e95",
   "metadata": {},
   "outputs": [
    {
     "data": {
      "text/plain": [
       "273827048327488"
      ]
     },
     "execution_count": 163,
     "metadata": {},
     "output_type": "execute_result"
    }
   ],
   "source": [
    "id(o)"
   ]
  },
  {
   "cell_type": "code",
   "execution_count": 160,
   "id": "e69d6791-38fa-4799-a687-8ab116a433e8",
   "metadata": {},
   "outputs": [],
   "source": [
    "s = o[1:4]"
   ]
  },
  {
   "cell_type": "code",
   "execution_count": 161,
   "id": "99f00aa4-1e8a-4576-b443-20bf10da295e",
   "metadata": {},
   "outputs": [
    {
     "data": {
      "text/plain": [
       "[2, 3, 4]"
      ]
     },
     "execution_count": 161,
     "metadata": {},
     "output_type": "execute_result"
    }
   ],
   "source": [
    "s"
   ]
  },
  {
   "cell_type": "code",
   "execution_count": 164,
   "id": "5d9a0cad-3ee3-4c30-99e4-cd7039e01611",
   "metadata": {},
   "outputs": [
    {
     "data": {
      "text/plain": [
       "273827049411392"
      ]
     },
     "execution_count": 164,
     "metadata": {},
     "output_type": "execute_result"
    }
   ],
   "source": [
    "id(s)"
   ]
  },
  {
   "cell_type": "code",
   "execution_count": 162,
   "id": "b38e32ab-9eed-499c-9076-57c1dda189b0",
   "metadata": {},
   "outputs": [
    {
     "data": {
      "text/plain": [
       "[1, 2, 3, 4, 5, 6]"
      ]
     },
     "execution_count": 162,
     "metadata": {},
     "output_type": "execute_result"
    }
   ],
   "source": [
    "o"
   ]
  },
  {
   "cell_type": "code",
   "execution_count": 165,
   "id": "25d594bc-36be-4d70-a92d-a88d31ed0877",
   "metadata": {},
   "outputs": [],
   "source": [
    "o[2] = 99"
   ]
  },
  {
   "cell_type": "code",
   "execution_count": 166,
   "id": "064437f3-b05e-4bc6-a9f7-15bdd5850520",
   "metadata": {},
   "outputs": [
    {
     "data": {
      "text/plain": [
       "[1, 2, 99, 4, 5, 6]"
      ]
     },
     "execution_count": 166,
     "metadata": {},
     "output_type": "execute_result"
    }
   ],
   "source": [
    "o"
   ]
  },
  {
   "cell_type": "code",
   "execution_count": 167,
   "id": "61e40532-cf05-4406-b718-808cb75cb991",
   "metadata": {},
   "outputs": [
    {
     "data": {
      "text/plain": [
       "[2, 3, 4]"
      ]
     },
     "execution_count": 167,
     "metadata": {},
     "output_type": "execute_result"
    }
   ],
   "source": [
    "s"
   ]
  },
  {
   "cell_type": "markdown",
   "id": "b0b1a5a4-a9b7-42c8-a493-a25201a94a16",
   "metadata": {},
   "source": [
    "# 2.1.6. 转换为其他Python对象"
   ]
  },
  {
   "cell_type": "code",
   "execution_count": 169,
   "id": "1aab5ad3-e6aa-4f48-9a06-222511d171ff",
   "metadata": {},
   "outputs": [
    {
     "data": {
      "text/plain": [
       "(numpy.ndarray, torch.Tensor)"
      ]
     },
     "execution_count": 169,
     "metadata": {},
     "output_type": "execute_result"
    }
   ],
   "source": [
    "# torch和numpy数组将共享它们底层内存，操作更改一个张量也会同时更改另一个张量\n",
    "A = X.numpy()\n",
    "B = torch.tensor(A)\n",
    "type(A), type(B)"
   ]
  },
  {
   "cell_type": "code",
   "execution_count": 170,
   "id": "c1fadcc4-ccda-421f-a6a0-a177da9c6883",
   "metadata": {},
   "outputs": [],
   "source": [
    "# 将大小为1的张量转换为Python标题，可以调用item函数或python内置函数\n",
    "a = torch.tensor([3.5])"
   ]
  },
  {
   "cell_type": "code",
   "execution_count": 171,
   "id": "f2e84332-b850-4132-b3a8-5b1d09ef02a7",
   "metadata": {},
   "outputs": [
    {
     "data": {
      "text/plain": [
       "tensor([3.5000])"
      ]
     },
     "execution_count": 171,
     "metadata": {},
     "output_type": "execute_result"
    }
   ],
   "source": [
    "a"
   ]
  },
  {
   "cell_type": "code",
   "execution_count": 172,
   "id": "e8cc85df-bc7f-44c1-a53d-eb398271d57e",
   "metadata": {},
   "outputs": [
    {
     "data": {
      "text/plain": [
       "3.5"
      ]
     },
     "execution_count": 172,
     "metadata": {},
     "output_type": "execute_result"
    }
   ],
   "source": [
    "a.item()"
   ]
  },
  {
   "cell_type": "code",
   "execution_count": 173,
   "id": "78354c7e-a8e3-44b3-98e7-a64c13666f2f",
   "metadata": {},
   "outputs": [
    {
     "data": {
      "text/plain": [
       "(3.5, 3)"
      ]
     },
     "execution_count": 173,
     "metadata": {},
     "output_type": "execute_result"
    }
   ],
   "source": [
    "float(a),int(a)"
   ]
  },
  {
   "cell_type": "markdown",
   "id": "779f0030-a1a5-45ef-afb1-46bf5df5d339",
   "metadata": {},
   "source": [
    "# 2.1.7. 小结"
   ]
  },
  {
   "cell_type": "code",
   "execution_count": 175,
   "id": "dd7bf7fe-ebc6-40f7-8137-dd088ba51239",
   "metadata": {},
   "outputs": [],
   "source": [
    "# 深度学习存储和操作数据的主要接口是张量（n维数组）。它提供了各种功能，包括基本数学运算，广播，索引，切片，\n",
    "# 内存节省和转换其他Python对象"
   ]
  },
  {
   "cell_type": "markdown",
   "id": "815e487d-56cb-414a-9ec1-0b12042cb176",
   "metadata": {},
   "source": [
    "# 2.1.8. 练习"
   ]
  },
  {
   "cell_type": "code",
   "execution_count": 179,
   "id": "574bcd68-0551-42fe-97c6-3942b295cd53",
   "metadata": {},
   "outputs": [
    {
     "data": {
      "text/plain": [
       "tensor([[ 0.,  1.,  2.,  3.],\n",
       "        [ 4.,  5.,  6.,  7.],\n",
       "        [ 8.,  9., 10., 11.]])"
      ]
     },
     "execution_count": 179,
     "metadata": {},
     "output_type": "execute_result"
    }
   ],
   "source": [
    "X = torch.arange(12, dtype=torch.float32).reshape(3,4)\n",
    "X"
   ]
  },
  {
   "cell_type": "code",
   "execution_count": 180,
   "id": "db1eaba8-0df4-4394-a713-0ad79643ff90",
   "metadata": {},
   "outputs": [
    {
     "data": {
      "text/plain": [
       "tensor([[2., 1., 4., 3.],\n",
       "        [1., 2., 3., 4.],\n",
       "        [4., 3., 2., 1.]])"
      ]
     },
     "execution_count": 180,
     "metadata": {},
     "output_type": "execute_result"
    }
   ],
   "source": [
    "Y = torch.tensor([[2.,1,4,3],[1,2,3,4],[4,3,2,1]])\n",
    "Y"
   ]
  },
  {
   "cell_type": "code",
   "execution_count": 181,
   "id": "02d1d181-0b28-4a25-9911-6521cb63dde4",
   "metadata": {},
   "outputs": [
    {
     "data": {
      "text/plain": [
       "tensor([[False,  True, False,  True],\n",
       "        [False, False, False, False],\n",
       "        [False, False, False, False]])"
      ]
     },
     "execution_count": 181,
     "metadata": {},
     "output_type": "execute_result"
    }
   ],
   "source": [
    "X==Y"
   ]
  },
  {
   "cell_type": "code",
   "execution_count": 182,
   "id": "c2976eb7-39a5-41f5-aa04-770232a5f0f2",
   "metadata": {},
   "outputs": [
    {
     "data": {
      "text/plain": [
       "tensor([[False, False, False, False],\n",
       "        [ True,  True,  True,  True],\n",
       "        [ True,  True,  True,  True]])"
      ]
     },
     "execution_count": 182,
     "metadata": {},
     "output_type": "execute_result"
    }
   ],
   "source": [
    "X>Y"
   ]
  },
  {
   "cell_type": "code",
   "execution_count": 183,
   "id": "388bb842-7e37-4413-b342-04be1e774151",
   "metadata": {},
   "outputs": [
    {
     "data": {
      "text/plain": [
       "tensor([[ True, False,  True, False],\n",
       "        [False, False, False, False],\n",
       "        [False, False, False, False]])"
      ]
     },
     "execution_count": 183,
     "metadata": {},
     "output_type": "execute_result"
    }
   ],
   "source": [
    "X<Y"
   ]
  },
  {
   "cell_type": "code",
   "execution_count": 210,
   "id": "6d71d4db-dab1-4df2-8a95-ea2d11341b2d",
   "metadata": {},
   "outputs": [
    {
     "data": {
      "text/plain": [
       "tensor([[[1, 2]],\n",
       "\n",
       "        [[2, 3]],\n",
       "\n",
       "        [[3, 4]]])"
      ]
     },
     "execution_count": 210,
     "metadata": {},
     "output_type": "execute_result"
    }
   ],
   "source": [
    "a = torch.tensor([[[1,2]],[[2,3]],[[3,4]]])\n",
    "a"
   ]
  },
  {
   "cell_type": "code",
   "execution_count": 211,
   "id": "5c825ad2-5d67-4e70-a1a1-680eaf75d374",
   "metadata": {
    "scrolled": true
   },
   "outputs": [
    {
     "data": {
      "text/plain": [
       "torch.Size([3, 1, 2])"
      ]
     },
     "execution_count": 211,
     "metadata": {},
     "output_type": "execute_result"
    }
   ],
   "source": [
    "a.shape"
   ]
  },
  {
   "cell_type": "code",
   "execution_count": 212,
   "id": "7beac038-599e-482d-af40-d116ced0c289",
   "metadata": {},
   "outputs": [
    {
     "data": {
      "text/plain": [
       "tensor([[[2],\n",
       "         [4]]])"
      ]
     },
     "execution_count": 212,
     "metadata": {},
     "output_type": "execute_result"
    }
   ],
   "source": [
    "b = torch.tensor([[[2,],[4,]]])\n",
    "b"
   ]
  },
  {
   "cell_type": "code",
   "execution_count": 213,
   "id": "435428b1-ebfb-4df4-a94f-e1535cc3f68b",
   "metadata": {},
   "outputs": [
    {
     "data": {
      "text/plain": [
       "torch.Size([1, 2, 1])"
      ]
     },
     "execution_count": 213,
     "metadata": {},
     "output_type": "execute_result"
    }
   ],
   "source": [
    "b.shape"
   ]
  },
  {
   "cell_type": "code",
   "execution_count": 214,
   "id": "ee794e02-1598-4a08-b27c-d256f37e55d8",
   "metadata": {},
   "outputs": [
    {
     "data": {
      "text/plain": [
       "tensor([[[3, 4],\n",
       "         [5, 6]],\n",
       "\n",
       "        [[4, 5],\n",
       "         [6, 7]],\n",
       "\n",
       "        [[5, 6],\n",
       "         [7, 8]]])"
      ]
     },
     "execution_count": 214,
     "metadata": {},
     "output_type": "execute_result"
    }
   ],
   "source": [
    "a+b"
   ]
  },
  {
   "cell_type": "code",
   "execution_count": null,
   "id": "99490ab3-50c5-4dc8-b49e-313dfd41a9bd",
   "metadata": {},
   "outputs": [],
   "source": []
  }
 ],
 "metadata": {
  "kernelspec": {
   "display_name": "Python 3 (ipykernel)",
   "language": "python",
   "name": "python3"
  },
  "language_info": {
   "codemirror_mode": {
    "name": "ipython",
    "version": 3
   },
   "file_extension": ".py",
   "mimetype": "text/x-python",
   "name": "python",
   "nbconvert_exporter": "python",
   "pygments_lexer": "ipython3",
   "version": "3.11.7"
  }
 },
 "nbformat": 4,
 "nbformat_minor": 5
}
